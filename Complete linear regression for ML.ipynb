{
 "cells": [
  {
   "cell_type": "code",
   "execution_count": 1229,
   "id": "ddd07952",
   "metadata": {},
   "outputs": [],
   "source": [
    "import pandas as pd\n",
    "import numpy as np\n",
    "import seaborn as sns"
   ]
  },
  {
   "cell_type": "code",
   "execution_count": 1230,
   "id": "03bfecae",
   "metadata": {},
   "outputs": [
    {
     "data": {
      "text/plain": [
       "'C:\\\\Users\\\\DOREEN DOMPREH'"
      ]
     },
     "execution_count": 1230,
     "metadata": {},
     "output_type": "execute_result"
    }
   ],
   "source": [
    "pwd"
   ]
  },
  {
   "cell_type": "code",
   "execution_count": 1231,
   "id": "a3571c18",
   "metadata": {},
   "outputs": [],
   "source": [
    "df = pd.read_csv('C:/Users/DOREEN DOMPREH/Downloads/House_Price.csv', header = 0)"
   ]
  },
  {
   "cell_type": "code",
   "execution_count": 1232,
   "id": "2063436b",
   "metadata": {},
   "outputs": [
    {
     "data": {
      "text/html": [
       "<div>\n",
       "<style scoped>\n",
       "    .dataframe tbody tr th:only-of-type {\n",
       "        vertical-align: middle;\n",
       "    }\n",
       "\n",
       "    .dataframe tbody tr th {\n",
       "        vertical-align: top;\n",
       "    }\n",
       "\n",
       "    .dataframe thead th {\n",
       "        text-align: right;\n",
       "    }\n",
       "</style>\n",
       "<table border=\"1\" class=\"dataframe\">\n",
       "  <thead>\n",
       "    <tr style=\"text-align: right;\">\n",
       "      <th></th>\n",
       "      <th>price</th>\n",
       "      <th>crime_rate</th>\n",
       "      <th>resid_area</th>\n",
       "      <th>air_qual</th>\n",
       "      <th>room_num</th>\n",
       "      <th>age</th>\n",
       "      <th>dist1</th>\n",
       "      <th>dist2</th>\n",
       "      <th>dist3</th>\n",
       "      <th>dist4</th>\n",
       "      <th>teachers</th>\n",
       "      <th>poor_prop</th>\n",
       "      <th>airport</th>\n",
       "      <th>n_hos_beds</th>\n",
       "      <th>n_hot_rooms</th>\n",
       "      <th>waterbody</th>\n",
       "      <th>rainfall</th>\n",
       "      <th>bus_ter</th>\n",
       "      <th>parks</th>\n",
       "    </tr>\n",
       "  </thead>\n",
       "  <tbody>\n",
       "    <tr>\n",
       "      <th>0</th>\n",
       "      <td>24.0</td>\n",
       "      <td>0.00632</td>\n",
       "      <td>32.31</td>\n",
       "      <td>0.538</td>\n",
       "      <td>6.575</td>\n",
       "      <td>65.2</td>\n",
       "      <td>4.35</td>\n",
       "      <td>3.81</td>\n",
       "      <td>4.18</td>\n",
       "      <td>4.01</td>\n",
       "      <td>24.7</td>\n",
       "      <td>4.98</td>\n",
       "      <td>YES</td>\n",
       "      <td>5.480</td>\n",
       "      <td>11.1920</td>\n",
       "      <td>River</td>\n",
       "      <td>23</td>\n",
       "      <td>YES</td>\n",
       "      <td>0.049347</td>\n",
       "    </tr>\n",
       "    <tr>\n",
       "      <th>1</th>\n",
       "      <td>21.6</td>\n",
       "      <td>0.02731</td>\n",
       "      <td>37.07</td>\n",
       "      <td>0.469</td>\n",
       "      <td>6.421</td>\n",
       "      <td>78.9</td>\n",
       "      <td>4.99</td>\n",
       "      <td>4.70</td>\n",
       "      <td>5.12</td>\n",
       "      <td>5.06</td>\n",
       "      <td>22.2</td>\n",
       "      <td>9.14</td>\n",
       "      <td>NO</td>\n",
       "      <td>7.332</td>\n",
       "      <td>12.1728</td>\n",
       "      <td>Lake</td>\n",
       "      <td>42</td>\n",
       "      <td>YES</td>\n",
       "      <td>0.046146</td>\n",
       "    </tr>\n",
       "    <tr>\n",
       "      <th>2</th>\n",
       "      <td>34.7</td>\n",
       "      <td>0.02729</td>\n",
       "      <td>37.07</td>\n",
       "      <td>0.469</td>\n",
       "      <td>7.185</td>\n",
       "      <td>61.1</td>\n",
       "      <td>5.03</td>\n",
       "      <td>4.86</td>\n",
       "      <td>5.01</td>\n",
       "      <td>4.97</td>\n",
       "      <td>22.2</td>\n",
       "      <td>4.03</td>\n",
       "      <td>NO</td>\n",
       "      <td>7.394</td>\n",
       "      <td>101.1200</td>\n",
       "      <td>NaN</td>\n",
       "      <td>38</td>\n",
       "      <td>YES</td>\n",
       "      <td>0.045764</td>\n",
       "    </tr>\n",
       "    <tr>\n",
       "      <th>3</th>\n",
       "      <td>33.4</td>\n",
       "      <td>0.03237</td>\n",
       "      <td>32.18</td>\n",
       "      <td>0.458</td>\n",
       "      <td>6.998</td>\n",
       "      <td>45.8</td>\n",
       "      <td>6.21</td>\n",
       "      <td>5.93</td>\n",
       "      <td>6.16</td>\n",
       "      <td>5.96</td>\n",
       "      <td>21.3</td>\n",
       "      <td>2.94</td>\n",
       "      <td>YES</td>\n",
       "      <td>9.268</td>\n",
       "      <td>11.2672</td>\n",
       "      <td>Lake</td>\n",
       "      <td>45</td>\n",
       "      <td>YES</td>\n",
       "      <td>0.047151</td>\n",
       "    </tr>\n",
       "    <tr>\n",
       "      <th>4</th>\n",
       "      <td>36.2</td>\n",
       "      <td>0.06905</td>\n",
       "      <td>32.18</td>\n",
       "      <td>0.458</td>\n",
       "      <td>7.147</td>\n",
       "      <td>54.2</td>\n",
       "      <td>6.16</td>\n",
       "      <td>5.86</td>\n",
       "      <td>6.37</td>\n",
       "      <td>5.86</td>\n",
       "      <td>21.3</td>\n",
       "      <td>5.33</td>\n",
       "      <td>NO</td>\n",
       "      <td>8.824</td>\n",
       "      <td>11.2896</td>\n",
       "      <td>Lake</td>\n",
       "      <td>55</td>\n",
       "      <td>YES</td>\n",
       "      <td>0.039474</td>\n",
       "    </tr>\n",
       "  </tbody>\n",
       "</table>\n",
       "</div>"
      ],
      "text/plain": [
       "   price  crime_rate  resid_area  air_qual  room_num   age  dist1  dist2  \\\n",
       "0   24.0     0.00632       32.31     0.538     6.575  65.2   4.35   3.81   \n",
       "1   21.6     0.02731       37.07     0.469     6.421  78.9   4.99   4.70   \n",
       "2   34.7     0.02729       37.07     0.469     7.185  61.1   5.03   4.86   \n",
       "3   33.4     0.03237       32.18     0.458     6.998  45.8   6.21   5.93   \n",
       "4   36.2     0.06905       32.18     0.458     7.147  54.2   6.16   5.86   \n",
       "\n",
       "   dist3  dist4  teachers  poor_prop airport  n_hos_beds  n_hot_rooms  \\\n",
       "0   4.18   4.01      24.7       4.98     YES       5.480      11.1920   \n",
       "1   5.12   5.06      22.2       9.14      NO       7.332      12.1728   \n",
       "2   5.01   4.97      22.2       4.03      NO       7.394     101.1200   \n",
       "3   6.16   5.96      21.3       2.94     YES       9.268      11.2672   \n",
       "4   6.37   5.86      21.3       5.33      NO       8.824      11.2896   \n",
       "\n",
       "  waterbody  rainfall bus_ter     parks  \n",
       "0     River        23     YES  0.049347  \n",
       "1      Lake        42     YES  0.046146  \n",
       "2       NaN        38     YES  0.045764  \n",
       "3      Lake        45     YES  0.047151  \n",
       "4      Lake        55     YES  0.039474  "
      ]
     },
     "execution_count": 1232,
     "metadata": {},
     "output_type": "execute_result"
    }
   ],
   "source": [
    "df.head()"
   ]
  },
  {
   "cell_type": "code",
   "execution_count": 1233,
   "id": "bf2734d2",
   "metadata": {},
   "outputs": [
    {
     "data": {
      "text/plain": [
       "(506, 19)"
      ]
     },
     "execution_count": 1233,
     "metadata": {},
     "output_type": "execute_result"
    }
   ],
   "source": [
    "df.shape"
   ]
  },
  {
   "cell_type": "code",
   "execution_count": 1234,
   "id": "42363f01",
   "metadata": {},
   "outputs": [
    {
     "data": {
      "text/html": [
       "<div>\n",
       "<style scoped>\n",
       "    .dataframe tbody tr th:only-of-type {\n",
       "        vertical-align: middle;\n",
       "    }\n",
       "\n",
       "    .dataframe tbody tr th {\n",
       "        vertical-align: top;\n",
       "    }\n",
       "\n",
       "    .dataframe thead th {\n",
       "        text-align: right;\n",
       "    }\n",
       "</style>\n",
       "<table border=\"1\" class=\"dataframe\">\n",
       "  <thead>\n",
       "    <tr style=\"text-align: right;\">\n",
       "      <th></th>\n",
       "      <th>price</th>\n",
       "      <th>crime_rate</th>\n",
       "      <th>resid_area</th>\n",
       "      <th>air_qual</th>\n",
       "      <th>room_num</th>\n",
       "      <th>age</th>\n",
       "      <th>dist1</th>\n",
       "      <th>dist2</th>\n",
       "      <th>dist3</th>\n",
       "      <th>dist4</th>\n",
       "      <th>teachers</th>\n",
       "      <th>poor_prop</th>\n",
       "      <th>n_hos_beds</th>\n",
       "      <th>n_hot_rooms</th>\n",
       "      <th>rainfall</th>\n",
       "      <th>parks</th>\n",
       "    </tr>\n",
       "  </thead>\n",
       "  <tbody>\n",
       "    <tr>\n",
       "      <th>count</th>\n",
       "      <td>506.000000</td>\n",
       "      <td>506.000000</td>\n",
       "      <td>506.000000</td>\n",
       "      <td>506.000000</td>\n",
       "      <td>506.000000</td>\n",
       "      <td>506.000000</td>\n",
       "      <td>506.000000</td>\n",
       "      <td>506.000000</td>\n",
       "      <td>506.000000</td>\n",
       "      <td>506.000000</td>\n",
       "      <td>506.000000</td>\n",
       "      <td>506.000000</td>\n",
       "      <td>498.000000</td>\n",
       "      <td>506.000000</td>\n",
       "      <td>506.000000</td>\n",
       "      <td>506.000000</td>\n",
       "    </tr>\n",
       "    <tr>\n",
       "      <th>mean</th>\n",
       "      <td>22.528854</td>\n",
       "      <td>3.613524</td>\n",
       "      <td>41.136779</td>\n",
       "      <td>0.554695</td>\n",
       "      <td>6.284634</td>\n",
       "      <td>68.574901</td>\n",
       "      <td>3.971996</td>\n",
       "      <td>3.628775</td>\n",
       "      <td>3.960672</td>\n",
       "      <td>3.618972</td>\n",
       "      <td>21.544466</td>\n",
       "      <td>12.653063</td>\n",
       "      <td>7.899767</td>\n",
       "      <td>13.041605</td>\n",
       "      <td>39.181818</td>\n",
       "      <td>0.054454</td>\n",
       "    </tr>\n",
       "    <tr>\n",
       "      <th>std</th>\n",
       "      <td>9.182176</td>\n",
       "      <td>8.601545</td>\n",
       "      <td>6.860353</td>\n",
       "      <td>0.115878</td>\n",
       "      <td>0.702617</td>\n",
       "      <td>28.148861</td>\n",
       "      <td>2.108532</td>\n",
       "      <td>2.108580</td>\n",
       "      <td>2.119797</td>\n",
       "      <td>2.099203</td>\n",
       "      <td>2.164946</td>\n",
       "      <td>7.141062</td>\n",
       "      <td>1.476683</td>\n",
       "      <td>5.238957</td>\n",
       "      <td>12.513697</td>\n",
       "      <td>0.010632</td>\n",
       "    </tr>\n",
       "    <tr>\n",
       "      <th>min</th>\n",
       "      <td>5.000000</td>\n",
       "      <td>0.006320</td>\n",
       "      <td>30.460000</td>\n",
       "      <td>0.385000</td>\n",
       "      <td>3.561000</td>\n",
       "      <td>2.900000</td>\n",
       "      <td>1.130000</td>\n",
       "      <td>0.920000</td>\n",
       "      <td>1.150000</td>\n",
       "      <td>0.730000</td>\n",
       "      <td>18.000000</td>\n",
       "      <td>1.730000</td>\n",
       "      <td>5.268000</td>\n",
       "      <td>10.057600</td>\n",
       "      <td>3.000000</td>\n",
       "      <td>0.033292</td>\n",
       "    </tr>\n",
       "    <tr>\n",
       "      <th>25%</th>\n",
       "      <td>17.025000</td>\n",
       "      <td>0.082045</td>\n",
       "      <td>35.190000</td>\n",
       "      <td>0.449000</td>\n",
       "      <td>5.885500</td>\n",
       "      <td>45.025000</td>\n",
       "      <td>2.270000</td>\n",
       "      <td>1.940000</td>\n",
       "      <td>2.232500</td>\n",
       "      <td>1.940000</td>\n",
       "      <td>19.800000</td>\n",
       "      <td>6.950000</td>\n",
       "      <td>6.634500</td>\n",
       "      <td>11.189800</td>\n",
       "      <td>28.000000</td>\n",
       "      <td>0.046464</td>\n",
       "    </tr>\n",
       "    <tr>\n",
       "      <th>50%</th>\n",
       "      <td>21.200000</td>\n",
       "      <td>0.256510</td>\n",
       "      <td>39.690000</td>\n",
       "      <td>0.538000</td>\n",
       "      <td>6.208500</td>\n",
       "      <td>77.500000</td>\n",
       "      <td>3.385000</td>\n",
       "      <td>3.010000</td>\n",
       "      <td>3.375000</td>\n",
       "      <td>3.070000</td>\n",
       "      <td>20.950000</td>\n",
       "      <td>11.360000</td>\n",
       "      <td>7.999000</td>\n",
       "      <td>12.720000</td>\n",
       "      <td>39.000000</td>\n",
       "      <td>0.053507</td>\n",
       "    </tr>\n",
       "    <tr>\n",
       "      <th>75%</th>\n",
       "      <td>25.000000</td>\n",
       "      <td>3.677083</td>\n",
       "      <td>48.100000</td>\n",
       "      <td>0.624000</td>\n",
       "      <td>6.623500</td>\n",
       "      <td>94.075000</td>\n",
       "      <td>5.367500</td>\n",
       "      <td>4.992500</td>\n",
       "      <td>5.407500</td>\n",
       "      <td>4.985000</td>\n",
       "      <td>22.600000</td>\n",
       "      <td>16.955000</td>\n",
       "      <td>9.088000</td>\n",
       "      <td>14.170800</td>\n",
       "      <td>50.000000</td>\n",
       "      <td>0.061397</td>\n",
       "    </tr>\n",
       "    <tr>\n",
       "      <th>max</th>\n",
       "      <td>50.000000</td>\n",
       "      <td>88.976200</td>\n",
       "      <td>57.740000</td>\n",
       "      <td>0.871000</td>\n",
       "      <td>8.780000</td>\n",
       "      <td>100.000000</td>\n",
       "      <td>12.320000</td>\n",
       "      <td>11.930000</td>\n",
       "      <td>12.320000</td>\n",
       "      <td>11.940000</td>\n",
       "      <td>27.400000</td>\n",
       "      <td>37.970000</td>\n",
       "      <td>10.876000</td>\n",
       "      <td>101.120000</td>\n",
       "      <td>60.000000</td>\n",
       "      <td>0.086711</td>\n",
       "    </tr>\n",
       "  </tbody>\n",
       "</table>\n",
       "</div>"
      ],
      "text/plain": [
       "            price  crime_rate  resid_area    air_qual    room_num         age  \\\n",
       "count  506.000000  506.000000  506.000000  506.000000  506.000000  506.000000   \n",
       "mean    22.528854    3.613524   41.136779    0.554695    6.284634   68.574901   \n",
       "std      9.182176    8.601545    6.860353    0.115878    0.702617   28.148861   \n",
       "min      5.000000    0.006320   30.460000    0.385000    3.561000    2.900000   \n",
       "25%     17.025000    0.082045   35.190000    0.449000    5.885500   45.025000   \n",
       "50%     21.200000    0.256510   39.690000    0.538000    6.208500   77.500000   \n",
       "75%     25.000000    3.677083   48.100000    0.624000    6.623500   94.075000   \n",
       "max     50.000000   88.976200   57.740000    0.871000    8.780000  100.000000   \n",
       "\n",
       "            dist1       dist2       dist3       dist4    teachers   poor_prop  \\\n",
       "count  506.000000  506.000000  506.000000  506.000000  506.000000  506.000000   \n",
       "mean     3.971996    3.628775    3.960672    3.618972   21.544466   12.653063   \n",
       "std      2.108532    2.108580    2.119797    2.099203    2.164946    7.141062   \n",
       "min      1.130000    0.920000    1.150000    0.730000   18.000000    1.730000   \n",
       "25%      2.270000    1.940000    2.232500    1.940000   19.800000    6.950000   \n",
       "50%      3.385000    3.010000    3.375000    3.070000   20.950000   11.360000   \n",
       "75%      5.367500    4.992500    5.407500    4.985000   22.600000   16.955000   \n",
       "max     12.320000   11.930000   12.320000   11.940000   27.400000   37.970000   \n",
       "\n",
       "       n_hos_beds  n_hot_rooms    rainfall       parks  \n",
       "count  498.000000   506.000000  506.000000  506.000000  \n",
       "mean     7.899767    13.041605   39.181818    0.054454  \n",
       "std      1.476683     5.238957   12.513697    0.010632  \n",
       "min      5.268000    10.057600    3.000000    0.033292  \n",
       "25%      6.634500    11.189800   28.000000    0.046464  \n",
       "50%      7.999000    12.720000   39.000000    0.053507  \n",
       "75%      9.088000    14.170800   50.000000    0.061397  \n",
       "max     10.876000   101.120000   60.000000    0.086711  "
      ]
     },
     "execution_count": 1234,
     "metadata": {},
     "output_type": "execute_result"
    }
   ],
   "source": [
    "df.describe()"
   ]
  },
  {
   "cell_type": "code",
   "execution_count": 1235,
   "id": "78eec749",
   "metadata": {},
   "outputs": [],
   "source": [
    "# df.describe()"
   ]
  },
  {
   "cell_type": "code",
   "execution_count": 1236,
   "id": "c6ea1e2e",
   "metadata": {},
   "outputs": [
    {
     "data": {
      "text/plain": [
       "<seaborn.axisgrid.JointGrid at 0x22f5b28bac0>"
      ]
     },
     "execution_count": 1236,
     "metadata": {},
     "output_type": "execute_result"
    },
    {
     "data": {
      "image/png": "[encoded data removed]",
      "text/plain": [
       "<Figure size 600x600 with 3 Axes>"
      ]
     },
     "metadata": {},
     "output_type": "display_data"
    }
   ],
   "source": [
    "sns.jointplot(x='rainfall',y='price',data=df)"
   ]
  },
  {
   "cell_type": "code",
   "execution_count": 1237,
   "id": "3d986ea1",
   "metadata": {},
   "outputs": [
    {
     "data": {
      "text/plain": [
       "<seaborn.axisgrid.JointGrid at 0x22f58dfa0a0>"
      ]
     },
     "execution_count": 1237,
     "metadata": {},
     "output_type": "execute_result"
    },
    {
     "data": {
      "image/png": "[encoded data removed]",
      "text/plain": [
       "<Figure size 600x600 with 3 Axes>"
      ]
     },
     "metadata": {},
     "output_type": "display_data"
    }
   ],
   "source": [
    "sns.jointplot(x='n_hot_rooms',y='price',data=df)"
   ]
  },
  {
   "cell_type": "code",
   "execution_count": 1238,
   "id": "ed1b48e7",
   "metadata": {},
   "outputs": [
    {
     "data": {
      "text/plain": [
       "<seaborn.axisgrid.JointGrid at 0x22f5b7f7a00>"
      ]
     },
     "execution_count": 1238,
     "metadata": {},
     "output_type": "execute_result"
    },
    {
     "data": {
      "image/png": "[encoded data removed]",
      "text/plain": [
       "<Figure size 600x600 with 3 Axes>"
      ]
     },
     "metadata": {},
     "output_type": "display_data"
    }
   ],
   "source": [
    "sns.jointplot(x='crime_rate',y='price',data=df)"
   ]
  },
  {
   "cell_type": "code",
   "execution_count": 1239,
   "id": "f338b420",
   "metadata": {},
   "outputs": [
    {
     "data": {
      "text/plain": [
       "<Axes: xlabel='waterbody', ylabel='count'>"
      ]
     },
     "execution_count": 1239,
     "metadata": {},
     "output_type": "execute_result"
    },
    {
     "data": {
      "image/png": "[encoded data removed]",
      "text/plain": [
       "<Figure size 640x480 with 1 Axes>"
      ]
     },
     "metadata": {},
     "output_type": "display_data"
    }
   ],
   "source": [
    "sns.countplot(x='waterbody',data=df)"
   ]
  },
  {
   "cell_type": "code",
   "execution_count": 1240,
   "id": "b465f3eb",
   "metadata": {},
   "outputs": [],
   "source": [
    "df.waterbody = df.waterbody.fillna('None')"
   ]
  },
  {
   "cell_type": "code",
   "execution_count": 1241,
   "id": "2abebdf1",
   "metadata": {},
   "outputs": [
    {
     "data": {
      "text/plain": [
       "<Axes: xlabel='airport', ylabel='count'>"
      ]
     },
     "execution_count": 1241,
     "metadata": {},
     "output_type": "execute_result"
    },
    {
     "data": {
      "image/png": "[encoded data removed]",
      "text/plain": [
       "<Figure size 640x480 with 1 Axes>"
      ]
     },
     "metadata": {},
     "output_type": "display_data"
    }
   ],
   "source": [
    "sns.countplot(x='airport',data=df)"
   ]
  },
  {
   "cell_type": "code",
   "execution_count": 1242,
   "id": "fd825688",
   "metadata": {},
   "outputs": [
    {
     "data": {
      "text/plain": [
       "<Axes: xlabel='bus_ter', ylabel='count'>"
      ]
     },
     "execution_count": 1242,
     "metadata": {},
     "output_type": "execute_result"
    },
    {
     "data": {
      "image/png": "[encoded data removed]",
      "text/plain": [
       "<Figure size 640x480 with 1 Axes>"
      ]
     },
     "metadata": {},
     "output_type": "display_data"
    }
   ],
   "source": [
    "sns.countplot(x='bus_ter',data=df)"
   ]
  },
  {
   "cell_type": "code",
   "execution_count": 1243,
   "id": "7a23703c",
   "metadata": {},
   "outputs": [
    {
     "name": "stdout",
     "output_type": "stream",
     "text": [
      "<class 'pandas.core.frame.DataFrame'>\n",
      "RangeIndex: 506 entries, 0 to 505\n",
      "Data columns (total 19 columns):\n",
      " #   Column       Non-Null Count  Dtype  \n",
      "---  ------       --------------  -----  \n",
      " 0   price        506 non-null    float64\n",
      " 1   crime_rate   506 non-null    float64\n",
      " 2   resid_area   506 non-null    float64\n",
      " 3   air_qual     506 non-null    float64\n",
      " 4   room_num     506 non-null    float64\n",
      " 5   age          506 non-null    float64\n",
      " 6   dist1        506 non-null    float64\n",
      " 7   dist2        506 non-null    float64\n",
      " 8   dist3        506 non-null    float64\n",
      " 9   dist4        506 non-null    float64\n",
      " 10  teachers     506 non-null    float64\n",
      " 11  poor_prop    506 non-null    float64\n",
      " 12  airport      506 non-null    object \n",
      " 13  n_hos_beds   498 non-null    float64\n",
      " 14  n_hot_rooms  506 non-null    float64\n",
      " 15  waterbody    506 non-null    object \n",
      " 16  rainfall     506 non-null    int64  \n",
      " 17  bus_ter      506 non-null    object \n",
      " 18  parks        506 non-null    float64\n",
      "dtypes: float64(15), int64(1), object(3)\n",
      "memory usage: 75.2+ KB\n"
     ]
    }
   ],
   "source": [
    "df.info()"
   ]
  },
  {
   "cell_type": "code",
   "execution_count": 1244,
   "id": "df73a34c",
   "metadata": {},
   "outputs": [
    {
     "data": {
      "text/plain": [
       "15.39952"
      ]
     },
     "execution_count": 1244,
     "metadata": {},
     "output_type": "execute_result"
    }
   ],
   "source": [
    "np.percentile(df.n_hot_rooms, [99])[0]"
   ]
  },
  {
   "cell_type": "code",
   "execution_count": 1245,
   "id": "32e840d3",
   "metadata": {},
   "outputs": [],
   "source": [
    "uv = np.percentile(df.n_hot_rooms, [99])[0]"
   ]
  },
  {
   "cell_type": "code",
   "execution_count": 1246,
   "id": "415ccb97",
   "metadata": {},
   "outputs": [
    {
     "data": {
      "text/html": [
       "<div>\n",
       "<style scoped>\n",
       "    .dataframe tbody tr th:only-of-type {\n",
       "        vertical-align: middle;\n",
       "    }\n",
       "\n",
       "    .dataframe tbody tr th {\n",
       "        vertical-align: top;\n",
       "    }\n",
       "\n",
       "    .dataframe thead th {\n",
       "        text-align: right;\n",
       "    }\n",
       "</style>\n",
       "<table border=\"1\" class=\"dataframe\">\n",
       "  <thead>\n",
       "    <tr style=\"text-align: right;\">\n",
       "      <th></th>\n",
       "      <th>price</th>\n",
       "      <th>crime_rate</th>\n",
       "      <th>resid_area</th>\n",
       "      <th>air_qual</th>\n",
       "      <th>room_num</th>\n",
       "      <th>age</th>\n",
       "      <th>dist1</th>\n",
       "      <th>dist2</th>\n",
       "      <th>dist3</th>\n",
       "      <th>dist4</th>\n",
       "      <th>teachers</th>\n",
       "      <th>poor_prop</th>\n",
       "      <th>airport</th>\n",
       "      <th>n_hos_beds</th>\n",
       "      <th>n_hot_rooms</th>\n",
       "      <th>waterbody</th>\n",
       "      <th>rainfall</th>\n",
       "      <th>bus_ter</th>\n",
       "      <th>parks</th>\n",
       "    </tr>\n",
       "  </thead>\n",
       "  <tbody>\n",
       "    <tr>\n",
       "      <th>2</th>\n",
       "      <td>34.7</td>\n",
       "      <td>0.02729</td>\n",
       "      <td>37.07</td>\n",
       "      <td>0.4690</td>\n",
       "      <td>7.185</td>\n",
       "      <td>61.1</td>\n",
       "      <td>5.03</td>\n",
       "      <td>4.86</td>\n",
       "      <td>5.01</td>\n",
       "      <td>4.97</td>\n",
       "      <td>22.2</td>\n",
       "      <td>4.03</td>\n",
       "      <td>NO</td>\n",
       "      <td>7.394</td>\n",
       "      <td>101.12</td>\n",
       "      <td>None</td>\n",
       "      <td>38</td>\n",
       "      <td>YES</td>\n",
       "      <td>0.045764</td>\n",
       "    </tr>\n",
       "    <tr>\n",
       "      <th>166</th>\n",
       "      <td>50.0</td>\n",
       "      <td>2.01019</td>\n",
       "      <td>49.58</td>\n",
       "      <td>0.6050</td>\n",
       "      <td>7.929</td>\n",
       "      <td>96.2</td>\n",
       "      <td>2.11</td>\n",
       "      <td>1.91</td>\n",
       "      <td>2.31</td>\n",
       "      <td>1.86</td>\n",
       "      <td>25.3</td>\n",
       "      <td>3.70</td>\n",
       "      <td>YES</td>\n",
       "      <td>8.300</td>\n",
       "      <td>15.40</td>\n",
       "      <td>River</td>\n",
       "      <td>37</td>\n",
       "      <td>YES</td>\n",
       "      <td>0.052105</td>\n",
       "    </tr>\n",
       "    <tr>\n",
       "      <th>204</th>\n",
       "      <td>50.0</td>\n",
       "      <td>0.02009</td>\n",
       "      <td>32.68</td>\n",
       "      <td>0.4161</td>\n",
       "      <td>8.034</td>\n",
       "      <td>31.9</td>\n",
       "      <td>5.41</td>\n",
       "      <td>4.80</td>\n",
       "      <td>5.28</td>\n",
       "      <td>4.99</td>\n",
       "      <td>25.3</td>\n",
       "      <td>2.88</td>\n",
       "      <td>YES</td>\n",
       "      <td>8.900</td>\n",
       "      <td>15.40</td>\n",
       "      <td>River</td>\n",
       "      <td>51</td>\n",
       "      <td>YES</td>\n",
       "      <td>0.044178</td>\n",
       "    </tr>\n",
       "    <tr>\n",
       "      <th>267</th>\n",
       "      <td>50.0</td>\n",
       "      <td>0.57834</td>\n",
       "      <td>33.97</td>\n",
       "      <td>0.5750</td>\n",
       "      <td>8.297</td>\n",
       "      <td>67.0</td>\n",
       "      <td>2.60</td>\n",
       "      <td>2.13</td>\n",
       "      <td>2.43</td>\n",
       "      <td>2.52</td>\n",
       "      <td>27.0</td>\n",
       "      <td>7.44</td>\n",
       "      <td>YES</td>\n",
       "      <td>8.000</td>\n",
       "      <td>15.40</td>\n",
       "      <td>None</td>\n",
       "      <td>42</td>\n",
       "      <td>YES</td>\n",
       "      <td>0.063235</td>\n",
       "    </tr>\n",
       "    <tr>\n",
       "      <th>369</th>\n",
       "      <td>50.0</td>\n",
       "      <td>5.66998</td>\n",
       "      <td>48.10</td>\n",
       "      <td>0.6310</td>\n",
       "      <td>6.683</td>\n",
       "      <td>96.8</td>\n",
       "      <td>1.55</td>\n",
       "      <td>1.28</td>\n",
       "      <td>1.65</td>\n",
       "      <td>0.94</td>\n",
       "      <td>19.8</td>\n",
       "      <td>3.73</td>\n",
       "      <td>YES</td>\n",
       "      <td>6.700</td>\n",
       "      <td>15.40</td>\n",
       "      <td>River</td>\n",
       "      <td>58</td>\n",
       "      <td>YES</td>\n",
       "      <td>0.067477</td>\n",
       "    </tr>\n",
       "    <tr>\n",
       "      <th>423</th>\n",
       "      <td>13.4</td>\n",
       "      <td>7.05042</td>\n",
       "      <td>48.10</td>\n",
       "      <td>0.6140</td>\n",
       "      <td>6.103</td>\n",
       "      <td>85.1</td>\n",
       "      <td>2.08</td>\n",
       "      <td>1.80</td>\n",
       "      <td>2.34</td>\n",
       "      <td>1.87</td>\n",
       "      <td>19.8</td>\n",
       "      <td>23.29</td>\n",
       "      <td>NO</td>\n",
       "      <td>8.268</td>\n",
       "      <td>81.12</td>\n",
       "      <td>Lake</td>\n",
       "      <td>29</td>\n",
       "      <td>YES</td>\n",
       "      <td>0.063344</td>\n",
       "    </tr>\n",
       "  </tbody>\n",
       "</table>\n",
       "</div>"
      ],
      "text/plain": [
       "     price  crime_rate  resid_area  air_qual  room_num   age  dist1  dist2  \\\n",
       "2     34.7     0.02729       37.07    0.4690     7.185  61.1   5.03   4.86   \n",
       "166   50.0     2.01019       49.58    0.6050     7.929  96.2   2.11   1.91   \n",
       "204   50.0     0.02009       32.68    0.4161     8.034  31.9   5.41   4.80   \n",
       "267   50.0     0.57834       33.97    0.5750     8.297  67.0   2.60   2.13   \n",
       "369   50.0     5.66998       48.10    0.6310     6.683  96.8   1.55   1.28   \n",
       "423   13.4     7.05042       48.10    0.6140     6.103  85.1   2.08   1.80   \n",
       "\n",
       "     dist3  dist4  teachers  poor_prop airport  n_hos_beds  n_hot_rooms  \\\n",
       "2     5.01   4.97      22.2       4.03      NO       7.394       101.12   \n",
       "166   2.31   1.86      25.3       3.70     YES       8.300        15.40   \n",
       "204   5.28   4.99      25.3       2.88     YES       8.900        15.40   \n",
       "267   2.43   2.52      27.0       7.44     YES       8.000        15.40   \n",
       "369   1.65   0.94      19.8       3.73     YES       6.700        15.40   \n",
       "423   2.34   1.87      19.8      23.29      NO       8.268        81.12   \n",
       "\n",
       "    waterbody  rainfall bus_ter     parks  \n",
       "2        None        38     YES  0.045764  \n",
       "166     River        37     YES  0.052105  \n",
       "204     River        51     YES  0.044178  \n",
       "267      None        42     YES  0.063235  \n",
       "369     River        58     YES  0.067477  \n",
       "423      Lake        29     YES  0.063344  "
      ]
     },
     "execution_count": 1246,
     "metadata": {},
     "output_type": "execute_result"
    }
   ],
   "source": [
    "df[(df.n_hot_rooms > uv)]"
   ]
  },
  {
   "cell_type": "code",
   "execution_count": 1247,
   "id": "8588ec82",
   "metadata": {},
   "outputs": [
    {
     "name": "stderr",
     "output_type": "stream",
     "text": [
      "C:\\Users\\DOREEN DOMPREH\\AppData\\Local\\Temp\\ipykernel_4192\\1869526279.py:2: SettingWithCopyWarning: \n",
      "A value is trying to be set on a copy of a slice from a DataFrame\n",
      "\n",
      "See the caveats in the documentation: https://pandas.pydata.org/pandas-docs/stable/user_guide/indexing.html#returning-a-view-versus-a-copy\n",
      "  df.n_hot_rooms[(df.n_hot_rooms > 3 * uv)] = 3 * uv\n"
     ]
    }
   ],
   "source": [
    "# \n",
    "df.n_hot_rooms[(df.n_hot_rooms > 3 * uv)] = 3 * uv"
   ]
  },
  {
   "cell_type": "code",
   "execution_count": 1248,
   "id": "072365c1",
   "metadata": {},
   "outputs": [
    {
     "data": {
      "text/plain": [
       "20.0"
      ]
     },
     "execution_count": 1248,
     "metadata": {},
     "output_type": "execute_result"
    }
   ],
   "source": [
    "np.percentile(df.rainfall, [1])[0]"
   ]
  },
  {
   "cell_type": "code",
   "execution_count": 1249,
   "id": "e81c042d",
   "metadata": {},
   "outputs": [],
   "source": [
    "lv = np.percentile(df.rainfall, [1])[0]"
   ]
  },
  {
   "cell_type": "code",
   "execution_count": 1250,
   "id": "0fc493ae",
   "metadata": {},
   "outputs": [
    {
     "data": {
      "text/html": [
       "<div>\n",
       "<style scoped>\n",
       "    .dataframe tbody tr th:only-of-type {\n",
       "        vertical-align: middle;\n",
       "    }\n",
       "\n",
       "    .dataframe tbody tr th {\n",
       "        vertical-align: top;\n",
       "    }\n",
       "\n",
       "    .dataframe thead th {\n",
       "        text-align: right;\n",
       "    }\n",
       "</style>\n",
       "<table border=\"1\" class=\"dataframe\">\n",
       "  <thead>\n",
       "    <tr style=\"text-align: right;\">\n",
       "      <th></th>\n",
       "      <th>price</th>\n",
       "      <th>crime_rate</th>\n",
       "      <th>resid_area</th>\n",
       "      <th>air_qual</th>\n",
       "      <th>room_num</th>\n",
       "      <th>age</th>\n",
       "      <th>dist1</th>\n",
       "      <th>dist2</th>\n",
       "      <th>dist3</th>\n",
       "      <th>dist4</th>\n",
       "      <th>teachers</th>\n",
       "      <th>poor_prop</th>\n",
       "      <th>airport</th>\n",
       "      <th>n_hos_beds</th>\n",
       "      <th>n_hot_rooms</th>\n",
       "      <th>waterbody</th>\n",
       "      <th>rainfall</th>\n",
       "      <th>bus_ter</th>\n",
       "      <th>parks</th>\n",
       "    </tr>\n",
       "  </thead>\n",
       "  <tbody>\n",
       "    <tr>\n",
       "      <th>213</th>\n",
       "      <td>28.1</td>\n",
       "      <td>0.14052</td>\n",
       "      <td>40.59</td>\n",
       "      <td>0.489</td>\n",
       "      <td>6.375</td>\n",
       "      <td>32.3</td>\n",
       "      <td>4.11</td>\n",
       "      <td>3.92</td>\n",
       "      <td>4.18</td>\n",
       "      <td>3.57</td>\n",
       "      <td>21.4</td>\n",
       "      <td>9.38</td>\n",
       "      <td>YES</td>\n",
       "      <td>7.562</td>\n",
       "      <td>10.2248</td>\n",
       "      <td>None</td>\n",
       "      <td>3</td>\n",
       "      <td>YES</td>\n",
       "      <td>0.044019</td>\n",
       "    </tr>\n",
       "  </tbody>\n",
       "</table>\n",
       "</div>"
      ],
      "text/plain": [
       "     price  crime_rate  resid_area  air_qual  room_num   age  dist1  dist2  \\\n",
       "213   28.1     0.14052       40.59     0.489     6.375  32.3   4.11   3.92   \n",
       "\n",
       "     dist3  dist4  teachers  poor_prop airport  n_hos_beds  n_hot_rooms  \\\n",
       "213   4.18   3.57      21.4       9.38     YES       7.562      10.2248   \n",
       "\n",
       "    waterbody  rainfall bus_ter     parks  \n",
       "213      None         3     YES  0.044019  "
      ]
     },
     "execution_count": 1250,
     "metadata": {},
     "output_type": "execute_result"
    }
   ],
   "source": [
    "df[(df.rainfall < lv)]"
   ]
  },
  {
   "cell_type": "code",
   "execution_count": 1251,
   "id": "2a292dc2",
   "metadata": {},
   "outputs": [
    {
     "name": "stderr",
     "output_type": "stream",
     "text": [
      "C:\\Users\\DOREEN DOMPREH\\AppData\\Local\\Temp\\ipykernel_4192\\646079702.py:1: SettingWithCopyWarning: \n",
      "A value is trying to be set on a copy of a slice from a DataFrame\n",
      "\n",
      "See the caveats in the documentation: https://pandas.pydata.org/pandas-docs/stable/user_guide/indexing.html#returning-a-view-versus-a-copy\n",
      "  df.rainfall[(df.rainfall < 0.3 * uv)] = 0.3 * lv\n"
     ]
    }
   ],
   "source": [
    "df.rainfall[(df.rainfall < 0.3 * uv)] = 0.3 * lv"
   ]
  },
  {
   "cell_type": "code",
   "execution_count": 1252,
   "id": "8a53b40f",
   "metadata": {},
   "outputs": [
    {
     "data": {
      "text/plain": [
       "<seaborn.axisgrid.JointGrid at 0x22f5c48fc40>"
      ]
     },
     "execution_count": 1252,
     "metadata": {},
     "output_type": "execute_result"
    },
    {
     "data": {
      "image/png": "[encoded data removed]",
      "text/plain": [
       "<Figure size 600x600 with 3 Axes>"
      ]
     },
     "metadata": {},
     "output_type": "display_data"
    }
   ],
   "source": [
    "sns.jointplot(x='crime_rate',y='price',data=df)"
   ]
  },
  {
   "cell_type": "code",
   "execution_count": 1253,
   "id": "b4cc3706",
   "metadata": {},
   "outputs": [
    {
     "name": "stdout",
     "output_type": "stream",
     "text": [
      "<class 'pandas.core.frame.DataFrame'>\n",
      "RangeIndex: 506 entries, 0 to 505\n",
      "Data columns (total 19 columns):\n",
      " #   Column       Non-Null Count  Dtype  \n",
      "---  ------       --------------  -----  \n",
      " 0   price        506 non-null    float64\n",
      " 1   crime_rate   506 non-null    float64\n",
      " 2   resid_area   506 non-null    float64\n",
      " 3   air_qual     506 non-null    float64\n",
      " 4   room_num     506 non-null    float64\n",
      " 5   age          506 non-null    float64\n",
      " 6   dist1        506 non-null    float64\n",
      " 7   dist2        506 non-null    float64\n",
      " 8   dist3        506 non-null    float64\n",
      " 9   dist4        506 non-null    float64\n",
      " 10  teachers     506 non-null    float64\n",
      " 11  poor_prop    506 non-null    float64\n",
      " 12  airport      506 non-null    object \n",
      " 13  n_hos_beds   498 non-null    float64\n",
      " 14  n_hot_rooms  506 non-null    float64\n",
      " 15  waterbody    506 non-null    object \n",
      " 16  rainfall     506 non-null    int64  \n",
      " 17  bus_ter      506 non-null    object \n",
      " 18  parks        506 non-null    float64\n",
      "dtypes: float64(15), int64(1), object(3)\n",
      "memory usage: 75.2+ KB\n"
     ]
    }
   ],
   "source": [
    "df.info()"
   ]
  },
  {
   "cell_type": "code",
   "execution_count": 1254,
   "id": "393369e9",
   "metadata": {},
   "outputs": [],
   "source": [
    "# Assuming 'your_column' is the column you want to fill NaN values in\n",
    "df['n_hos_beds'].fillna(df['n_hos_beds'].mean(), inplace=True)\n",
    "\n",
    "# df = df.fillna('mean')\n",
    "# Assuming df is your DataFrame\n",
    "# df = df.fillna(df.mean())\n"
   ]
  },
  {
   "cell_type": "code",
   "execution_count": 1255,
   "id": "63230f8f",
   "metadata": {},
   "outputs": [
    {
     "name": "stdout",
     "output_type": "stream",
     "text": [
      "<class 'pandas.core.frame.DataFrame'>\n",
      "RangeIndex: 506 entries, 0 to 505\n",
      "Data columns (total 19 columns):\n",
      " #   Column       Non-Null Count  Dtype  \n",
      "---  ------       --------------  -----  \n",
      " 0   price        506 non-null    float64\n",
      " 1   crime_rate   506 non-null    float64\n",
      " 2   resid_area   506 non-null    float64\n",
      " 3   air_qual     506 non-null    float64\n",
      " 4   room_num     506 non-null    float64\n",
      " 5   age          506 non-null    float64\n",
      " 6   dist1        506 non-null    float64\n",
      " 7   dist2        506 non-null    float64\n",
      " 8   dist3        506 non-null    float64\n",
      " 9   dist4        506 non-null    float64\n",
      " 10  teachers     506 non-null    float64\n",
      " 11  poor_prop    506 non-null    float64\n",
      " 12  airport      506 non-null    object \n",
      " 13  n_hos_beds   506 non-null    float64\n",
      " 14  n_hot_rooms  506 non-null    float64\n",
      " 15  waterbody    506 non-null    object \n",
      " 16  rainfall     506 non-null    int64  \n",
      " 17  bus_ter      506 non-null    object \n",
      " 18  parks        506 non-null    float64\n",
      "dtypes: float64(15), int64(1), object(3)\n",
      "memory usage: 75.2+ KB\n"
     ]
    }
   ],
   "source": [
    "df.info()"
   ]
  },
  {
   "cell_type": "code",
   "execution_count": 1256,
   "id": "ae9e9f59",
   "metadata": {},
   "outputs": [],
   "source": [
    "df.crime_rate = np.log(1 + df.crime_rate)"
   ]
  },
  {
   "cell_type": "code",
   "execution_count": 1257,
   "id": "4a4fa1b0",
   "metadata": {},
   "outputs": [
    {
     "data": {
      "text/plain": [
       "<seaborn.axisgrid.JointGrid at 0x22f5c488c10>"
      ]
     },
     "execution_count": 1257,
     "metadata": {},
     "output_type": "execute_result"
    },
    {
     "data": {
      "image/png": "[encoded data removed]",
      "text/plain": [
       "<Figure size 600x600 with 3 Axes>"
      ]
     },
     "metadata": {},
     "output_type": "display_data"
    }
   ],
   "source": [
    "sns.jointplot(x='crime_rate',y='price',data=df)"
   ]
  },
  {
   "cell_type": "code",
   "execution_count": 1258,
   "id": "9302b515",
   "metadata": {},
   "outputs": [],
   "source": [
    "df['avg_dist'] = (df.dist1 + df.dist2 + df.dist3 + df.dist4) / 4"
   ]
  },
  {
   "cell_type": "code",
   "execution_count": 1259,
   "id": "d9d2ce15",
   "metadata": {},
   "outputs": [
    {
     "data": {
      "text/html": [
       "<div>\n",
       "<style scoped>\n",
       "    .dataframe tbody tr th:only-of-type {\n",
       "        vertical-align: middle;\n",
       "    }\n",
       "\n",
       "    .dataframe tbody tr th {\n",
       "        vertical-align: top;\n",
       "    }\n",
       "\n",
       "    .dataframe thead th {\n",
       "        text-align: right;\n",
       "    }\n",
       "</style>\n",
       "<table border=\"1\" class=\"dataframe\">\n",
       "  <thead>\n",
       "    <tr style=\"text-align: right;\">\n",
       "      <th></th>\n",
       "      <th>price</th>\n",
       "      <th>crime_rate</th>\n",
       "      <th>resid_area</th>\n",
       "      <th>air_qual</th>\n",
       "      <th>room_num</th>\n",
       "      <th>age</th>\n",
       "      <th>dist1</th>\n",
       "      <th>dist2</th>\n",
       "      <th>dist3</th>\n",
       "      <th>dist4</th>\n",
       "      <th>teachers</th>\n",
       "      <th>poor_prop</th>\n",
       "      <th>n_hos_beds</th>\n",
       "      <th>n_hot_rooms</th>\n",
       "      <th>rainfall</th>\n",
       "      <th>parks</th>\n",
       "      <th>avg_dist</th>\n",
       "    </tr>\n",
       "  </thead>\n",
       "  <tbody>\n",
       "    <tr>\n",
       "      <th>count</th>\n",
       "      <td>506.000000</td>\n",
       "      <td>506.000000</td>\n",
       "      <td>506.000000</td>\n",
       "      <td>506.000000</td>\n",
       "      <td>506.000000</td>\n",
       "      <td>506.000000</td>\n",
       "      <td>506.000000</td>\n",
       "      <td>506.000000</td>\n",
       "      <td>506.000000</td>\n",
       "      <td>506.000000</td>\n",
       "      <td>506.000000</td>\n",
       "      <td>506.000000</td>\n",
       "      <td>506.000000</td>\n",
       "      <td>506.000000</td>\n",
       "      <td>506.000000</td>\n",
       "      <td>506.000000</td>\n",
       "      <td>506.000000</td>\n",
       "    </tr>\n",
       "    <tr>\n",
       "      <th>mean</th>\n",
       "      <td>22.528854</td>\n",
       "      <td>0.813418</td>\n",
       "      <td>41.136779</td>\n",
       "      <td>0.554695</td>\n",
       "      <td>6.284634</td>\n",
       "      <td>68.574901</td>\n",
       "      <td>3.971996</td>\n",
       "      <td>3.628775</td>\n",
       "      <td>3.960672</td>\n",
       "      <td>3.618972</td>\n",
       "      <td>21.544466</td>\n",
       "      <td>12.653063</td>\n",
       "      <td>7.899767</td>\n",
       "      <td>12.864050</td>\n",
       "      <td>39.187747</td>\n",
       "      <td>0.054454</td>\n",
       "      <td>3.795104</td>\n",
       "    </tr>\n",
       "    <tr>\n",
       "      <th>std</th>\n",
       "      <td>9.182176</td>\n",
       "      <td>1.022731</td>\n",
       "      <td>6.860353</td>\n",
       "      <td>0.115878</td>\n",
       "      <td>0.702617</td>\n",
       "      <td>28.148861</td>\n",
       "      <td>2.108532</td>\n",
       "      <td>2.108580</td>\n",
       "      <td>2.119797</td>\n",
       "      <td>2.099203</td>\n",
       "      <td>2.164946</td>\n",
       "      <td>7.141062</td>\n",
       "      <td>1.464939</td>\n",
       "      <td>2.688778</td>\n",
       "      <td>12.497221</td>\n",
       "      <td>0.010632</td>\n",
       "      <td>2.105859</td>\n",
       "    </tr>\n",
       "    <tr>\n",
       "      <th>min</th>\n",
       "      <td>5.000000</td>\n",
       "      <td>0.006300</td>\n",
       "      <td>30.460000</td>\n",
       "      <td>0.385000</td>\n",
       "      <td>3.561000</td>\n",
       "      <td>2.900000</td>\n",
       "      <td>1.130000</td>\n",
       "      <td>0.920000</td>\n",
       "      <td>1.150000</td>\n",
       "      <td>0.730000</td>\n",
       "      <td>18.000000</td>\n",
       "      <td>1.730000</td>\n",
       "      <td>5.268000</td>\n",
       "      <td>10.057600</td>\n",
       "      <td>6.000000</td>\n",
       "      <td>0.033292</td>\n",
       "      <td>1.127500</td>\n",
       "    </tr>\n",
       "    <tr>\n",
       "      <th>25%</th>\n",
       "      <td>17.025000</td>\n",
       "      <td>0.078853</td>\n",
       "      <td>35.190000</td>\n",
       "      <td>0.449000</td>\n",
       "      <td>5.885500</td>\n",
       "      <td>45.025000</td>\n",
       "      <td>2.270000</td>\n",
       "      <td>1.940000</td>\n",
       "      <td>2.232500</td>\n",
       "      <td>1.940000</td>\n",
       "      <td>19.800000</td>\n",
       "      <td>6.950000</td>\n",
       "      <td>6.659000</td>\n",
       "      <td>11.189800</td>\n",
       "      <td>28.000000</td>\n",
       "      <td>0.046464</td>\n",
       "      <td>2.100625</td>\n",
       "    </tr>\n",
       "    <tr>\n",
       "      <th>50%</th>\n",
       "      <td>21.200000</td>\n",
       "      <td>0.228336</td>\n",
       "      <td>39.690000</td>\n",
       "      <td>0.538000</td>\n",
       "      <td>6.208500</td>\n",
       "      <td>77.500000</td>\n",
       "      <td>3.385000</td>\n",
       "      <td>3.010000</td>\n",
       "      <td>3.375000</td>\n",
       "      <td>3.070000</td>\n",
       "      <td>20.950000</td>\n",
       "      <td>11.360000</td>\n",
       "      <td>7.963000</td>\n",
       "      <td>12.720000</td>\n",
       "      <td>39.000000</td>\n",
       "      <td>0.053507</td>\n",
       "      <td>3.207500</td>\n",
       "    </tr>\n",
       "    <tr>\n",
       "      <th>75%</th>\n",
       "      <td>25.000000</td>\n",
       "      <td>1.542674</td>\n",
       "      <td>48.100000</td>\n",
       "      <td>0.624000</td>\n",
       "      <td>6.623500</td>\n",
       "      <td>94.075000</td>\n",
       "      <td>5.367500</td>\n",
       "      <td>4.992500</td>\n",
       "      <td>5.407500</td>\n",
       "      <td>4.985000</td>\n",
       "      <td>22.600000</td>\n",
       "      <td>16.955000</td>\n",
       "      <td>9.076000</td>\n",
       "      <td>14.170800</td>\n",
       "      <td>50.000000</td>\n",
       "      <td>0.061397</td>\n",
       "      <td>5.187500</td>\n",
       "    </tr>\n",
       "    <tr>\n",
       "      <th>max</th>\n",
       "      <td>50.000000</td>\n",
       "      <td>4.499545</td>\n",
       "      <td>57.740000</td>\n",
       "      <td>0.871000</td>\n",
       "      <td>8.780000</td>\n",
       "      <td>100.000000</td>\n",
       "      <td>12.320000</td>\n",
       "      <td>11.930000</td>\n",
       "      <td>12.320000</td>\n",
       "      <td>11.940000</td>\n",
       "      <td>27.400000</td>\n",
       "      <td>37.970000</td>\n",
       "      <td>10.876000</td>\n",
       "      <td>46.198560</td>\n",
       "      <td>60.000000</td>\n",
       "      <td>0.086711</td>\n",
       "      <td>12.127500</td>\n",
       "    </tr>\n",
       "  </tbody>\n",
       "</table>\n",
       "</div>"
      ],
      "text/plain": [
       "            price  crime_rate  resid_area    air_qual    room_num         age  \\\n",
       "count  506.000000  506.000000  506.000000  506.000000  506.000000  506.000000   \n",
       "mean    22.528854    0.813418   41.136779    0.554695    6.284634   68.574901   \n",
       "std      9.182176    1.022731    6.860353    0.115878    0.702617   28.148861   \n",
       "min      5.000000    0.006300   30.460000    0.385000    3.561000    2.900000   \n",
       "25%     17.025000    0.078853   35.190000    0.449000    5.885500   45.025000   \n",
       "50%     21.200000    0.228336   39.690000    0.538000    6.208500   77.500000   \n",
       "75%     25.000000    1.542674   48.100000    0.624000    6.623500   94.075000   \n",
       "max     50.000000    4.499545   57.740000    0.871000    8.780000  100.000000   \n",
       "\n",
       "            dist1       dist2       dist3       dist4    teachers   poor_prop  \\\n",
       "count  506.000000  506.000000  506.000000  506.000000  506.000000  506.000000   \n",
       "mean     3.971996    3.628775    3.960672    3.618972   21.544466   12.653063   \n",
       "std      2.108532    2.108580    2.119797    2.099203    2.164946    7.141062   \n",
       "min      1.130000    0.920000    1.150000    0.730000   18.000000    1.730000   \n",
       "25%      2.270000    1.940000    2.232500    1.940000   19.800000    6.950000   \n",
       "50%      3.385000    3.010000    3.375000    3.070000   20.950000   11.360000   \n",
       "75%      5.367500    4.992500    5.407500    4.985000   22.600000   16.955000   \n",
       "max     12.320000   11.930000   12.320000   11.940000   27.400000   37.970000   \n",
       "\n",
       "       n_hos_beds  n_hot_rooms    rainfall       parks    avg_dist  \n",
       "count  506.000000   506.000000  506.000000  506.000000  506.000000  \n",
       "mean     7.899767    12.864050   39.187747    0.054454    3.795104  \n",
       "std      1.464939     2.688778   12.497221    0.010632    2.105859  \n",
       "min      5.268000    10.057600    6.000000    0.033292    1.127500  \n",
       "25%      6.659000    11.189800   28.000000    0.046464    2.100625  \n",
       "50%      7.963000    12.720000   39.000000    0.053507    3.207500  \n",
       "75%      9.076000    14.170800   50.000000    0.061397    5.187500  \n",
       "max     10.876000    46.198560   60.000000    0.086711   12.127500  "
      ]
     },
     "execution_count": 1259,
     "metadata": {},
     "output_type": "execute_result"
    }
   ],
   "source": [
    "df.describe()"
   ]
  },
  {
   "cell_type": "code",
   "execution_count": 1260,
   "id": "a1e774e7",
   "metadata": {},
   "outputs": [],
   "source": [
    "del df['dist1']"
   ]
  },
  {
   "cell_type": "code",
   "execution_count": 1261,
   "id": "2df8440a",
   "metadata": {},
   "outputs": [],
   "source": [
    "del df['dist2']"
   ]
  },
  {
   "cell_type": "code",
   "execution_count": 1262,
   "id": "e0d3cf1d",
   "metadata": {},
   "outputs": [],
   "source": [
    "del df['dist3']"
   ]
  },
  {
   "cell_type": "code",
   "execution_count": 1263,
   "id": "df956723",
   "metadata": {},
   "outputs": [],
   "source": [
    "del df['dist4']"
   ]
  },
  {
   "cell_type": "code",
   "execution_count": 1264,
   "id": "d84b00fa",
   "metadata": {},
   "outputs": [
    {
     "data": {
      "text/html": [
       "<div>\n",
       "<style scoped>\n",
       "    .dataframe tbody tr th:only-of-type {\n",
       "        vertical-align: middle;\n",
       "    }\n",
       "\n",
       "    .dataframe tbody tr th {\n",
       "        vertical-align: top;\n",
       "    }\n",
       "\n",
       "    .dataframe thead th {\n",
       "        text-align: right;\n",
       "    }\n",
       "</style>\n",
       "<table border=\"1\" class=\"dataframe\">\n",
       "  <thead>\n",
       "    <tr style=\"text-align: right;\">\n",
       "      <th></th>\n",
       "      <th>price</th>\n",
       "      <th>crime_rate</th>\n",
       "      <th>resid_area</th>\n",
       "      <th>air_qual</th>\n",
       "      <th>room_num</th>\n",
       "      <th>age</th>\n",
       "      <th>teachers</th>\n",
       "      <th>poor_prop</th>\n",
       "      <th>n_hos_beds</th>\n",
       "      <th>n_hot_rooms</th>\n",
       "      <th>rainfall</th>\n",
       "      <th>parks</th>\n",
       "      <th>avg_dist</th>\n",
       "    </tr>\n",
       "  </thead>\n",
       "  <tbody>\n",
       "    <tr>\n",
       "      <th>count</th>\n",
       "      <td>506.000000</td>\n",
       "      <td>506.000000</td>\n",
       "      <td>506.000000</td>\n",
       "      <td>506.000000</td>\n",
       "      <td>506.000000</td>\n",
       "      <td>506.000000</td>\n",
       "      <td>506.000000</td>\n",
       "      <td>506.000000</td>\n",
       "      <td>506.000000</td>\n",
       "      <td>506.000000</td>\n",
       "      <td>506.000000</td>\n",
       "      <td>506.000000</td>\n",
       "      <td>506.000000</td>\n",
       "    </tr>\n",
       "    <tr>\n",
       "      <th>mean</th>\n",
       "      <td>22.528854</td>\n",
       "      <td>0.813418</td>\n",
       "      <td>41.136779</td>\n",
       "      <td>0.554695</td>\n",
       "      <td>6.284634</td>\n",
       "      <td>68.574901</td>\n",
       "      <td>21.544466</td>\n",
       "      <td>12.653063</td>\n",
       "      <td>7.899767</td>\n",
       "      <td>12.864050</td>\n",
       "      <td>39.187747</td>\n",
       "      <td>0.054454</td>\n",
       "      <td>3.795104</td>\n",
       "    </tr>\n",
       "    <tr>\n",
       "      <th>std</th>\n",
       "      <td>9.182176</td>\n",
       "      <td>1.022731</td>\n",
       "      <td>6.860353</td>\n",
       "      <td>0.115878</td>\n",
       "      <td>0.702617</td>\n",
       "      <td>28.148861</td>\n",
       "      <td>2.164946</td>\n",
       "      <td>7.141062</td>\n",
       "      <td>1.464939</td>\n",
       "      <td>2.688778</td>\n",
       "      <td>12.497221</td>\n",
       "      <td>0.010632</td>\n",
       "      <td>2.105859</td>\n",
       "    </tr>\n",
       "    <tr>\n",
       "      <th>min</th>\n",
       "      <td>5.000000</td>\n",
       "      <td>0.006300</td>\n",
       "      <td>30.460000</td>\n",
       "      <td>0.385000</td>\n",
       "      <td>3.561000</td>\n",
       "      <td>2.900000</td>\n",
       "      <td>18.000000</td>\n",
       "      <td>1.730000</td>\n",
       "      <td>5.268000</td>\n",
       "      <td>10.057600</td>\n",
       "      <td>6.000000</td>\n",
       "      <td>0.033292</td>\n",
       "      <td>1.127500</td>\n",
       "    </tr>\n",
       "    <tr>\n",
       "      <th>25%</th>\n",
       "      <td>17.025000</td>\n",
       "      <td>0.078853</td>\n",
       "      <td>35.190000</td>\n",
       "      <td>0.449000</td>\n",
       "      <td>5.885500</td>\n",
       "      <td>45.025000</td>\n",
       "      <td>19.800000</td>\n",
       "      <td>6.950000</td>\n",
       "      <td>6.659000</td>\n",
       "      <td>11.189800</td>\n",
       "      <td>28.000000</td>\n",
       "      <td>0.046464</td>\n",
       "      <td>2.100625</td>\n",
       "    </tr>\n",
       "    <tr>\n",
       "      <th>50%</th>\n",
       "      <td>21.200000</td>\n",
       "      <td>0.228336</td>\n",
       "      <td>39.690000</td>\n",
       "      <td>0.538000</td>\n",
       "      <td>6.208500</td>\n",
       "      <td>77.500000</td>\n",
       "      <td>20.950000</td>\n",
       "      <td>11.360000</td>\n",
       "      <td>7.963000</td>\n",
       "      <td>12.720000</td>\n",
       "      <td>39.000000</td>\n",
       "      <td>0.053507</td>\n",
       "      <td>3.207500</td>\n",
       "    </tr>\n",
       "    <tr>\n",
       "      <th>75%</th>\n",
       "      <td>25.000000</td>\n",
       "      <td>1.542674</td>\n",
       "      <td>48.100000</td>\n",
       "      <td>0.624000</td>\n",
       "      <td>6.623500</td>\n",
       "      <td>94.075000</td>\n",
       "      <td>22.600000</td>\n",
       "      <td>16.955000</td>\n",
       "      <td>9.076000</td>\n",
       "      <td>14.170800</td>\n",
       "      <td>50.000000</td>\n",
       "      <td>0.061397</td>\n",
       "      <td>5.187500</td>\n",
       "    </tr>\n",
       "    <tr>\n",
       "      <th>max</th>\n",
       "      <td>50.000000</td>\n",
       "      <td>4.499545</td>\n",
       "      <td>57.740000</td>\n",
       "      <td>0.871000</td>\n",
       "      <td>8.780000</td>\n",
       "      <td>100.000000</td>\n",
       "      <td>27.400000</td>\n",
       "      <td>37.970000</td>\n",
       "      <td>10.876000</td>\n",
       "      <td>46.198560</td>\n",
       "      <td>60.000000</td>\n",
       "      <td>0.086711</td>\n",
       "      <td>12.127500</td>\n",
       "    </tr>\n",
       "  </tbody>\n",
       "</table>\n",
       "</div>"
      ],
      "text/plain": [
       "            price  crime_rate  resid_area    air_qual    room_num         age  \\\n",
       "count  506.000000  506.000000  506.000000  506.000000  506.000000  506.000000   \n",
       "mean    22.528854    0.813418   41.136779    0.554695    6.284634   68.574901   \n",
       "std      9.182176    1.022731    6.860353    0.115878    0.702617   28.148861   \n",
       "min      5.000000    0.006300   30.460000    0.385000    3.561000    2.900000   \n",
       "25%     17.025000    0.078853   35.190000    0.449000    5.885500   45.025000   \n",
       "50%     21.200000    0.228336   39.690000    0.538000    6.208500   77.500000   \n",
       "75%     25.000000    1.542674   48.100000    0.624000    6.623500   94.075000   \n",
       "max     50.000000    4.499545   57.740000    0.871000    8.780000  100.000000   \n",
       "\n",
       "         teachers   poor_prop  n_hos_beds  n_hot_rooms    rainfall  \\\n",
       "count  506.000000  506.000000  506.000000   506.000000  506.000000   \n",
       "mean    21.544466   12.653063    7.899767    12.864050   39.187747   \n",
       "std      2.164946    7.141062    1.464939     2.688778   12.497221   \n",
       "min     18.000000    1.730000    5.268000    10.057600    6.000000   \n",
       "25%     19.800000    6.950000    6.659000    11.189800   28.000000   \n",
       "50%     20.950000   11.360000    7.963000    12.720000   39.000000   \n",
       "75%     22.600000   16.955000    9.076000    14.170800   50.000000   \n",
       "max     27.400000   37.970000   10.876000    46.198560   60.000000   \n",
       "\n",
       "            parks    avg_dist  \n",
       "count  506.000000  506.000000  \n",
       "mean     0.054454    3.795104  \n",
       "std      0.010632    2.105859  \n",
       "min      0.033292    1.127500  \n",
       "25%      0.046464    2.100625  \n",
       "50%      0.053507    3.207500  \n",
       "75%      0.061397    5.187500  \n",
       "max      0.086711   12.127500  "
      ]
     },
     "execution_count": 1264,
     "metadata": {},
     "output_type": "execute_result"
    }
   ],
   "source": [
    "df.describe()"
   ]
  },
  {
   "cell_type": "code",
   "execution_count": 1265,
   "id": "abdc0dba",
   "metadata": {},
   "outputs": [],
   "source": [
    "del df['bus_ter']"
   ]
  },
  {
   "cell_type": "code",
   "execution_count": 1266,
   "id": "8bc4bd40",
   "metadata": {},
   "outputs": [
    {
     "data": {
      "text/html": [
       "<div>\n",
       "<style scoped>\n",
       "    .dataframe tbody tr th:only-of-type {\n",
       "        vertical-align: middle;\n",
       "    }\n",
       "\n",
       "    .dataframe tbody tr th {\n",
       "        vertical-align: top;\n",
       "    }\n",
       "\n",
       "    .dataframe thead th {\n",
       "        text-align: right;\n",
       "    }\n",
       "</style>\n",
       "<table border=\"1\" class=\"dataframe\">\n",
       "  <thead>\n",
       "    <tr style=\"text-align: right;\">\n",
       "      <th></th>\n",
       "      <th>price</th>\n",
       "      <th>crime_rate</th>\n",
       "      <th>resid_area</th>\n",
       "      <th>air_qual</th>\n",
       "      <th>room_num</th>\n",
       "      <th>age</th>\n",
       "      <th>teachers</th>\n",
       "      <th>poor_prop</th>\n",
       "      <th>airport</th>\n",
       "      <th>n_hos_beds</th>\n",
       "      <th>n_hot_rooms</th>\n",
       "      <th>waterbody</th>\n",
       "      <th>rainfall</th>\n",
       "      <th>parks</th>\n",
       "      <th>avg_dist</th>\n",
       "    </tr>\n",
       "  </thead>\n",
       "  <tbody>\n",
       "    <tr>\n",
       "      <th>0</th>\n",
       "      <td>24.0</td>\n",
       "      <td>0.006300</td>\n",
       "      <td>32.31</td>\n",
       "      <td>0.538</td>\n",
       "      <td>6.575</td>\n",
       "      <td>65.2</td>\n",
       "      <td>24.7</td>\n",
       "      <td>4.98</td>\n",
       "      <td>YES</td>\n",
       "      <td>5.480</td>\n",
       "      <td>11.19200</td>\n",
       "      <td>River</td>\n",
       "      <td>23</td>\n",
       "      <td>0.049347</td>\n",
       "      <td>4.0875</td>\n",
       "    </tr>\n",
       "    <tr>\n",
       "      <th>1</th>\n",
       "      <td>21.6</td>\n",
       "      <td>0.026944</td>\n",
       "      <td>37.07</td>\n",
       "      <td>0.469</td>\n",
       "      <td>6.421</td>\n",
       "      <td>78.9</td>\n",
       "      <td>22.2</td>\n",
       "      <td>9.14</td>\n",
       "      <td>NO</td>\n",
       "      <td>7.332</td>\n",
       "      <td>12.17280</td>\n",
       "      <td>Lake</td>\n",
       "      <td>42</td>\n",
       "      <td>0.046146</td>\n",
       "      <td>4.9675</td>\n",
       "    </tr>\n",
       "    <tr>\n",
       "      <th>2</th>\n",
       "      <td>34.7</td>\n",
       "      <td>0.026924</td>\n",
       "      <td>37.07</td>\n",
       "      <td>0.469</td>\n",
       "      <td>7.185</td>\n",
       "      <td>61.1</td>\n",
       "      <td>22.2</td>\n",
       "      <td>4.03</td>\n",
       "      <td>NO</td>\n",
       "      <td>7.394</td>\n",
       "      <td>46.19856</td>\n",
       "      <td>None</td>\n",
       "      <td>38</td>\n",
       "      <td>0.045764</td>\n",
       "      <td>4.9675</td>\n",
       "    </tr>\n",
       "    <tr>\n",
       "      <th>3</th>\n",
       "      <td>33.4</td>\n",
       "      <td>0.031857</td>\n",
       "      <td>32.18</td>\n",
       "      <td>0.458</td>\n",
       "      <td>6.998</td>\n",
       "      <td>45.8</td>\n",
       "      <td>21.3</td>\n",
       "      <td>2.94</td>\n",
       "      <td>YES</td>\n",
       "      <td>9.268</td>\n",
       "      <td>11.26720</td>\n",
       "      <td>Lake</td>\n",
       "      <td>45</td>\n",
       "      <td>0.047151</td>\n",
       "      <td>6.0650</td>\n",
       "    </tr>\n",
       "    <tr>\n",
       "      <th>4</th>\n",
       "      <td>36.2</td>\n",
       "      <td>0.066770</td>\n",
       "      <td>32.18</td>\n",
       "      <td>0.458</td>\n",
       "      <td>7.147</td>\n",
       "      <td>54.2</td>\n",
       "      <td>21.3</td>\n",
       "      <td>5.33</td>\n",
       "      <td>NO</td>\n",
       "      <td>8.824</td>\n",
       "      <td>11.28960</td>\n",
       "      <td>Lake</td>\n",
       "      <td>55</td>\n",
       "      <td>0.039474</td>\n",
       "      <td>6.0625</td>\n",
       "    </tr>\n",
       "  </tbody>\n",
       "</table>\n",
       "</div>"
      ],
      "text/plain": [
       "   price  crime_rate  resid_area  air_qual  room_num   age  teachers  \\\n",
       "0   24.0    0.006300       32.31     0.538     6.575  65.2      24.7   \n",
       "1   21.6    0.026944       37.07     0.469     6.421  78.9      22.2   \n",
       "2   34.7    0.026924       37.07     0.469     7.185  61.1      22.2   \n",
       "3   33.4    0.031857       32.18     0.458     6.998  45.8      21.3   \n",
       "4   36.2    0.066770       32.18     0.458     7.147  54.2      21.3   \n",
       "\n",
       "   poor_prop airport  n_hos_beds  n_hot_rooms waterbody  rainfall     parks  \\\n",
       "0       4.98     YES       5.480     11.19200     River        23  0.049347   \n",
       "1       9.14      NO       7.332     12.17280      Lake        42  0.046146   \n",
       "2       4.03      NO       7.394     46.19856      None        38  0.045764   \n",
       "3       2.94     YES       9.268     11.26720      Lake        45  0.047151   \n",
       "4       5.33      NO       8.824     11.28960      Lake        55  0.039474   \n",
       "\n",
       "   avg_dist  \n",
       "0    4.0875  \n",
       "1    4.9675  \n",
       "2    4.9675  \n",
       "3    6.0650  \n",
       "4    6.0625  "
      ]
     },
     "execution_count": 1266,
     "metadata": {},
     "output_type": "execute_result"
    }
   ],
   "source": [
    "df.head()"
   ]
  },
  {
   "cell_type": "code",
   "execution_count": 1267,
   "id": "afffb77a",
   "metadata": {},
   "outputs": [],
   "source": [
    "# Example: Ensure 'categorical_column' is of object or categorical type\n",
    "# df['waterbody'] = df['waterbody'].astype('category')\n"
   ]
  },
  {
   "cell_type": "code",
   "execution_count": 1268,
   "id": "05db9dcf",
   "metadata": {},
   "outputs": [
    {
     "name": "stdout",
     "output_type": "stream",
     "text": [
      "Index(['price', 'crime_rate', 'resid_area', 'air_qual', 'room_num', 'age',\n",
      "       'teachers', 'poor_prop', 'airport', 'n_hos_beds', 'n_hot_rooms',\n",
      "       'waterbody', 'rainfall', 'parks', 'avg_dist'],\n",
      "      dtype='object')\n"
     ]
    }
   ],
   "source": [
    "# Check for column names in your DataFrame\n",
    "print(df.columns)\n"
   ]
  },
  {
   "cell_type": "code",
   "execution_count": 1269,
   "id": "5d050903",
   "metadata": {},
   "outputs": [],
   "source": [
    "# print('airport' in df.columns)"
   ]
  },
  {
   "cell_type": "code",
   "execution_count": 1270,
   "id": "5492e633",
   "metadata": {},
   "outputs": [],
   "source": [
    "# df = pd.get_dummies(df['airport'], prefix='airport', drop_first=True).astype(int)"
   ]
  },
  {
   "cell_type": "code",
   "execution_count": 1271,
   "id": "e1756c8e",
   "metadata": {},
   "outputs": [],
   "source": [
    "# df.head()"
   ]
  },
  {
   "cell_type": "code",
   "execution_count": 1272,
   "id": "408a2131",
   "metadata": {},
   "outputs": [
    {
     "name": "stdout",
     "output_type": "stream",
     "text": [
      "True\n"
     ]
    }
   ],
   "source": [
    "# Check if 'waterbody' is in the columns of your DataFrame\n",
    "print('waterbody' in df.columns)\n"
   ]
  },
  {
   "cell_type": "code",
   "execution_count": 1273,
   "id": "e3148d00",
   "metadata": {},
   "outputs": [
    {
     "name": "stdout",
     "output_type": "stream",
     "text": [
      "True\n"
     ]
    }
   ],
   "source": [
    "print('n_hos_beds' in df.columns)"
   ]
  },
  {
   "cell_type": "code",
   "execution_count": 1274,
   "id": "ed0a7d68",
   "metadata": {},
   "outputs": [],
   "source": [
    "# Assuming 'your_column' is the column you want to convert\n",
    "# df['n_hos_beds'] = pd.to_numeric(df['n_hos_beds'], errors='coerce')  # 'coerce' will replace non-numeric values with NaN\n"
   ]
  },
  {
   "cell_type": "code",
   "execution_count": 1275,
   "id": "86dc15a5",
   "metadata": {},
   "outputs": [],
   "source": [
    "# selected_columns = ['price', 'crime_rate', 'resid_area', 'air_qual', 'room_num', 'age', 'teachers', 'n_hos_beds', 'poor_prop', 'n_hot_rooms', 'airport', 'waterbody', 'rainfall', 'parks', 'avg_dist']"
   ]
  },
  {
   "cell_type": "code",
   "execution_count": 1276,
   "id": "6db7f410",
   "metadata": {},
   "outputs": [],
   "source": [
    "# cat_var = ['waterbody', 'airport']"
   ]
  },
  {
   "cell_type": "code",
   "execution_count": 1277,
   "id": "c7f79279",
   "metadata": {},
   "outputs": [],
   "source": [
    "# df = df[selected_columns]"
   ]
  },
  {
   "cell_type": "code",
   "execution_count": 1278,
   "id": "601562c7",
   "metadata": {},
   "outputs": [],
   "source": [
    "# df = pd.get_dummies(df, dtype=float)  # Adjust dtype as needed\n",
    "# df = pd.get_dummies(df, columns=['waterbody'], prefix='category')\n",
    "# df = pd.get_dummies(df['waterbody'], prefix='waterbody', drop_first=True).astype(int)\n"
   ]
  },
  {
   "cell_type": "code",
   "execution_count": 1279,
   "id": "6195c726",
   "metadata": {},
   "outputs": [
    {
     "data": {
      "text/html": [
       "<div>\n",
       "<style scoped>\n",
       "    .dataframe tbody tr th:only-of-type {\n",
       "        vertical-align: middle;\n",
       "    }\n",
       "\n",
       "    .dataframe tbody tr th {\n",
       "        vertical-align: top;\n",
       "    }\n",
       "\n",
       "    .dataframe thead th {\n",
       "        text-align: right;\n",
       "    }\n",
       "</style>\n",
       "<table border=\"1\" class=\"dataframe\">\n",
       "  <thead>\n",
       "    <tr style=\"text-align: right;\">\n",
       "      <th></th>\n",
       "      <th>price</th>\n",
       "      <th>crime_rate</th>\n",
       "      <th>resid_area</th>\n",
       "      <th>air_qual</th>\n",
       "      <th>room_num</th>\n",
       "      <th>age</th>\n",
       "      <th>teachers</th>\n",
       "      <th>poor_prop</th>\n",
       "      <th>airport</th>\n",
       "      <th>n_hos_beds</th>\n",
       "      <th>n_hot_rooms</th>\n",
       "      <th>waterbody</th>\n",
       "      <th>rainfall</th>\n",
       "      <th>parks</th>\n",
       "      <th>avg_dist</th>\n",
       "    </tr>\n",
       "  </thead>\n",
       "  <tbody>\n",
       "    <tr>\n",
       "      <th>0</th>\n",
       "      <td>24.0</td>\n",
       "      <td>0.006300</td>\n",
       "      <td>32.31</td>\n",
       "      <td>0.538</td>\n",
       "      <td>6.575</td>\n",
       "      <td>65.2</td>\n",
       "      <td>24.7</td>\n",
       "      <td>4.98</td>\n",
       "      <td>YES</td>\n",
       "      <td>5.480</td>\n",
       "      <td>11.19200</td>\n",
       "      <td>River</td>\n",
       "      <td>23</td>\n",
       "      <td>0.049347</td>\n",
       "      <td>4.0875</td>\n",
       "    </tr>\n",
       "    <tr>\n",
       "      <th>1</th>\n",
       "      <td>21.6</td>\n",
       "      <td>0.026944</td>\n",
       "      <td>37.07</td>\n",
       "      <td>0.469</td>\n",
       "      <td>6.421</td>\n",
       "      <td>78.9</td>\n",
       "      <td>22.2</td>\n",
       "      <td>9.14</td>\n",
       "      <td>NO</td>\n",
       "      <td>7.332</td>\n",
       "      <td>12.17280</td>\n",
       "      <td>Lake</td>\n",
       "      <td>42</td>\n",
       "      <td>0.046146</td>\n",
       "      <td>4.9675</td>\n",
       "    </tr>\n",
       "    <tr>\n",
       "      <th>2</th>\n",
       "      <td>34.7</td>\n",
       "      <td>0.026924</td>\n",
       "      <td>37.07</td>\n",
       "      <td>0.469</td>\n",
       "      <td>7.185</td>\n",
       "      <td>61.1</td>\n",
       "      <td>22.2</td>\n",
       "      <td>4.03</td>\n",
       "      <td>NO</td>\n",
       "      <td>7.394</td>\n",
       "      <td>46.19856</td>\n",
       "      <td>None</td>\n",
       "      <td>38</td>\n",
       "      <td>0.045764</td>\n",
       "      <td>4.9675</td>\n",
       "    </tr>\n",
       "    <tr>\n",
       "      <th>3</th>\n",
       "      <td>33.4</td>\n",
       "      <td>0.031857</td>\n",
       "      <td>32.18</td>\n",
       "      <td>0.458</td>\n",
       "      <td>6.998</td>\n",
       "      <td>45.8</td>\n",
       "      <td>21.3</td>\n",
       "      <td>2.94</td>\n",
       "      <td>YES</td>\n",
       "      <td>9.268</td>\n",
       "      <td>11.26720</td>\n",
       "      <td>Lake</td>\n",
       "      <td>45</td>\n",
       "      <td>0.047151</td>\n",
       "      <td>6.0650</td>\n",
       "    </tr>\n",
       "    <tr>\n",
       "      <th>4</th>\n",
       "      <td>36.2</td>\n",
       "      <td>0.066770</td>\n",
       "      <td>32.18</td>\n",
       "      <td>0.458</td>\n",
       "      <td>7.147</td>\n",
       "      <td>54.2</td>\n",
       "      <td>21.3</td>\n",
       "      <td>5.33</td>\n",
       "      <td>NO</td>\n",
       "      <td>8.824</td>\n",
       "      <td>11.28960</td>\n",
       "      <td>Lake</td>\n",
       "      <td>55</td>\n",
       "      <td>0.039474</td>\n",
       "      <td>6.0625</td>\n",
       "    </tr>\n",
       "  </tbody>\n",
       "</table>\n",
       "</div>"
      ],
      "text/plain": [
       "   price  crime_rate  resid_area  air_qual  room_num   age  teachers  \\\n",
       "0   24.0    0.006300       32.31     0.538     6.575  65.2      24.7   \n",
       "1   21.6    0.026944       37.07     0.469     6.421  78.9      22.2   \n",
       "2   34.7    0.026924       37.07     0.469     7.185  61.1      22.2   \n",
       "3   33.4    0.031857       32.18     0.458     6.998  45.8      21.3   \n",
       "4   36.2    0.066770       32.18     0.458     7.147  54.2      21.3   \n",
       "\n",
       "   poor_prop airport  n_hos_beds  n_hot_rooms waterbody  rainfall     parks  \\\n",
       "0       4.98     YES       5.480     11.19200     River        23  0.049347   \n",
       "1       9.14      NO       7.332     12.17280      Lake        42  0.046146   \n",
       "2       4.03      NO       7.394     46.19856      None        38  0.045764   \n",
       "3       2.94     YES       9.268     11.26720      Lake        45  0.047151   \n",
       "4       5.33      NO       8.824     11.28960      Lake        55  0.039474   \n",
       "\n",
       "   avg_dist  \n",
       "0    4.0875  \n",
       "1    4.9675  \n",
       "2    4.9675  \n",
       "3    6.0650  \n",
       "4    6.0625  "
      ]
     },
     "execution_count": 1279,
     "metadata": {},
     "output_type": "execute_result"
    }
   ],
   "source": [
    " df.head()"
   ]
  },
  {
   "cell_type": "code",
   "execution_count": 1280,
   "id": "7604cb39",
   "metadata": {},
   "outputs": [],
   "source": [
    "# Convert boolean values to 0 or 1\n",
    "# df['categorical_column_True'] = df['categorical_column_True'].astype(int)\n",
    "# df['categorical_column_False'] = df['categorical_column_False'].astype(int)\n"
   ]
  },
  {
   "cell_type": "code",
   "execution_count": 1281,
   "id": "513d41e2",
   "metadata": {},
   "outputs": [],
   "source": [
    " df = pd.get_dummies(df)"
   ]
  },
  {
   "cell_type": "code",
   "execution_count": 1282,
   "id": "8d404deb",
   "metadata": {},
   "outputs": [
    {
     "data": {
      "text/plain": [
       "Index(['price', 'crime_rate', 'resid_area', 'air_qual', 'room_num', 'age',\n",
       "       'teachers', 'poor_prop', 'n_hos_beds', 'n_hot_rooms', 'rainfall',\n",
       "       'parks', 'avg_dist', 'airport_NO', 'airport_YES', 'waterbody_Lake',\n",
       "       'waterbody_Lake and River', 'waterbody_None', 'waterbody_River'],\n",
       "      dtype='object')"
      ]
     },
     "execution_count": 1282,
     "metadata": {},
     "output_type": "execute_result"
    }
   ],
   "source": [
    "df.columns"
   ]
  },
  {
   "cell_type": "code",
   "execution_count": 1283,
   "id": "ccefe484",
   "metadata": {},
   "outputs": [
    {
     "data": {
      "text/html": [
       "<div>\n",
       "<style scoped>\n",
       "    .dataframe tbody tr th:only-of-type {\n",
       "        vertical-align: middle;\n",
       "    }\n",
       "\n",
       "    .dataframe tbody tr th {\n",
       "        vertical-align: top;\n",
       "    }\n",
       "\n",
       "    .dataframe thead th {\n",
       "        text-align: right;\n",
       "    }\n",
       "</style>\n",
       "<table border=\"1\" class=\"dataframe\">\n",
       "  <thead>\n",
       "    <tr style=\"text-align: right;\">\n",
       "      <th></th>\n",
       "      <th>price</th>\n",
       "      <th>crime_rate</th>\n",
       "      <th>resid_area</th>\n",
       "      <th>air_qual</th>\n",
       "      <th>room_num</th>\n",
       "      <th>age</th>\n",
       "      <th>teachers</th>\n",
       "      <th>poor_prop</th>\n",
       "      <th>n_hos_beds</th>\n",
       "      <th>n_hot_rooms</th>\n",
       "      <th>rainfall</th>\n",
       "      <th>parks</th>\n",
       "      <th>avg_dist</th>\n",
       "      <th>airport_NO</th>\n",
       "      <th>airport_YES</th>\n",
       "      <th>waterbody_Lake</th>\n",
       "      <th>waterbody_Lake and River</th>\n",
       "      <th>waterbody_None</th>\n",
       "      <th>waterbody_River</th>\n",
       "    </tr>\n",
       "  </thead>\n",
       "  <tbody>\n",
       "    <tr>\n",
       "      <th>0</th>\n",
       "      <td>24.0</td>\n",
       "      <td>0.006300</td>\n",
       "      <td>32.31</td>\n",
       "      <td>0.538</td>\n",
       "      <td>6.575</td>\n",
       "      <td>65.2</td>\n",
       "      <td>24.7</td>\n",
       "      <td>4.98</td>\n",
       "      <td>5.480</td>\n",
       "      <td>11.19200</td>\n",
       "      <td>23</td>\n",
       "      <td>0.049347</td>\n",
       "      <td>4.0875</td>\n",
       "      <td>False</td>\n",
       "      <td>True</td>\n",
       "      <td>False</td>\n",
       "      <td>False</td>\n",
       "      <td>False</td>\n",
       "      <td>True</td>\n",
       "    </tr>\n",
       "    <tr>\n",
       "      <th>1</th>\n",
       "      <td>21.6</td>\n",
       "      <td>0.026944</td>\n",
       "      <td>37.07</td>\n",
       "      <td>0.469</td>\n",
       "      <td>6.421</td>\n",
       "      <td>78.9</td>\n",
       "      <td>22.2</td>\n",
       "      <td>9.14</td>\n",
       "      <td>7.332</td>\n",
       "      <td>12.17280</td>\n",
       "      <td>42</td>\n",
       "      <td>0.046146</td>\n",
       "      <td>4.9675</td>\n",
       "      <td>True</td>\n",
       "      <td>False</td>\n",
       "      <td>True</td>\n",
       "      <td>False</td>\n",
       "      <td>False</td>\n",
       "      <td>False</td>\n",
       "    </tr>\n",
       "    <tr>\n",
       "      <th>2</th>\n",
       "      <td>34.7</td>\n",
       "      <td>0.026924</td>\n",
       "      <td>37.07</td>\n",
       "      <td>0.469</td>\n",
       "      <td>7.185</td>\n",
       "      <td>61.1</td>\n",
       "      <td>22.2</td>\n",
       "      <td>4.03</td>\n",
       "      <td>7.394</td>\n",
       "      <td>46.19856</td>\n",
       "      <td>38</td>\n",
       "      <td>0.045764</td>\n",
       "      <td>4.9675</td>\n",
       "      <td>True</td>\n",
       "      <td>False</td>\n",
       "      <td>False</td>\n",
       "      <td>False</td>\n",
       "      <td>True</td>\n",
       "      <td>False</td>\n",
       "    </tr>\n",
       "    <tr>\n",
       "      <th>3</th>\n",
       "      <td>33.4</td>\n",
       "      <td>0.031857</td>\n",
       "      <td>32.18</td>\n",
       "      <td>0.458</td>\n",
       "      <td>6.998</td>\n",
       "      <td>45.8</td>\n",
       "      <td>21.3</td>\n",
       "      <td>2.94</td>\n",
       "      <td>9.268</td>\n",
       "      <td>11.26720</td>\n",
       "      <td>45</td>\n",
       "      <td>0.047151</td>\n",
       "      <td>6.0650</td>\n",
       "      <td>False</td>\n",
       "      <td>True</td>\n",
       "      <td>True</td>\n",
       "      <td>False</td>\n",
       "      <td>False</td>\n",
       "      <td>False</td>\n",
       "    </tr>\n",
       "    <tr>\n",
       "      <th>4</th>\n",
       "      <td>36.2</td>\n",
       "      <td>0.066770</td>\n",
       "      <td>32.18</td>\n",
       "      <td>0.458</td>\n",
       "      <td>7.147</td>\n",
       "      <td>54.2</td>\n",
       "      <td>21.3</td>\n",
       "      <td>5.33</td>\n",
       "      <td>8.824</td>\n",
       "      <td>11.28960</td>\n",
       "      <td>55</td>\n",
       "      <td>0.039474</td>\n",
       "      <td>6.0625</td>\n",
       "      <td>True</td>\n",
       "      <td>False</td>\n",
       "      <td>True</td>\n",
       "      <td>False</td>\n",
       "      <td>False</td>\n",
       "      <td>False</td>\n",
       "    </tr>\n",
       "  </tbody>\n",
       "</table>\n",
       "</div>"
      ],
      "text/plain": [
       "   price  crime_rate  resid_area  air_qual  room_num   age  teachers  \\\n",
       "0   24.0    0.006300       32.31     0.538     6.575  65.2      24.7   \n",
       "1   21.6    0.026944       37.07     0.469     6.421  78.9      22.2   \n",
       "2   34.7    0.026924       37.07     0.469     7.185  61.1      22.2   \n",
       "3   33.4    0.031857       32.18     0.458     6.998  45.8      21.3   \n",
       "4   36.2    0.066770       32.18     0.458     7.147  54.2      21.3   \n",
       "\n",
       "   poor_prop  n_hos_beds  n_hot_rooms  rainfall     parks  avg_dist  \\\n",
       "0       4.98       5.480     11.19200        23  0.049347    4.0875   \n",
       "1       9.14       7.332     12.17280        42  0.046146    4.9675   \n",
       "2       4.03       7.394     46.19856        38  0.045764    4.9675   \n",
       "3       2.94       9.268     11.26720        45  0.047151    6.0650   \n",
       "4       5.33       8.824     11.28960        55  0.039474    6.0625   \n",
       "\n",
       "   airport_NO  airport_YES  waterbody_Lake  waterbody_Lake and River  \\\n",
       "0       False         True           False                     False   \n",
       "1        True        False            True                     False   \n",
       "2        True        False           False                     False   \n",
       "3       False         True            True                     False   \n",
       "4        True        False            True                     False   \n",
       "\n",
       "   waterbody_None  waterbody_River  \n",
       "0           False             True  \n",
       "1           False            False  \n",
       "2            True            False  \n",
       "3           False            False  \n",
       "4           False            False  "
      ]
     },
     "execution_count": 1283,
     "metadata": {},
     "output_type": "execute_result"
    }
   ],
   "source": [
    "df.head()"
   ]
  },
  {
   "cell_type": "code",
   "execution_count": 1284,
   "id": "4870dbac",
   "metadata": {},
   "outputs": [],
   "source": [
    "selected_columns = ['price', 'crime_rate', 'resid_area', 'air_qual', 'room_num', 'age', 'teachers','n_hos_beds', 'poor_prop', 'n_hot_rooms', 'airport_YES', 'waterbody_Lake', 'waterbody_Lake and River', 'waterbody_River', 'rainfall', 'parks', 'avg_dist']\n",
    " "
   ]
  },
  {
   "cell_type": "code",
   "execution_count": 1285,
   "id": "a8329cda",
   "metadata": {},
   "outputs": [],
   "source": [
    "df = df[selected_columns]"
   ]
  },
  {
   "cell_type": "code",
   "execution_count": 1286,
   "id": "29a9607f",
   "metadata": {},
   "outputs": [],
   "source": [
    "# Convert boolean values to 0 or 1\n",
    "df['airport_YES'] = df['airport_YES'].astype(int)\n",
    "df['waterbody_Lake and River'] = df['waterbody_Lake and River'].astype(int)\n",
    "df['waterbody_Lake'] = df['waterbody_Lake'].astype(int)\n",
    "df['waterbody_River'] = df['waterbody_River'].astype(int)"
   ]
  },
  {
   "cell_type": "code",
   "execution_count": 1287,
   "id": "52cbbf1e",
   "metadata": {},
   "outputs": [
    {
     "data": {
      "text/html": [
       "<div>\n",
       "<style scoped>\n",
       "    .dataframe tbody tr th:only-of-type {\n",
       "        vertical-align: middle;\n",
       "    }\n",
       "\n",
       "    .dataframe tbody tr th {\n",
       "        vertical-align: top;\n",
       "    }\n",
       "\n",
       "    .dataframe thead th {\n",
       "        text-align: right;\n",
       "    }\n",
       "</style>\n",
       "<table border=\"1\" class=\"dataframe\">\n",
       "  <thead>\n",
       "    <tr style=\"text-align: right;\">\n",
       "      <th></th>\n",
       "      <th>price</th>\n",
       "      <th>crime_rate</th>\n",
       "      <th>resid_area</th>\n",
       "      <th>air_qual</th>\n",
       "      <th>room_num</th>\n",
       "      <th>age</th>\n",
       "      <th>teachers</th>\n",
       "      <th>n_hos_beds</th>\n",
       "      <th>poor_prop</th>\n",
       "      <th>n_hot_rooms</th>\n",
       "      <th>airport_YES</th>\n",
       "      <th>waterbody_Lake</th>\n",
       "      <th>waterbody_Lake and River</th>\n",
       "      <th>waterbody_River</th>\n",
       "      <th>rainfall</th>\n",
       "      <th>parks</th>\n",
       "      <th>avg_dist</th>\n",
       "    </tr>\n",
       "  </thead>\n",
       "  <tbody>\n",
       "    <tr>\n",
       "      <th>0</th>\n",
       "      <td>24.0</td>\n",
       "      <td>0.006300</td>\n",
       "      <td>32.31</td>\n",
       "      <td>0.538</td>\n",
       "      <td>6.575</td>\n",
       "      <td>65.2</td>\n",
       "      <td>24.7</td>\n",
       "      <td>5.480</td>\n",
       "      <td>4.98</td>\n",
       "      <td>11.19200</td>\n",
       "      <td>1</td>\n",
       "      <td>0</td>\n",
       "      <td>0</td>\n",
       "      <td>1</td>\n",
       "      <td>23</td>\n",
       "      <td>0.049347</td>\n",
       "      <td>4.0875</td>\n",
       "    </tr>\n",
       "    <tr>\n",
       "      <th>1</th>\n",
       "      <td>21.6</td>\n",
       "      <td>0.026944</td>\n",
       "      <td>37.07</td>\n",
       "      <td>0.469</td>\n",
       "      <td>6.421</td>\n",
       "      <td>78.9</td>\n",
       "      <td>22.2</td>\n",
       "      <td>7.332</td>\n",
       "      <td>9.14</td>\n",
       "      <td>12.17280</td>\n",
       "      <td>0</td>\n",
       "      <td>1</td>\n",
       "      <td>0</td>\n",
       "      <td>0</td>\n",
       "      <td>42</td>\n",
       "      <td>0.046146</td>\n",
       "      <td>4.9675</td>\n",
       "    </tr>\n",
       "    <tr>\n",
       "      <th>2</th>\n",
       "      <td>34.7</td>\n",
       "      <td>0.026924</td>\n",
       "      <td>37.07</td>\n",
       "      <td>0.469</td>\n",
       "      <td>7.185</td>\n",
       "      <td>61.1</td>\n",
       "      <td>22.2</td>\n",
       "      <td>7.394</td>\n",
       "      <td>4.03</td>\n",
       "      <td>46.19856</td>\n",
       "      <td>0</td>\n",
       "      <td>0</td>\n",
       "      <td>0</td>\n",
       "      <td>0</td>\n",
       "      <td>38</td>\n",
       "      <td>0.045764</td>\n",
       "      <td>4.9675</td>\n",
       "    </tr>\n",
       "    <tr>\n",
       "      <th>3</th>\n",
       "      <td>33.4</td>\n",
       "      <td>0.031857</td>\n",
       "      <td>32.18</td>\n",
       "      <td>0.458</td>\n",
       "      <td>6.998</td>\n",
       "      <td>45.8</td>\n",
       "      <td>21.3</td>\n",
       "      <td>9.268</td>\n",
       "      <td>2.94</td>\n",
       "      <td>11.26720</td>\n",
       "      <td>1</td>\n",
       "      <td>1</td>\n",
       "      <td>0</td>\n",
       "      <td>0</td>\n",
       "      <td>45</td>\n",
       "      <td>0.047151</td>\n",
       "      <td>6.0650</td>\n",
       "    </tr>\n",
       "    <tr>\n",
       "      <th>4</th>\n",
       "      <td>36.2</td>\n",
       "      <td>0.066770</td>\n",
       "      <td>32.18</td>\n",
       "      <td>0.458</td>\n",
       "      <td>7.147</td>\n",
       "      <td>54.2</td>\n",
       "      <td>21.3</td>\n",
       "      <td>8.824</td>\n",
       "      <td>5.33</td>\n",
       "      <td>11.28960</td>\n",
       "      <td>0</td>\n",
       "      <td>1</td>\n",
       "      <td>0</td>\n",
       "      <td>0</td>\n",
       "      <td>55</td>\n",
       "      <td>0.039474</td>\n",
       "      <td>6.0625</td>\n",
       "    </tr>\n",
       "  </tbody>\n",
       "</table>\n",
       "</div>"
      ],
      "text/plain": [
       "   price  crime_rate  resid_area  air_qual  room_num   age  teachers  \\\n",
       "0   24.0    0.006300       32.31     0.538     6.575  65.2      24.7   \n",
       "1   21.6    0.026944       37.07     0.469     6.421  78.9      22.2   \n",
       "2   34.7    0.026924       37.07     0.469     7.185  61.1      22.2   \n",
       "3   33.4    0.031857       32.18     0.458     6.998  45.8      21.3   \n",
       "4   36.2    0.066770       32.18     0.458     7.147  54.2      21.3   \n",
       "\n",
       "   n_hos_beds  poor_prop  n_hot_rooms  airport_YES  waterbody_Lake  \\\n",
       "0       5.480       4.98     11.19200            1               0   \n",
       "1       7.332       9.14     12.17280            0               1   \n",
       "2       7.394       4.03     46.19856            0               0   \n",
       "3       9.268       2.94     11.26720            1               1   \n",
       "4       8.824       5.33     11.28960            0               1   \n",
       "\n",
       "   waterbody_Lake and River  waterbody_River  rainfall     parks  avg_dist  \n",
       "0                         0                1        23  0.049347    4.0875  \n",
       "1                         0                0        42  0.046146    4.9675  \n",
       "2                         0                0        38  0.045764    4.9675  \n",
       "3                         0                0        45  0.047151    6.0650  \n",
       "4                         0                0        55  0.039474    6.0625  "
      ]
     },
     "execution_count": 1287,
     "metadata": {},
     "output_type": "execute_result"
    }
   ],
   "source": [
    "df.head()"
   ]
  },
  {
   "cell_type": "code",
   "execution_count": 1288,
   "id": "9f7c90f0",
   "metadata": {},
   "outputs": [
    {
     "name": "stdout",
     "output_type": "stream",
     "text": [
      "<class 'pandas.core.frame.DataFrame'>\n",
      "RangeIndex: 506 entries, 0 to 505\n",
      "Data columns (total 17 columns):\n",
      " #   Column                    Non-Null Count  Dtype  \n",
      "---  ------                    --------------  -----  \n",
      " 0   price                     506 non-null    float64\n",
      " 1   crime_rate                506 non-null    float64\n",
      " 2   resid_area                506 non-null    float64\n",
      " 3   air_qual                  506 non-null    float64\n",
      " 4   room_num                  506 non-null    float64\n",
      " 5   age                       506 non-null    float64\n",
      " 6   teachers                  506 non-null    float64\n",
      " 7   n_hos_beds                506 non-null    float64\n",
      " 8   poor_prop                 506 non-null    float64\n",
      " 9   n_hot_rooms               506 non-null    float64\n",
      " 10  airport_YES               506 non-null    int32  \n",
      " 11  waterbody_Lake            506 non-null    int32  \n",
      " 12  waterbody_Lake and River  506 non-null    int32  \n",
      " 13  waterbody_River           506 non-null    int32  \n",
      " 14  rainfall                  506 non-null    int64  \n",
      " 15  parks                     506 non-null    float64\n",
      " 16  avg_dist                  506 non-null    float64\n",
      "dtypes: float64(12), int32(4), int64(1)\n",
      "memory usage: 59.4 KB\n"
     ]
    }
   ],
   "source": [
    "df.info()"
   ]
  },
  {
   "cell_type": "code",
   "execution_count": 1289,
   "id": "956ad2c7",
   "metadata": {},
   "outputs": [
    {
     "data": {
      "text/html": [
       "<div>\n",
       "<style scoped>\n",
       "    .dataframe tbody tr th:only-of-type {\n",
       "        vertical-align: middle;\n",
       "    }\n",
       "\n",
       "    .dataframe tbody tr th {\n",
       "        vertical-align: top;\n",
       "    }\n",
       "\n",
       "    .dataframe thead th {\n",
       "        text-align: right;\n",
       "    }\n",
       "</style>\n",
       "<table border=\"1\" class=\"dataframe\">\n",
       "  <thead>\n",
       "    <tr style=\"text-align: right;\">\n",
       "      <th></th>\n",
       "      <th>price</th>\n",
       "      <th>crime_rate</th>\n",
       "      <th>resid_area</th>\n",
       "      <th>air_qual</th>\n",
       "      <th>room_num</th>\n",
       "      <th>age</th>\n",
       "      <th>teachers</th>\n",
       "      <th>n_hos_beds</th>\n",
       "      <th>poor_prop</th>\n",
       "      <th>n_hot_rooms</th>\n",
       "      <th>airport_YES</th>\n",
       "      <th>waterbody_Lake</th>\n",
       "      <th>waterbody_Lake and River</th>\n",
       "      <th>waterbody_River</th>\n",
       "      <th>rainfall</th>\n",
       "      <th>parks</th>\n",
       "      <th>avg_dist</th>\n",
       "    </tr>\n",
       "  </thead>\n",
       "  <tbody>\n",
       "    <tr>\n",
       "      <th>price</th>\n",
       "      <td>1.000000</td>\n",
       "      <td>-0.466527</td>\n",
       "      <td>-0.484754</td>\n",
       "      <td>-0.429300</td>\n",
       "      <td>0.696304</td>\n",
       "      <td>-0.377999</td>\n",
       "      <td>0.505655</td>\n",
       "      <td>0.108880</td>\n",
       "      <td>-0.740836</td>\n",
       "      <td>0.017007</td>\n",
       "      <td>0.182867</td>\n",
       "      <td>0.036233</td>\n",
       "      <td>-0.037497</td>\n",
       "      <td>0.071751</td>\n",
       "      <td>-0.047200</td>\n",
       "      <td>-0.391574</td>\n",
       "      <td>0.249289</td>\n",
       "    </tr>\n",
       "    <tr>\n",
       "      <th>crime_rate</th>\n",
       "      <td>-0.466527</td>\n",
       "      <td>1.000000</td>\n",
       "      <td>0.660283</td>\n",
       "      <td>0.707587</td>\n",
       "      <td>-0.288784</td>\n",
       "      <td>0.559591</td>\n",
       "      <td>-0.390052</td>\n",
       "      <td>-0.004089</td>\n",
       "      <td>0.608970</td>\n",
       "      <td>0.056570</td>\n",
       "      <td>-0.134486</td>\n",
       "      <td>-0.025390</td>\n",
       "      <td>0.009076</td>\n",
       "      <td>-0.060099</td>\n",
       "      <td>0.082151</td>\n",
       "      <td>0.638951</td>\n",
       "      <td>-0.586371</td>\n",
       "    </tr>\n",
       "    <tr>\n",
       "      <th>resid_area</th>\n",
       "      <td>-0.484754</td>\n",
       "      <td>0.660283</td>\n",
       "      <td>1.000000</td>\n",
       "      <td>0.763651</td>\n",
       "      <td>-0.391676</td>\n",
       "      <td>0.644779</td>\n",
       "      <td>-0.383248</td>\n",
       "      <td>0.005799</td>\n",
       "      <td>0.603800</td>\n",
       "      <td>-0.003761</td>\n",
       "      <td>-0.115401</td>\n",
       "      <td>-0.026590</td>\n",
       "      <td>0.051649</td>\n",
       "      <td>-0.098976</td>\n",
       "      <td>0.055845</td>\n",
       "      <td>0.707635</td>\n",
       "      <td>-0.708022</td>\n",
       "    </tr>\n",
       "    <tr>\n",
       "      <th>air_qual</th>\n",
       "      <td>-0.429300</td>\n",
       "      <td>0.707587</td>\n",
       "      <td>0.763651</td>\n",
       "      <td>1.000000</td>\n",
       "      <td>-0.302188</td>\n",
       "      <td>0.731470</td>\n",
       "      <td>-0.188933</td>\n",
       "      <td>-0.049553</td>\n",
       "      <td>0.590879</td>\n",
       "      <td>0.007238</td>\n",
       "      <td>-0.073903</td>\n",
       "      <td>-0.046393</td>\n",
       "      <td>0.013849</td>\n",
       "      <td>-0.037772</td>\n",
       "      <td>0.091956</td>\n",
       "      <td>0.915544</td>\n",
       "      <td>-0.769247</td>\n",
       "    </tr>\n",
       "    <tr>\n",
       "      <th>room_num</th>\n",
       "      <td>0.696304</td>\n",
       "      <td>-0.288784</td>\n",
       "      <td>-0.391676</td>\n",
       "      <td>-0.302188</td>\n",
       "      <td>1.000000</td>\n",
       "      <td>-0.240265</td>\n",
       "      <td>0.355501</td>\n",
       "      <td>0.032009</td>\n",
       "      <td>-0.613808</td>\n",
       "      <td>0.014583</td>\n",
       "      <td>0.163774</td>\n",
       "      <td>-0.004195</td>\n",
       "      <td>0.010554</td>\n",
       "      <td>0.046251</td>\n",
       "      <td>-0.064718</td>\n",
       "      <td>-0.282817</td>\n",
       "      <td>0.205241</td>\n",
       "    </tr>\n",
       "    <tr>\n",
       "      <th>age</th>\n",
       "      <td>-0.377999</td>\n",
       "      <td>0.559591</td>\n",
       "      <td>0.644779</td>\n",
       "      <td>0.731470</td>\n",
       "      <td>-0.240265</td>\n",
       "      <td>1.000000</td>\n",
       "      <td>-0.261515</td>\n",
       "      <td>-0.021012</td>\n",
       "      <td>0.602339</td>\n",
       "      <td>0.013918</td>\n",
       "      <td>0.005101</td>\n",
       "      <td>0.003452</td>\n",
       "      <td>-0.004354</td>\n",
       "      <td>-0.088609</td>\n",
       "      <td>0.074684</td>\n",
       "      <td>0.673850</td>\n",
       "      <td>-0.747906</td>\n",
       "    </tr>\n",
       "    <tr>\n",
       "      <th>teachers</th>\n",
       "      <td>0.505655</td>\n",
       "      <td>-0.390052</td>\n",
       "      <td>-0.383248</td>\n",
       "      <td>-0.188933</td>\n",
       "      <td>0.355501</td>\n",
       "      <td>-0.261515</td>\n",
       "      <td>1.000000</td>\n",
       "      <td>-0.008056</td>\n",
       "      <td>-0.374044</td>\n",
       "      <td>-0.037007</td>\n",
       "      <td>0.069437</td>\n",
       "      <td>0.048717</td>\n",
       "      <td>-0.046981</td>\n",
       "      <td>0.094256</td>\n",
       "      <td>-0.045928</td>\n",
       "      <td>-0.187004</td>\n",
       "      <td>0.232452</td>\n",
       "    </tr>\n",
       "    <tr>\n",
       "      <th>n_hos_beds</th>\n",
       "      <td>0.108880</td>\n",
       "      <td>-0.004089</td>\n",
       "      <td>0.005799</td>\n",
       "      <td>-0.049553</td>\n",
       "      <td>0.032009</td>\n",
       "      <td>-0.021012</td>\n",
       "      <td>-0.008056</td>\n",
       "      <td>1.000000</td>\n",
       "      <td>-0.066008</td>\n",
       "      <td>-0.003130</td>\n",
       "      <td>-0.006365</td>\n",
       "      <td>0.042278</td>\n",
       "      <td>0.059482</td>\n",
       "      <td>-0.074148</td>\n",
       "      <td>0.058596</td>\n",
       "      <td>-0.071272</td>\n",
       "      <td>-0.027871</td>\n",
       "    </tr>\n",
       "    <tr>\n",
       "      <th>poor_prop</th>\n",
       "      <td>-0.740836</td>\n",
       "      <td>0.608970</td>\n",
       "      <td>0.603800</td>\n",
       "      <td>0.590879</td>\n",
       "      <td>-0.613808</td>\n",
       "      <td>0.602339</td>\n",
       "      <td>-0.374044</td>\n",
       "      <td>-0.066008</td>\n",
       "      <td>1.000000</td>\n",
       "      <td>0.017036</td>\n",
       "      <td>-0.095054</td>\n",
       "      <td>0.003197</td>\n",
       "      <td>0.020620</td>\n",
       "      <td>-0.109004</td>\n",
       "      <td>0.061444</td>\n",
       "      <td>0.552310</td>\n",
       "      <td>-0.496967</td>\n",
       "    </tr>\n",
       "    <tr>\n",
       "      <th>n_hot_rooms</th>\n",
       "      <td>0.017007</td>\n",
       "      <td>0.056570</td>\n",
       "      <td>-0.003761</td>\n",
       "      <td>0.007238</td>\n",
       "      <td>0.014583</td>\n",
       "      <td>0.013918</td>\n",
       "      <td>-0.037007</td>\n",
       "      <td>-0.003130</td>\n",
       "      <td>0.017036</td>\n",
       "      <td>1.000000</td>\n",
       "      <td>-0.055338</td>\n",
       "      <td>0.037925</td>\n",
       "      <td>0.014755</td>\n",
       "      <td>-0.064096</td>\n",
       "      <td>0.014869</td>\n",
       "      <td>0.023757</td>\n",
       "      <td>-0.020700</td>\n",
       "    </tr>\n",
       "    <tr>\n",
       "      <th>airport_YES</th>\n",
       "      <td>0.182867</td>\n",
       "      <td>-0.134486</td>\n",
       "      <td>-0.115401</td>\n",
       "      <td>-0.073903</td>\n",
       "      <td>0.163774</td>\n",
       "      <td>0.005101</td>\n",
       "      <td>0.069437</td>\n",
       "      <td>-0.006365</td>\n",
       "      <td>-0.095054</td>\n",
       "      <td>-0.055338</td>\n",
       "      <td>1.000000</td>\n",
       "      <td>0.035491</td>\n",
       "      <td>-0.070341</td>\n",
       "      <td>0.017341</td>\n",
       "      <td>-0.013171</td>\n",
       "      <td>-0.052503</td>\n",
       "      <td>0.021402</td>\n",
       "    </tr>\n",
       "    <tr>\n",
       "      <th>waterbody_Lake</th>\n",
       "      <td>0.036233</td>\n",
       "      <td>-0.025390</td>\n",
       "      <td>-0.026590</td>\n",
       "      <td>-0.046393</td>\n",
       "      <td>-0.004195</td>\n",
       "      <td>0.003452</td>\n",
       "      <td>0.048717</td>\n",
       "      <td>0.042278</td>\n",
       "      <td>0.003197</td>\n",
       "      <td>0.037925</td>\n",
       "      <td>0.035491</td>\n",
       "      <td>1.000000</td>\n",
       "      <td>-0.196747</td>\n",
       "      <td>-0.366563</td>\n",
       "      <td>-0.016170</td>\n",
       "      <td>-0.034991</td>\n",
       "      <td>0.034890</td>\n",
       "    </tr>\n",
       "    <tr>\n",
       "      <th>waterbody_Lake and River</th>\n",
       "      <td>-0.037497</td>\n",
       "      <td>0.009076</td>\n",
       "      <td>0.051649</td>\n",
       "      <td>0.013849</td>\n",
       "      <td>0.010554</td>\n",
       "      <td>-0.004354</td>\n",
       "      <td>-0.046981</td>\n",
       "      <td>0.059482</td>\n",
       "      <td>0.020620</td>\n",
       "      <td>0.014755</td>\n",
       "      <td>-0.070341</td>\n",
       "      <td>-0.196747</td>\n",
       "      <td>1.000000</td>\n",
       "      <td>-0.304095</td>\n",
       "      <td>0.109234</td>\n",
       "      <td>0.013265</td>\n",
       "      <td>-0.021320</td>\n",
       "    </tr>\n",
       "    <tr>\n",
       "      <th>waterbody_River</th>\n",
       "      <td>0.071751</td>\n",
       "      <td>-0.060099</td>\n",
       "      <td>-0.098976</td>\n",
       "      <td>-0.037772</td>\n",
       "      <td>0.046251</td>\n",
       "      <td>-0.088609</td>\n",
       "      <td>0.094256</td>\n",
       "      <td>-0.074148</td>\n",
       "      <td>-0.109004</td>\n",
       "      <td>-0.064096</td>\n",
       "      <td>0.017341</td>\n",
       "      <td>-0.366563</td>\n",
       "      <td>-0.304095</td>\n",
       "      <td>1.000000</td>\n",
       "      <td>-0.037016</td>\n",
       "      <td>-0.048862</td>\n",
       "      <td>0.032247</td>\n",
       "    </tr>\n",
       "    <tr>\n",
       "      <th>rainfall</th>\n",
       "      <td>-0.047200</td>\n",
       "      <td>0.082151</td>\n",
       "      <td>0.055845</td>\n",
       "      <td>0.091956</td>\n",
       "      <td>-0.064718</td>\n",
       "      <td>0.074684</td>\n",
       "      <td>-0.045928</td>\n",
       "      <td>0.058596</td>\n",
       "      <td>0.061444</td>\n",
       "      <td>0.014869</td>\n",
       "      <td>-0.013171</td>\n",
       "      <td>-0.016170</td>\n",
       "      <td>0.109234</td>\n",
       "      <td>-0.037016</td>\n",
       "      <td>1.000000</td>\n",
       "      <td>0.078278</td>\n",
       "      <td>-0.037285</td>\n",
       "    </tr>\n",
       "    <tr>\n",
       "      <th>parks</th>\n",
       "      <td>-0.391574</td>\n",
       "      <td>0.638951</td>\n",
       "      <td>0.707635</td>\n",
       "      <td>0.915544</td>\n",
       "      <td>-0.282817</td>\n",
       "      <td>0.673850</td>\n",
       "      <td>-0.187004</td>\n",
       "      <td>-0.071272</td>\n",
       "      <td>0.552310</td>\n",
       "      <td>0.023757</td>\n",
       "      <td>-0.052503</td>\n",
       "      <td>-0.034991</td>\n",
       "      <td>0.013265</td>\n",
       "      <td>-0.048862</td>\n",
       "      <td>0.078278</td>\n",
       "      <td>1.000000</td>\n",
       "      <td>-0.707924</td>\n",
       "    </tr>\n",
       "    <tr>\n",
       "      <th>avg_dist</th>\n",
       "      <td>0.249289</td>\n",
       "      <td>-0.586371</td>\n",
       "      <td>-0.708022</td>\n",
       "      <td>-0.769247</td>\n",
       "      <td>0.205241</td>\n",
       "      <td>-0.747906</td>\n",
       "      <td>0.232452</td>\n",
       "      <td>-0.027871</td>\n",
       "      <td>-0.496967</td>\n",
       "      <td>-0.020700</td>\n",
       "      <td>0.021402</td>\n",
       "      <td>0.034890</td>\n",
       "      <td>-0.021320</td>\n",
       "      <td>0.032247</td>\n",
       "      <td>-0.037285</td>\n",
       "      <td>-0.707924</td>\n",
       "      <td>1.000000</td>\n",
       "    </tr>\n",
       "  </tbody>\n",
       "</table>\n",
       "</div>"
      ],
      "text/plain": [
       "                             price  crime_rate  resid_area  air_qual  \\\n",
       "price                     1.000000   -0.466527   -0.484754 -0.429300   \n",
       "crime_rate               -0.466527    1.000000    0.660283  0.707587   \n",
       "resid_area               -0.484754    0.660283    1.000000  0.763651   \n",
       "air_qual                 -0.429300    0.707587    0.763651  1.000000   \n",
       "room_num                  0.696304   -0.288784   -0.391676 -0.302188   \n",
       "age                      -0.377999    0.559591    0.644779  0.731470   \n",
       "teachers                  0.505655   -0.390052   -0.383248 -0.188933   \n",
       "n_hos_beds                0.108880   -0.004089    0.005799 -0.049553   \n",
       "poor_prop                -0.740836    0.608970    0.603800  0.590879   \n",
       "n_hot_rooms               0.017007    0.056570   -0.003761  0.007238   \n",
       "airport_YES               0.182867   -0.134486   -0.115401 -0.073903   \n",
       "waterbody_Lake            0.036233   -0.025390   -0.026590 -0.046393   \n",
       "waterbody_Lake and River -0.037497    0.009076    0.051649  0.013849   \n",
       "waterbody_River           0.071751   -0.060099   -0.098976 -0.037772   \n",
       "rainfall                 -0.047200    0.082151    0.055845  0.091956   \n",
       "parks                    -0.391574    0.638951    0.707635  0.915544   \n",
       "avg_dist                  0.249289   -0.586371   -0.708022 -0.769247   \n",
       "\n",
       "                          room_num       age  teachers  n_hos_beds  poor_prop  \\\n",
       "price                     0.696304 -0.377999  0.505655    0.108880  -0.740836   \n",
       "crime_rate               -0.288784  0.559591 -0.390052   -0.004089   0.608970   \n",
       "resid_area               -0.391676  0.644779 -0.383248    0.005799   0.603800   \n",
       "air_qual                 -0.302188  0.731470 -0.188933   -0.049553   0.590879   \n",
       "room_num                  1.000000 -0.240265  0.355501    0.032009  -0.613808   \n",
       "age                      -0.240265  1.000000 -0.261515   -0.021012   0.602339   \n",
       "teachers                  0.355501 -0.261515  1.000000   -0.008056  -0.374044   \n",
       "n_hos_beds                0.032009 -0.021012 -0.008056    1.000000  -0.066008   \n",
       "poor_prop                -0.613808  0.602339 -0.374044   -0.066008   1.000000   \n",
       "n_hot_rooms               0.014583  0.013918 -0.037007   -0.003130   0.017036   \n",
       "airport_YES               0.163774  0.005101  0.069437   -0.006365  -0.095054   \n",
       "waterbody_Lake           -0.004195  0.003452  0.048717    0.042278   0.003197   \n",
       "waterbody_Lake and River  0.010554 -0.004354 -0.046981    0.059482   0.020620   \n",
       "waterbody_River           0.046251 -0.088609  0.094256   -0.074148  -0.109004   \n",
       "rainfall                 -0.064718  0.074684 -0.045928    0.058596   0.061444   \n",
       "parks                    -0.282817  0.673850 -0.187004   -0.071272   0.552310   \n",
       "avg_dist                  0.205241 -0.747906  0.232452   -0.027871  -0.496967   \n",
       "\n",
       "                          n_hot_rooms  airport_YES  waterbody_Lake  \\\n",
       "price                        0.017007     0.182867        0.036233   \n",
       "crime_rate                   0.056570    -0.134486       -0.025390   \n",
       "resid_area                  -0.003761    -0.115401       -0.026590   \n",
       "air_qual                     0.007238    -0.073903       -0.046393   \n",
       "room_num                     0.014583     0.163774       -0.004195   \n",
       "age                          0.013918     0.005101        0.003452   \n",
       "teachers                    -0.037007     0.069437        0.048717   \n",
       "n_hos_beds                  -0.003130    -0.006365        0.042278   \n",
       "poor_prop                    0.017036    -0.095054        0.003197   \n",
       "n_hot_rooms                  1.000000    -0.055338        0.037925   \n",
       "airport_YES                 -0.055338     1.000000        0.035491   \n",
       "waterbody_Lake               0.037925     0.035491        1.000000   \n",
       "waterbody_Lake and River     0.014755    -0.070341       -0.196747   \n",
       "waterbody_River             -0.064096     0.017341       -0.366563   \n",
       "rainfall                     0.014869    -0.013171       -0.016170   \n",
       "parks                        0.023757    -0.052503       -0.034991   \n",
       "avg_dist                    -0.020700     0.021402        0.034890   \n",
       "\n",
       "                          waterbody_Lake and River  waterbody_River  rainfall  \\\n",
       "price                                    -0.037497         0.071751 -0.047200   \n",
       "crime_rate                                0.009076        -0.060099  0.082151   \n",
       "resid_area                                0.051649        -0.098976  0.055845   \n",
       "air_qual                                  0.013849        -0.037772  0.091956   \n",
       "room_num                                  0.010554         0.046251 -0.064718   \n",
       "age                                      -0.004354        -0.088609  0.074684   \n",
       "teachers                                 -0.046981         0.094256 -0.045928   \n",
       "n_hos_beds                                0.059482        -0.074148  0.058596   \n",
       "poor_prop                                 0.020620        -0.109004  0.061444   \n",
       "n_hot_rooms                               0.014755        -0.064096  0.014869   \n",
       "airport_YES                              -0.070341         0.017341 -0.013171   \n",
       "waterbody_Lake                           -0.196747        -0.366563 -0.016170   \n",
       "waterbody_Lake and River                  1.000000        -0.304095  0.109234   \n",
       "waterbody_River                          -0.304095         1.000000 -0.037016   \n",
       "rainfall                                  0.109234        -0.037016  1.000000   \n",
       "parks                                     0.013265        -0.048862  0.078278   \n",
       "avg_dist                                 -0.021320         0.032247 -0.037285   \n",
       "\n",
       "                             parks  avg_dist  \n",
       "price                    -0.391574  0.249289  \n",
       "crime_rate                0.638951 -0.586371  \n",
       "resid_area                0.707635 -0.708022  \n",
       "air_qual                  0.915544 -0.769247  \n",
       "room_num                 -0.282817  0.205241  \n",
       "age                       0.673850 -0.747906  \n",
       "teachers                 -0.187004  0.232452  \n",
       "n_hos_beds               -0.071272 -0.027871  \n",
       "poor_prop                 0.552310 -0.496967  \n",
       "n_hot_rooms               0.023757 -0.020700  \n",
       "airport_YES              -0.052503  0.021402  \n",
       "waterbody_Lake           -0.034991  0.034890  \n",
       "waterbody_Lake and River  0.013265 -0.021320  \n",
       "waterbody_River          -0.048862  0.032247  \n",
       "rainfall                  0.078278 -0.037285  \n",
       "parks                     1.000000 -0.707924  \n",
       "avg_dist                 -0.707924  1.000000  "
      ]
     },
     "execution_count": 1289,
     "metadata": {},
     "output_type": "execute_result"
    }
   ],
   "source": [
    "df.corr()"
   ]
  },
  {
   "cell_type": "code",
   "execution_count": 1290,
   "id": "3908d7f5",
   "metadata": {},
   "outputs": [],
   "source": [
    "del df['parks']"
   ]
  },
  {
   "cell_type": "code",
   "execution_count": 1291,
   "id": "1a328779",
   "metadata": {},
   "outputs": [
    {
     "data": {
      "text/html": [
       "<div>\n",
       "<style scoped>\n",
       "    .dataframe tbody tr th:only-of-type {\n",
       "        vertical-align: middle;\n",
       "    }\n",
       "\n",
       "    .dataframe tbody tr th {\n",
       "        vertical-align: top;\n",
       "    }\n",
       "\n",
       "    .dataframe thead th {\n",
       "        text-align: right;\n",
       "    }\n",
       "</style>\n",
       "<table border=\"1\" class=\"dataframe\">\n",
       "  <thead>\n",
       "    <tr style=\"text-align: right;\">\n",
       "      <th></th>\n",
       "      <th>price</th>\n",
       "      <th>crime_rate</th>\n",
       "      <th>resid_area</th>\n",
       "      <th>air_qual</th>\n",
       "      <th>room_num</th>\n",
       "      <th>age</th>\n",
       "      <th>teachers</th>\n",
       "      <th>n_hos_beds</th>\n",
       "      <th>poor_prop</th>\n",
       "      <th>n_hot_rooms</th>\n",
       "      <th>airport_YES</th>\n",
       "      <th>waterbody_Lake</th>\n",
       "      <th>waterbody_Lake and River</th>\n",
       "      <th>waterbody_River</th>\n",
       "      <th>rainfall</th>\n",
       "      <th>avg_dist</th>\n",
       "    </tr>\n",
       "  </thead>\n",
       "  <tbody>\n",
       "    <tr>\n",
       "      <th>0</th>\n",
       "      <td>24.0</td>\n",
       "      <td>0.006300</td>\n",
       "      <td>32.31</td>\n",
       "      <td>0.538</td>\n",
       "      <td>6.575</td>\n",
       "      <td>65.2</td>\n",
       "      <td>24.7</td>\n",
       "      <td>5.480</td>\n",
       "      <td>4.98</td>\n",
       "      <td>11.19200</td>\n",
       "      <td>1</td>\n",
       "      <td>0</td>\n",
       "      <td>0</td>\n",
       "      <td>1</td>\n",
       "      <td>23</td>\n",
       "      <td>4.0875</td>\n",
       "    </tr>\n",
       "    <tr>\n",
       "      <th>1</th>\n",
       "      <td>21.6</td>\n",
       "      <td>0.026944</td>\n",
       "      <td>37.07</td>\n",
       "      <td>0.469</td>\n",
       "      <td>6.421</td>\n",
       "      <td>78.9</td>\n",
       "      <td>22.2</td>\n",
       "      <td>7.332</td>\n",
       "      <td>9.14</td>\n",
       "      <td>12.17280</td>\n",
       "      <td>0</td>\n",
       "      <td>1</td>\n",
       "      <td>0</td>\n",
       "      <td>0</td>\n",
       "      <td>42</td>\n",
       "      <td>4.9675</td>\n",
       "    </tr>\n",
       "    <tr>\n",
       "      <th>2</th>\n",
       "      <td>34.7</td>\n",
       "      <td>0.026924</td>\n",
       "      <td>37.07</td>\n",
       "      <td>0.469</td>\n",
       "      <td>7.185</td>\n",
       "      <td>61.1</td>\n",
       "      <td>22.2</td>\n",
       "      <td>7.394</td>\n",
       "      <td>4.03</td>\n",
       "      <td>46.19856</td>\n",
       "      <td>0</td>\n",
       "      <td>0</td>\n",
       "      <td>0</td>\n",
       "      <td>0</td>\n",
       "      <td>38</td>\n",
       "      <td>4.9675</td>\n",
       "    </tr>\n",
       "    <tr>\n",
       "      <th>3</th>\n",
       "      <td>33.4</td>\n",
       "      <td>0.031857</td>\n",
       "      <td>32.18</td>\n",
       "      <td>0.458</td>\n",
       "      <td>6.998</td>\n",
       "      <td>45.8</td>\n",
       "      <td>21.3</td>\n",
       "      <td>9.268</td>\n",
       "      <td>2.94</td>\n",
       "      <td>11.26720</td>\n",
       "      <td>1</td>\n",
       "      <td>1</td>\n",
       "      <td>0</td>\n",
       "      <td>0</td>\n",
       "      <td>45</td>\n",
       "      <td>6.0650</td>\n",
       "    </tr>\n",
       "    <tr>\n",
       "      <th>4</th>\n",
       "      <td>36.2</td>\n",
       "      <td>0.066770</td>\n",
       "      <td>32.18</td>\n",
       "      <td>0.458</td>\n",
       "      <td>7.147</td>\n",
       "      <td>54.2</td>\n",
       "      <td>21.3</td>\n",
       "      <td>8.824</td>\n",
       "      <td>5.33</td>\n",
       "      <td>11.28960</td>\n",
       "      <td>0</td>\n",
       "      <td>1</td>\n",
       "      <td>0</td>\n",
       "      <td>0</td>\n",
       "      <td>55</td>\n",
       "      <td>6.0625</td>\n",
       "    </tr>\n",
       "  </tbody>\n",
       "</table>\n",
       "</div>"
      ],
      "text/plain": [
       "   price  crime_rate  resid_area  air_qual  room_num   age  teachers  \\\n",
       "0   24.0    0.006300       32.31     0.538     6.575  65.2      24.7   \n",
       "1   21.6    0.026944       37.07     0.469     6.421  78.9      22.2   \n",
       "2   34.7    0.026924       37.07     0.469     7.185  61.1      22.2   \n",
       "3   33.4    0.031857       32.18     0.458     6.998  45.8      21.3   \n",
       "4   36.2    0.066770       32.18     0.458     7.147  54.2      21.3   \n",
       "\n",
       "   n_hos_beds  poor_prop  n_hot_rooms  airport_YES  waterbody_Lake  \\\n",
       "0       5.480       4.98     11.19200            1               0   \n",
       "1       7.332       9.14     12.17280            0               1   \n",
       "2       7.394       4.03     46.19856            0               0   \n",
       "3       9.268       2.94     11.26720            1               1   \n",
       "4       8.824       5.33     11.28960            0               1   \n",
       "\n",
       "   waterbody_Lake and River  waterbody_River  rainfall  avg_dist  \n",
       "0                         0                1        23    4.0875  \n",
       "1                         0                0        42    4.9675  \n",
       "2                         0                0        38    4.9675  \n",
       "3                         0                0        45    6.0650  \n",
       "4                         0                0        55    6.0625  "
      ]
     },
     "execution_count": 1291,
     "metadata": {},
     "output_type": "execute_result"
    }
   ],
   "source": [
    "df.head()"
   ]
  },
  {
   "cell_type": "code",
   "execution_count": 1292,
   "id": "11e981a9",
   "metadata": {},
   "outputs": [],
   "source": [
    "import statsmodels.api as sm"
   ]
  },
  {
   "cell_type": "code",
   "execution_count": 1293,
   "id": "b53dfe1e",
   "metadata": {},
   "outputs": [],
   "source": [
    "X = sm.add_constant(df['room_num'])"
   ]
  },
  {
   "cell_type": "code",
   "execution_count": 1294,
   "id": "bf4a2802",
   "metadata": {},
   "outputs": [],
   "source": [
    "lm =sm.OLS(df['price'], X).fit()"
   ]
  },
  {
   "cell_type": "code",
   "execution_count": 1295,
   "id": "53b4b9be",
   "metadata": {},
   "outputs": [
    {
     "data": {
      "text/html": [
       "<table class=\"simpletable\">\n",
       "<caption>OLS Regression Results</caption>\n",
       "<tr>\n",
       "  <th>Dep. Variable:</th>          <td>price</td>      <th>  R-squared:         </th> <td>   0.485</td>\n",
       "</tr>\n",
       "<tr>\n",
       "  <th>Model:</th>                   <td>OLS</td>       <th>  Adj. R-squared:    </th> <td>   0.484</td>\n",
       "</tr>\n",
       "<tr>\n",
       "  <th>Method:</th>             <td>Least Squares</td>  <th>  F-statistic:       </th> <td>   474.3</td>\n",
       "</tr>\n",
       "<tr>\n",
       "  <th>Date:</th>             <td>Wed, 08 Nov 2023</td> <th>  Prob (F-statistic):</th> <td>1.31e-74</td>\n",
       "</tr>\n",
       "<tr>\n",
       "  <th>Time:</th>                 <td>14:10:50</td>     <th>  Log-Likelihood:    </th> <td> -1671.6</td>\n",
       "</tr>\n",
       "<tr>\n",
       "  <th>No. Observations:</th>      <td>   506</td>      <th>  AIC:               </th> <td>   3347.</td>\n",
       "</tr>\n",
       "<tr>\n",
       "  <th>Df Residuals:</th>          <td>   504</td>      <th>  BIC:               </th> <td>   3356.</td>\n",
       "</tr>\n",
       "<tr>\n",
       "  <th>Df Model:</th>              <td>     1</td>      <th>                     </th>     <td> </td>   \n",
       "</tr>\n",
       "<tr>\n",
       "  <th>Covariance Type:</th>      <td>nonrobust</td>    <th>                     </th>     <td> </td>   \n",
       "</tr>\n",
       "</table>\n",
       "<table class=\"simpletable\">\n",
       "<tr>\n",
       "      <td></td>        <th>coef</th>     <th>std err</th>      <th>t</th>      <th>P>|t|</th>  <th>[0.025</th>    <th>0.975]</th>  \n",
       "</tr>\n",
       "<tr>\n",
       "  <th>const</th>    <td>  -34.6592</td> <td>    2.642</td> <td>  -13.118</td> <td> 0.000</td> <td>  -39.850</td> <td>  -29.468</td>\n",
       "</tr>\n",
       "<tr>\n",
       "  <th>room_num</th> <td>    9.0997</td> <td>    0.418</td> <td>   21.779</td> <td> 0.000</td> <td>    8.279</td> <td>    9.921</td>\n",
       "</tr>\n",
       "</table>\n",
       "<table class=\"simpletable\">\n",
       "<tr>\n",
       "  <th>Omnibus:</th>       <td>103.753</td> <th>  Durbin-Watson:     </th> <td>   0.681</td> \n",
       "</tr>\n",
       "<tr>\n",
       "  <th>Prob(Omnibus):</th> <td> 0.000</td>  <th>  Jarque-Bera (JB):  </th> <td> 633.429</td> \n",
       "</tr>\n",
       "<tr>\n",
       "  <th>Skew:</th>          <td> 0.729</td>  <th>  Prob(JB):          </th> <td>2.84e-138</td>\n",
       "</tr>\n",
       "<tr>\n",
       "  <th>Kurtosis:</th>      <td> 8.284</td>  <th>  Cond. No.          </th> <td>    58.4</td> \n",
       "</tr>\n",
       "</table><br/><br/>Notes:<br/>[1] Standard Errors assume that the covariance matrix of the errors is correctly specified."
      ],
      "text/plain": [
       "<class 'statsmodels.iolib.summary.Summary'>\n",
       "\"\"\"\n",
       "                            OLS Regression Results                            \n",
       "==============================================================================\n",
       "Dep. Variable:                  price   R-squared:                       0.485\n",
       "Model:                            OLS   Adj. R-squared:                  0.484\n",
       "Method:                 Least Squares   F-statistic:                     474.3\n",
       "Date:                Wed, 08 Nov 2023   Prob (F-statistic):           1.31e-74\n",
       "Time:                        14:10:50   Log-Likelihood:                -1671.6\n",
       "No. Observations:                 506   AIC:                             3347.\n",
       "Df Residuals:                     504   BIC:                             3356.\n",
       "Df Model:                           1                                         \n",
       "Covariance Type:            nonrobust                                         \n",
       "==============================================================================\n",
       "                 coef    std err          t      P>|t|      [0.025      0.975]\n",
       "------------------------------------------------------------------------------\n",
       "const        -34.6592      2.642    -13.118      0.000     -39.850     -29.468\n",
       "room_num       9.0997      0.418     21.779      0.000       8.279       9.921\n",
       "==============================================================================\n",
       "Omnibus:                      103.753   Durbin-Watson:                   0.681\n",
       "Prob(Omnibus):                  0.000   Jarque-Bera (JB):              633.429\n",
       "Skew:                           0.729   Prob(JB):                    2.84e-138\n",
       "Kurtosis:                       8.284   Cond. No.                         58.4\n",
       "==============================================================================\n",
       "\n",
       "Notes:\n",
       "[1] Standard Errors assume that the covariance matrix of the errors is correctly specified.\n",
       "\"\"\""
      ]
     },
     "execution_count": 1295,
     "metadata": {},
     "output_type": "execute_result"
    }
   ],
   "source": [
    "lm.summary()"
   ]
  },
  {
   "cell_type": "markdown",
   "id": "8bacc047",
   "metadata": {},
   "source": []
  },
  {
   "cell_type": "code",
   "execution_count": 1296,
   "id": "a4097e52",
   "metadata": {},
   "outputs": [],
   "source": [
    "# Another method to do linear regression (most popular)"
   ]
  },
  {
   "cell_type": "code",
   "execution_count": 1297,
   "id": "e331319a",
   "metadata": {},
   "outputs": [],
   "source": [
    "from sklearn.linear_model import LinearRegression"
   ]
  },
  {
   "cell_type": "code",
   "execution_count": 1298,
   "id": "9252861d",
   "metadata": {},
   "outputs": [],
   "source": [
    "# define x and y variable"
   ]
  },
  {
   "cell_type": "code",
   "execution_count": 1299,
   "id": "594fa65e",
   "metadata": {},
   "outputs": [],
   "source": [
    "y = df['price']"
   ]
  },
  {
   "cell_type": "code",
   "execution_count": 1300,
   "id": "8070803c",
   "metadata": {},
   "outputs": [],
   "source": [
    "# Make this 2D array\n",
    "x = df[['room_num']]"
   ]
  },
  {
   "cell_type": "code",
   "execution_count": 1301,
   "id": "eeed6f6b",
   "metadata": {},
   "outputs": [],
   "source": [
    "# create linear model object. this is done before you fit your model\n",
    "lm2 = LinearRegression()"
   ]
  },
  {
   "cell_type": "code",
   "execution_count": 1302,
   "id": "a9838a38",
   "metadata": {},
   "outputs": [
    {
     "data": {
      "text/html": [
       "<style>#sk-container-id-40 {color: black;}#sk-container-id-40 pre{padding: 0;}#sk-container-id-40 div.sk-toggleable {background-color: white;}#sk-container-id-40 label.sk-toggleable__label {cursor: pointer;display: block;width: 100%;margin-bottom: 0;padding: 0.3em;box-sizing: border-box;text-align: center;}#sk-container-id-40 label.sk-toggleable__label-arrow:before {content: \"▸\";float: left;margin-right: 0.25em;color: #696969;}#sk-container-id-40 label.sk-toggleable__label-arrow:hover:before {color: black;}#sk-container-id-40 div.sk-estimator:hover label.sk-toggleable__label-arrow:before {color: black;}#sk-container-id-40 div.sk-toggleable__content {max-height: 0;max-width: 0;overflow: hidden;text-align: left;background-color: #f0f8ff;}#sk-container-id-40 div.sk-toggleable__content pre {margin: 0.2em;color: black;border-radius: 0.25em;background-color: #f0f8ff;}#sk-container-id-40 input.sk-toggleable__control:checked~div.sk-toggleable__content {max-height: 200px;max-width: 100%;overflow: auto;}#sk-container-id-40 input.sk-toggleable__control:checked~label.sk-toggleable__label-arrow:before {content: \"▾\";}#sk-container-id-40 div.sk-estimator input.sk-toggleable__control:checked~label.sk-toggleable__label {background-color: #d4ebff;}#sk-container-id-40 div.sk-label input.sk-toggleable__control:checked~label.sk-toggleable__label {background-color: #d4ebff;}#sk-container-id-40 input.sk-hidden--visually {border: 0;clip: rect(1px 1px 1px 1px);clip: rect(1px, 1px, 1px, 1px);height: 1px;margin: -1px;overflow: hidden;padding: 0;position: absolute;width: 1px;}#sk-container-id-40 div.sk-estimator {font-family: monospace;background-color: #f0f8ff;border: 1px dotted black;border-radius: 0.25em;box-sizing: border-box;margin-bottom: 0.5em;}#sk-container-id-40 div.sk-estimator:hover {background-color: #d4ebff;}#sk-container-id-40 div.sk-parallel-item::after {content: \"\";width: 100%;border-bottom: 1px solid gray;flex-grow: 1;}#sk-container-id-40 div.sk-label:hover label.sk-toggleable__label {background-color: #d4ebff;}#sk-container-id-40 div.sk-serial::before {content: \"\";position: absolute;border-left: 1px solid gray;box-sizing: border-box;top: 0;bottom: 0;left: 50%;z-index: 0;}#sk-container-id-40 div.sk-serial {display: flex;flex-direction: column;align-items: center;background-color: white;padding-right: 0.2em;padding-left: 0.2em;position: relative;}#sk-container-id-40 div.sk-item {position: relative;z-index: 1;}#sk-container-id-40 div.sk-parallel {display: flex;align-items: stretch;justify-content: center;background-color: white;position: relative;}#sk-container-id-40 div.sk-item::before, #sk-container-id-40 div.sk-parallel-item::before {content: \"\";position: absolute;border-left: 1px solid gray;box-sizing: border-box;top: 0;bottom: 0;left: 50%;z-index: -1;}#sk-container-id-40 div.sk-parallel-item {display: flex;flex-direction: column;z-index: 1;position: relative;background-color: white;}#sk-container-id-40 div.sk-parallel-item:first-child::after {align-self: flex-end;width: 50%;}#sk-container-id-40 div.sk-parallel-item:last-child::after {align-self: flex-start;width: 50%;}#sk-container-id-40 div.sk-parallel-item:only-child::after {width: 0;}#sk-container-id-40 div.sk-dashed-wrapped {border: 1px dashed gray;margin: 0 0.4em 0.5em 0.4em;box-sizing: border-box;padding-bottom: 0.4em;background-color: white;}#sk-container-id-40 div.sk-label label {font-family: monospace;font-weight: bold;display: inline-block;line-height: 1.2em;}#sk-container-id-40 div.sk-label-container {text-align: center;}#sk-container-id-40 div.sk-container {/* jupyter's `normalize.less` sets `[hidden] { display: none; }` but bootstrap.min.css set `[hidden] { display: none !important; }` so we also need the `!important` here to be able to override the default hidden behavior on the sphinx rendered scikit-learn.org. See: https://github.com/scikit-learn/scikit-learn/issues/21755 */display: inline-block !important;position: relative;}#sk-container-id-40 div.sk-text-repr-fallback {display: none;}</style><div id=\"sk-container-id-40\" class=\"sk-top-container\"><div class=\"sk-text-repr-fallback\"><pre>LinearRegression()</pre><b>In a Jupyter environment, please rerun this cell to show the HTML representation or trust the notebook. <br />On GitHub, the HTML representation is unable to render, please try loading this page with nbviewer.org.</b></div><div class=\"sk-container\" hidden><div class=\"sk-item\"><div class=\"sk-estimator sk-toggleable\"><input class=\"sk-toggleable__control sk-hidden--visually\" id=\"sk-estimator-id-40\" type=\"checkbox\" checked><label for=\"sk-estimator-id-40\" class=\"sk-toggleable__label sk-toggleable__label-arrow\">LinearRegression</label><div class=\"sk-toggleable__content\"><pre>LinearRegression()</pre></div></div></div></div></div>"
      ],
      "text/plain": [
       "LinearRegression()"
      ]
     },
     "execution_count": 1302,
     "metadata": {},
     "output_type": "execute_result"
    }
   ],
   "source": [
    "# fit your model\n",
    "lm2.fit(x, y)"
   ]
  },
  {
   "cell_type": "code",
   "execution_count": 1303,
   "id": "a291dcc3",
   "metadata": {},
   "outputs": [
    {
     "name": "stdout",
     "output_type": "stream",
     "text": [
      "-34.6592431230972 [9.09966966]\n"
     ]
    }
   ],
   "source": [
    "# display the intercept and coefficient\n",
    "print(lm2.intercept_, lm2.coef_)"
   ]
  },
  {
   "cell_type": "code",
   "execution_count": 1304,
   "id": "16725442",
   "metadata": {},
   "outputs": [],
   "source": [
    "# help(lm2)"
   ]
  },
  {
   "cell_type": "code",
   "execution_count": 1305,
   "id": "c410cb28",
   "metadata": {},
   "outputs": [
    {
     "data": {
      "text/plain": [
       "array([25.17108491, 23.76973578, 30.72188341, 29.02024518, 30.37609596,\n",
       "       23.85163281, 20.04797089, 21.50391804, 16.58099675, 19.97517353,\n",
       "       23.36935032, 20.02067188, 18.92871152, 19.4746917 , 20.81234314,\n",
       "       18.42822969, 19.34729633, 19.84777816, 14.98855456, 17.45456504,\n",
       "       16.0259169 , 19.62028642, 21.23092795, 18.23713663, 19.24719996,\n",
       "       16.28980732, 18.23713663, 20.36645933, 24.44311134, 26.07195221,\n",
       "       17.32716966, 20.59395107, 19.48379137, 17.21797363, 20.81234314,\n",
       "       19.32909699, 18.49192738, 18.57382441, 19.62938609, 25.3530783 ,\n",
       "       29.25683659, 26.9455205 , 21.47661903, 21.85880515, 20.56665206,\n",
       "       17.0450799 , 17.99144555, 20.21176495, 14.46987339, 16.31710633,\n",
       "       19.60208708, 20.98523687, 24.58870605, 19.92057552, 18.91961185,\n",
       "       31.30426226, 23.42394834, 27.3641053 , 21.25822696, 19.27449897,\n",
       "       17.58196041, 19.62938609, 24.08822422, 26.87272314, 29.98481016,\n",
       "       22.57767906, 18.00054522, 18.82861516, 16.24430897, 18.89231284,\n",
       "       23.7333371 , 19.58388774, 20.53025338, 22.16819392, 22.42298467,\n",
       "       22.54128038, 22.47758269, 21.21272861, 22.04989822, 18.79221648,\n",
       "       26.5542347 , 25.57147038, 22.68687509, 21.45841969, 23.47854635,\n",
       "       25.67156674, 20.0752699 , 21.03983488, 29.10214221, 29.75731842,\n",
       "       23.7333371 , 23.62414107, 23.96082885, 21.85880515, 22.2045926 ,\n",
       "       25.62606839, 21.42202101, 38.76599139, 36.50017364, 32.8239071 ,\n",
       "       26.5542347 , 27.04561686, 23.62414107, 21.1854296 , 21.45841969,\n",
       "       18.58292408, 18.44642903, 21.0944329 , 24.25201828, 22.02259921,\n",
       "       21.71321044, 26.44503866, 19.14710359, 20.77594446, 22.25009095,\n",
       "       19.28359864, 21.54031672, 20.12986792, 18.77401714, 17.49096372,\n",
       "       18.7558178 , 19.97517353, 19.58388774, 18.62842242, 18.83771483,\n",
       "       19.81137948, 16.4172027 , 17.14517627, 23.86073248, 16.63559477,\n",
       "       24.10642356, 22.90526717, 23.32385197, 18.31903366, 17.72755513,\n",
       "       22.98716419, 19.41099401, 24.07002488, 18.63752209, 21.31282497,\n",
       "       21.52211738, 11.01199892, 14.50627207, 15.09775059,  9.95643723,\n",
       "       21.12173191, 16.55369774, 10.16572964, 12.53164375, 16.27160798,\n",
       "       21.04893455, 14.51537174, 10.94830123, 17.29077098, 21.11263224,\n",
       "       21.32192464, 13.31421534, 28.51976335, 20.53935305, 24.57960638,\n",
       "       22.21369227, 33.48818298, 36.33637959, 41.55049031, 18.61022308,\n",
       "       20.85784149, 37.49203764, 18.81951549, 22.84156948, 23.59684206,\n",
       "       18.80131615, 18.8468145 , 16.04411624, 23.72423744, 18.65572143,\n",
       "       24.90719449, 20.12076825, 22.8051708 , 27.76449077, 28.85645113,\n",
       "       35.99969181, 21.24912729, 30.44889332, 25.06188888, 16.33530567,\n",
       "       21.33102431, 36.60027001, 27.05471653, 24.99819119, 30.72188341,\n",
       "       28.5925607 , 26.66343074, 30.65818572, 27.21851059, 25.43497533,\n",
       "       37.00065547, 31.65004971, 30.01210917, 31.53175401, 28.81095278,\n",
       "       30.26689992, 21.41292134, 34.58924301, 36.80046274, 38.44750295,\n",
       "       18.94691086, 22.90526717, 17.96414654, 20.52115371, 13.96939156,\n",
       "       19.57478807, 14.51537174, 18.18253861, 23.35115098, 14.58816909,\n",
       "       21.59491473, 18.91961185, 25.78076278, 19.49289104, 23.33295164,\n",
       "       28.5925607 , 21.43112068, 27.93738449, 25.56237071, 40.55862631,\n",
       "       44.73537469, 38.50210097, 30.52169067, 35.28081791, 24.96179251,\n",
       "       19.76588113, 32.78750842, 41.20470286, 40.38573259, 26.54513503,\n",
       "       20.72134645, 25.68066641, 32.29612626, 24.31571596, 25.45317467,\n",
       "       28.10117854, 20.80324347, 23.19645659, 23.51494503, 16.2352093 ,\n",
       "       16.34440534, 20.92153918, 21.9953002 , 23.87893182, 26.47233767,\n",
       "       24.37031398, 23.92443017, 28.64715872, 40.49492862, 20.92153918,\n",
       "       18.81041582, 33.16969455, 44.54428162, 32.06863452, 27.60069671,\n",
       "       30.88567746, 33.77027274, 41.75978271, 32.0140365 , 30.91297647,\n",
       "       15.9349202 , 29.16583989, 40.84071607, 33.31528926, 19.21080128,\n",
       "       18.62842242, 22.12269557, 24.83439713, 35.32631626, 26.83632446,\n",
       "       27.70989275, 31.46805632, 27.455102  , 24.32481563, 27.32770662,\n",
       "       36.50017364, 28.74725509, 34.90773145, 37.43743962, 29.83921545,\n",
       "       24.06092521, 22.03169888, 21.84060581, 22.8051708 , 25.08008821,\n",
       "       27.77359044, 30.38519563, 25.67156674, 21.0944329 , 20.02067188,\n",
       "       26.10835089, 24.9344935 , 18.02784423, 23.07816089, 29.41153097,\n",
       "       27.86458713, 25.30757996, 24.44311134, 28.87465046, 31.18596656,\n",
       "       25.54417137, 32.86030578, 27.6643944 , 25.71706509, 19.6839841 ,\n",
       "       10.59341411, 21.04893455, 20.14806726, 22.35928699, 25.09828755,\n",
       "       17.2543723 , 19.15620326, 17.95504687, 23.41484867, 20.96703753,\n",
       "       23.81523413, 23.36025065, 20.31186131, 17.28167131, 23.71513777,\n",
       "       23.86073248, 22.77787179, 20.69404744, 18.73761846, 22.96896485,\n",
       "       21.24912729, 17.26347197, 20.22086461, 22.81427047, 22.75967245,\n",
       "       20.27546263, 18.74671813, 18.98330954, 20.47565537, 19.80227981,\n",
       "       19.64758543, 31.23146491, 24.85259647, 26.27214494, 27.89188614,\n",
       "       20.06617023, 19.01060855, 24.6342044 , 25.71706509, 28.48336467,\n",
       "       24.39761299, 25.20748359, 18.88321317, 26.56333437, 16.87218618,\n",
       "       19.356396  , 21.86790482, 23.53314437, 21.0944329 , 20.95793786,\n",
       "       23.56044338, 22.22279194, 14.13318561, 18.14613993, 45.23585652,\n",
       "       -2.25531945, 10.50241741,  0.49278079, 10.5661151 , 26.15384924,\n",
       "       29.18403923, 21.9043035 , 18.80131615,  9.98373624,  2.99518994,\n",
       "       31.88664112, 25.84446047, 27.16391257, 23.39664933, 21.96800119,\n",
       "       28.74725509, 24.89809482, 15.71652813, 15.57093342,  5.08811397,\n",
       "       13.35971369,  7.67242015, 10.83910519,  9.74714483, 14.38797636,\n",
       "       17.32716966, 20.40285801, 11.1666933 , 21.6950111 , 18.91051218,\n",
       "       24.22471927, 23.62414107, 17.63655843, 14.96125555, 18.59202375,\n",
       "       19.82047915, 23.05996155, 23.6150414 , 14.0148899 , 15.67102978,\n",
       "       17.05417957,  2.99518994, 16.37170435, 16.45360137, 27.69169341,\n",
       "       17.72755513, 25.91725782,  7.45402808, 12.24955399,  6.46216408,\n",
       "       23.88803149, 27.05471653, 13.60540477, 19.54748906, 27.43690266,\n",
       "       23.67873909, 19.99337287, 16.73569113, 20.87604083, 15.98041855,\n",
       "       18.99240921, 18.4555287 , 21.77690813, 21.6950111 , 23.39664933,\n",
       "       23.1054599 , 27.51879968, 23.80613446, 23.90623083, 21.83150615,\n",
       "       25.66246707, 24.13372257, 21.32192464, 19.34729633, 16.54459807,\n",
       "       18.28263498, 23.63324074, 21.93160251, 24.35211464, 18.61022308,\n",
       "       24.11552323, 23.04176221, 22.22279194, 21.62221374, 23.7333371 ,\n",
       "       26.75442743, 25.89905848, 22.64137675, 32.6146147 , 26.56333437,\n",
       "       24.71610143, 19.72038278, 19.356396  , 22.67777542, 20.6758481 ,\n",
       "       26.31764329, 23.36025065, 22.82337014, 24.60690539, 21.84060581,\n",
       "       17.74575447, 19.50199071, 19.96607386, 19.2653993 , 17.32716966,\n",
       "       21.45841969, 22.02259921, 23.9153305 , 28.85645113, 14.72466414,\n",
       "       21.41292134, 24.34301497, 13.60540477, 21.62221374, 22.02259921,\n",
       "       22.14089491, 26.7635271 , 29.59352437, 17.77305348, 18.76491747,\n",
       "       22.77787179, 20.9761372 , 19.07430624, 14.97035522, 14.60636843,\n",
       "       11.68537447, 19.78408047, 19.78408047, 17.27257164, 19.2653993 ,\n",
       "       16.93588387, 14.38797636, 18.0642429 , 20.11166858, 16.01681723,\n",
       "       20.18446594, 25.33487897, 21.03073521, 28.82005245, 27.16391257,\n",
       "       20.21176495])"
      ]
     },
     "execution_count": 1305,
     "metadata": {},
     "output_type": "execute_result"
    }
   ],
   "source": [
    "# predicting the value of y depending on the linear model which we created\n",
    "lm2.predict(x)"
   ]
  },
  {
   "cell_type": "code",
   "execution_count": 1306,
   "id": "288b3781",
   "metadata": {},
   "outputs": [
    {
     "name": "stdout",
     "output_type": "stream",
     "text": [
      "Help on function jointplot in module seaborn.axisgrid:\n",
      "\n",
      "jointplot(data=None, *, x=None, y=None, hue=None, kind='scatter', height=6, ratio=5, space=0.2, dropna=False, xlim=None, ylim=None, color=None, palette=None, hue_order=None, hue_norm=None, marginal_ticks=False, joint_kws=None, marginal_kws=None, **kwargs)\n",
      "    Draw a plot of two variables with bivariate and univariate graphs.\n",
      "    \n",
      "    This function provides a convenient interface to the :class:`JointGrid`\n",
      "    class, with several canned plot kinds. This is intended to be a fairly\n",
      "    lightweight wrapper; if you need more flexibility, you should use\n",
      "    :class:`JointGrid` directly.\n",
      "    \n",
      "    Parameters\n",
      "    ----------\n",
      "    data : :class:`pandas.DataFrame`, :class:`numpy.ndarray`, mapping, or sequence\n",
      "        Input data structure. Either a long-form collection of vectors that can be\n",
      "        assigned to named variables or a wide-form dataset that will be internally\n",
      "        reshaped.\n",
      "    x, y : vectors or keys in ``data``\n",
      "        Variables that specify positions on the x and y axes.\n",
      "    hue : vector or key in ``data``\n",
      "        Semantic variable that is mapped to determine the color of plot elements.\n",
      "    kind : { \"scatter\" | \"kde\" | \"hist\" | \"hex\" | \"reg\" | \"resid\" }\n",
      "        Kind of plot to draw. See the examples for references to the underlying functions.\n",
      "    height : numeric\n",
      "        Size of the figure (it will be square).\n",
      "    ratio : numeric\n",
      "        Ratio of joint axes height to marginal axes height.\n",
      "    space : numeric\n",
      "        Space between the joint and marginal axes\n",
      "    dropna : bool\n",
      "        If True, remove observations that are missing from ``x`` and ``y``.\n",
      "    {x, y}lim : pairs of numbers\n",
      "        Axis limits to set before plotting.\n",
      "    color : :mod:`matplotlib color <matplotlib.colors>`\n",
      "        Single color specification for when hue mapping is not used. Otherwise, the\n",
      "        plot will try to hook into the matplotlib property cycle.\n",
      "    palette : string, list, dict, or :class:`matplotlib.colors.Colormap`\n",
      "        Method for choosing the colors to use when mapping the ``hue`` semantic.\n",
      "        String values are passed to :func:`color_palette`. List or dict values\n",
      "        imply categorical mapping, while a colormap object implies numeric mapping.\n",
      "    hue_order : vector of strings\n",
      "        Specify the order of processing and plotting for categorical levels of the\n",
      "        ``hue`` semantic.\n",
      "    hue_norm : tuple or :class:`matplotlib.colors.Normalize`\n",
      "        Either a pair of values that set the normalization range in data units\n",
      "        or an object that will map from data units into a [0, 1] interval. Usage\n",
      "        implies numeric mapping.\n",
      "    marginal_ticks : bool\n",
      "        If False, suppress ticks on the count/density axis of the marginal plots.\n",
      "    {joint, marginal}_kws : dicts\n",
      "        Additional keyword arguments for the plot components.\n",
      "    kwargs\n",
      "        Additional keyword arguments are passed to the function used to\n",
      "        draw the plot on the joint Axes, superseding items in the\n",
      "        ``joint_kws`` dictionary.\n",
      "    \n",
      "    Returns\n",
      "    -------\n",
      "    :class:`JointGrid`\n",
      "        An object managing multiple subplots that correspond to joint and marginal axes\n",
      "        for plotting a bivariate relationship or distribution.\n",
      "    \n",
      "    See Also\n",
      "    --------\n",
      "    JointGrid : Set up a figure with joint and marginal views on bivariate data.\n",
      "    PairGrid : Set up a figure with joint and marginal views on multiple variables.\n",
      "    jointplot : Draw multiple bivariate plots with univariate marginal distributions.\n",
      "    \n",
      "    Examples\n",
      "    --------\n",
      "    \n",
      "    .. include:: ../docstrings/jointplot.rst\n",
      "\n"
     ]
    }
   ],
   "source": [
    "help(sns.jointplot)"
   ]
  },
  {
   "cell_type": "code",
   "execution_count": 1307,
   "id": "b08bb00e",
   "metadata": {},
   "outputs": [
    {
     "data": {
      "text/plain": [
       "<seaborn.axisgrid.JointGrid at 0x22f5ba3f490>"
      ]
     },
     "execution_count": 1307,
     "metadata": {},
     "output_type": "execute_result"
    },
    {
     "data": {
      "image/png": "[encoded data removed]",
      "text/plain": [
       "<Figure size 600x600 with 3 Axes>"
      ]
     },
     "metadata": {},
     "output_type": "display_data"
    }
   ],
   "source": [
    "# plot the regression line on a graph\n",
    "sns.jointplot(x = df['room_num'], y = df['price'], data = df, kind = 'reg')"
   ]
  },
  {
   "cell_type": "markdown",
   "id": "a98b3519",
   "metadata": {},
   "source": [
    "##### Multiple Linear Regression"
   ]
  },
  {
   "cell_type": "code",
   "execution_count": 1308,
   "id": "238d5870",
   "metadata": {},
   "outputs": [],
   "source": [
    "# drop the dependent column and save all the independent variables \n",
    "x_multi = df.drop('price', axis = 1)"
   ]
  },
  {
   "cell_type": "code",
   "execution_count": 1309,
   "id": "d9f73f44",
   "metadata": {},
   "outputs": [
    {
     "data": {
      "text/html": [
       "<div>\n",
       "<style scoped>\n",
       "    .dataframe tbody tr th:only-of-type {\n",
       "        vertical-align: middle;\n",
       "    }\n",
       "\n",
       "    .dataframe tbody tr th {\n",
       "        vertical-align: top;\n",
       "    }\n",
       "\n",
       "    .dataframe thead th {\n",
       "        text-align: right;\n",
       "    }\n",
       "</style>\n",
       "<table border=\"1\" class=\"dataframe\">\n",
       "  <thead>\n",
       "    <tr style=\"text-align: right;\">\n",
       "      <th></th>\n",
       "      <th>crime_rate</th>\n",
       "      <th>resid_area</th>\n",
       "      <th>air_qual</th>\n",
       "      <th>room_num</th>\n",
       "      <th>age</th>\n",
       "      <th>teachers</th>\n",
       "      <th>n_hos_beds</th>\n",
       "      <th>poor_prop</th>\n",
       "      <th>n_hot_rooms</th>\n",
       "      <th>airport_YES</th>\n",
       "      <th>waterbody_Lake</th>\n",
       "      <th>waterbody_Lake and River</th>\n",
       "      <th>waterbody_River</th>\n",
       "      <th>rainfall</th>\n",
       "      <th>avg_dist</th>\n",
       "    </tr>\n",
       "  </thead>\n",
       "  <tbody>\n",
       "    <tr>\n",
       "      <th>0</th>\n",
       "      <td>0.006300</td>\n",
       "      <td>32.31</td>\n",
       "      <td>0.538</td>\n",
       "      <td>6.575</td>\n",
       "      <td>65.2</td>\n",
       "      <td>24.7</td>\n",
       "      <td>5.480</td>\n",
       "      <td>4.98</td>\n",
       "      <td>11.19200</td>\n",
       "      <td>1</td>\n",
       "      <td>0</td>\n",
       "      <td>0</td>\n",
       "      <td>1</td>\n",
       "      <td>23</td>\n",
       "      <td>4.0875</td>\n",
       "    </tr>\n",
       "    <tr>\n",
       "      <th>1</th>\n",
       "      <td>0.026944</td>\n",
       "      <td>37.07</td>\n",
       "      <td>0.469</td>\n",
       "      <td>6.421</td>\n",
       "      <td>78.9</td>\n",
       "      <td>22.2</td>\n",
       "      <td>7.332</td>\n",
       "      <td>9.14</td>\n",
       "      <td>12.17280</td>\n",
       "      <td>0</td>\n",
       "      <td>1</td>\n",
       "      <td>0</td>\n",
       "      <td>0</td>\n",
       "      <td>42</td>\n",
       "      <td>4.9675</td>\n",
       "    </tr>\n",
       "    <tr>\n",
       "      <th>2</th>\n",
       "      <td>0.026924</td>\n",
       "      <td>37.07</td>\n",
       "      <td>0.469</td>\n",
       "      <td>7.185</td>\n",
       "      <td>61.1</td>\n",
       "      <td>22.2</td>\n",
       "      <td>7.394</td>\n",
       "      <td>4.03</td>\n",
       "      <td>46.19856</td>\n",
       "      <td>0</td>\n",
       "      <td>0</td>\n",
       "      <td>0</td>\n",
       "      <td>0</td>\n",
       "      <td>38</td>\n",
       "      <td>4.9675</td>\n",
       "    </tr>\n",
       "    <tr>\n",
       "      <th>3</th>\n",
       "      <td>0.031857</td>\n",
       "      <td>32.18</td>\n",
       "      <td>0.458</td>\n",
       "      <td>6.998</td>\n",
       "      <td>45.8</td>\n",
       "      <td>21.3</td>\n",
       "      <td>9.268</td>\n",
       "      <td>2.94</td>\n",
       "      <td>11.26720</td>\n",
       "      <td>1</td>\n",
       "      <td>1</td>\n",
       "      <td>0</td>\n",
       "      <td>0</td>\n",
       "      <td>45</td>\n",
       "      <td>6.0650</td>\n",
       "    </tr>\n",
       "    <tr>\n",
       "      <th>4</th>\n",
       "      <td>0.066770</td>\n",
       "      <td>32.18</td>\n",
       "      <td>0.458</td>\n",
       "      <td>7.147</td>\n",
       "      <td>54.2</td>\n",
       "      <td>21.3</td>\n",
       "      <td>8.824</td>\n",
       "      <td>5.33</td>\n",
       "      <td>11.28960</td>\n",
       "      <td>0</td>\n",
       "      <td>1</td>\n",
       "      <td>0</td>\n",
       "      <td>0</td>\n",
       "      <td>55</td>\n",
       "      <td>6.0625</td>\n",
       "    </tr>\n",
       "  </tbody>\n",
       "</table>\n",
       "</div>"
      ],
      "text/plain": [
       "   crime_rate  resid_area  air_qual  room_num   age  teachers  n_hos_beds  \\\n",
       "0    0.006300       32.31     0.538     6.575  65.2      24.7       5.480   \n",
       "1    0.026944       37.07     0.469     6.421  78.9      22.2       7.332   \n",
       "2    0.026924       37.07     0.469     7.185  61.1      22.2       7.394   \n",
       "3    0.031857       32.18     0.458     6.998  45.8      21.3       9.268   \n",
       "4    0.066770       32.18     0.458     7.147  54.2      21.3       8.824   \n",
       "\n",
       "   poor_prop  n_hot_rooms  airport_YES  waterbody_Lake  \\\n",
       "0       4.98     11.19200            1               0   \n",
       "1       9.14     12.17280            0               1   \n",
       "2       4.03     46.19856            0               0   \n",
       "3       2.94     11.26720            1               1   \n",
       "4       5.33     11.28960            0               1   \n",
       "\n",
       "   waterbody_Lake and River  waterbody_River  rainfall  avg_dist  \n",
       "0                         0                1        23    4.0875  \n",
       "1                         0                0        42    4.9675  \n",
       "2                         0                0        38    4.9675  \n",
       "3                         0                0        45    6.0650  \n",
       "4                         0                0        55    6.0625  "
      ]
     },
     "execution_count": 1309,
     "metadata": {},
     "output_type": "execute_result"
    }
   ],
   "source": [
    "# verify\n",
    "x_multi.head()  "
   ]
  },
  {
   "cell_type": "code",
   "execution_count": 1310,
   "id": "348e961c",
   "metadata": {},
   "outputs": [],
   "source": [
    "# create dependent variable\n",
    "y_multi = df['price']"
   ]
  },
  {
   "cell_type": "code",
   "execution_count": 1311,
   "id": "f7a28ef6",
   "metadata": {},
   "outputs": [
    {
     "data": {
      "text/plain": [
       "0    24.0\n",
       "1    21.6\n",
       "2    34.7\n",
       "3    33.4\n",
       "4    36.2\n",
       "Name: price, dtype: float64"
      ]
     },
     "execution_count": 1311,
     "metadata": {},
     "output_type": "execute_result"
    }
   ],
   "source": [
    "y_multi.head()"
   ]
  },
  {
   "cell_type": "code",
   "execution_count": 1312,
   "id": "bf2bd698",
   "metadata": {},
   "outputs": [],
   "source": [
    "#  add constant to the data, by default B0 is 0 in the set model\n",
    "x_multi_cons = sm.add_constant(x_multi)"
   ]
  },
  {
   "cell_type": "code",
   "execution_count": 1313,
   "id": "cdf26ea1",
   "metadata": {},
   "outputs": [],
   "source": [
    "# x_multi_cons.info()"
   ]
  },
  {
   "cell_type": "code",
   "execution_count": 1314,
   "id": "93ecb0b9",
   "metadata": {},
   "outputs": [],
   "source": [
    "# x_multi_cons['n_hos_beds'] = pd.to_numeric(x_multi_cons['n_hos_beds'], errors='coerce')"
   ]
  },
  {
   "cell_type": "code",
   "execution_count": 1315,
   "id": "e03481e6",
   "metadata": {},
   "outputs": [
    {
     "name": "stdout",
     "output_type": "stream",
     "text": [
      "<class 'pandas.core.frame.DataFrame'>\n",
      "RangeIndex: 506 entries, 0 to 505\n",
      "Data columns (total 16 columns):\n",
      " #   Column                    Non-Null Count  Dtype  \n",
      "---  ------                    --------------  -----  \n",
      " 0   const                     506 non-null    float64\n",
      " 1   crime_rate                506 non-null    float64\n",
      " 2   resid_area                506 non-null    float64\n",
      " 3   air_qual                  506 non-null    float64\n",
      " 4   room_num                  506 non-null    float64\n",
      " 5   age                       506 non-null    float64\n",
      " 6   teachers                  506 non-null    float64\n",
      " 7   n_hos_beds                506 non-null    float64\n",
      " 8   poor_prop                 506 non-null    float64\n",
      " 9   n_hot_rooms               506 non-null    float64\n",
      " 10  airport_YES               506 non-null    int32  \n",
      " 11  waterbody_Lake            506 non-null    int32  \n",
      " 12  waterbody_Lake and River  506 non-null    int32  \n",
      " 13  waterbody_River           506 non-null    int32  \n",
      " 14  rainfall                  506 non-null    int64  \n",
      " 15  avg_dist                  506 non-null    float64\n",
      "dtypes: float64(11), int32(4), int64(1)\n",
      "memory usage: 55.5 KB\n"
     ]
    }
   ],
   "source": [
    "x_multi_cons.info()"
   ]
  },
  {
   "cell_type": "code",
   "execution_count": 1316,
   "id": "db9417af",
   "metadata": {},
   "outputs": [],
   "source": [
    "# x_multi_cons.info()"
   ]
  },
  {
   "cell_type": "code",
   "execution_count": 1317,
   "id": "1eba5ede",
   "metadata": {},
   "outputs": [],
   "source": [
    "# Assuming 'your_column' is the column you want to convert\n",
    "# x_multi_cons['n_hos_beds'] = pd.to_numeric(x_multi_cons['n_hos_beds'], errors='coerce')\n"
   ]
  },
  {
   "cell_type": "code",
   "execution_count": 1318,
   "id": "ad14bffa",
   "metadata": {},
   "outputs": [],
   "source": [
    "# create lm object\n",
    "\n",
    "# lm_multi = sm.OLS(y_multi, x_multi_cons).fit()\n",
    "\n",
    "lm_multi = sm.OLS(y_multi, x_multi_cons).fit()"
   ]
  },
  {
   "cell_type": "code",
   "execution_count": 1319,
   "id": "d9d5eeb8",
   "metadata": {},
   "outputs": [],
   "source": [
    "# df.dtypes"
   ]
  },
  {
   "cell_type": "code",
   "execution_count": 1320,
   "id": "59528a16",
   "metadata": {},
   "outputs": [
    {
     "data": {
      "text/html": [
       "<table class=\"simpletable\">\n",
       "<caption>OLS Regression Results</caption>\n",
       "<tr>\n",
       "  <th>Dep. Variable:</th>          <td>price</td>      <th>  R-squared:         </th> <td>   0.721</td> \n",
       "</tr>\n",
       "<tr>\n",
       "  <th>Model:</th>                   <td>OLS</td>       <th>  Adj. R-squared:    </th> <td>   0.712</td> \n",
       "</tr>\n",
       "<tr>\n",
       "  <th>Method:</th>             <td>Least Squares</td>  <th>  F-statistic:       </th> <td>   84.34</td> \n",
       "</tr>\n",
       "<tr>\n",
       "  <th>Date:</th>             <td>Wed, 08 Nov 2023</td> <th>  Prob (F-statistic):</th> <td>4.19e-125</td>\n",
       "</tr>\n",
       "<tr>\n",
       "  <th>Time:</th>                 <td>14:10:54</td>     <th>  Log-Likelihood:    </th> <td> -1516.6</td> \n",
       "</tr>\n",
       "<tr>\n",
       "  <th>No. Observations:</th>      <td>   506</td>      <th>  AIC:               </th> <td>   3065.</td> \n",
       "</tr>\n",
       "<tr>\n",
       "  <th>Df Residuals:</th>          <td>   490</td>      <th>  BIC:               </th> <td>   3133.</td> \n",
       "</tr>\n",
       "<tr>\n",
       "  <th>Df Model:</th>              <td>    15</td>      <th>                     </th>     <td> </td>    \n",
       "</tr>\n",
       "<tr>\n",
       "  <th>Covariance Type:</th>      <td>nonrobust</td>    <th>                     </th>     <td> </td>    \n",
       "</tr>\n",
       "</table>\n",
       "<table class=\"simpletable\">\n",
       "<tr>\n",
       "              <td></td>                <th>coef</th>     <th>std err</th>      <th>t</th>      <th>P>|t|</th>  <th>[0.025</th>    <th>0.975]</th>  \n",
       "</tr>\n",
       "<tr>\n",
       "  <th>const</th>                    <td>   -6.4986</td> <td>    5.264</td> <td>   -1.235</td> <td> 0.218</td> <td>  -16.842</td> <td>    3.844</td>\n",
       "</tr>\n",
       "<tr>\n",
       "  <th>crime_rate</th>               <td>    0.0097</td> <td>    0.348</td> <td>    0.028</td> <td> 0.978</td> <td>   -0.674</td> <td>    0.694</td>\n",
       "</tr>\n",
       "<tr>\n",
       "  <th>resid_area</th>               <td>   -0.0409</td> <td>    0.058</td> <td>   -0.710</td> <td> 0.478</td> <td>   -0.154</td> <td>    0.072</td>\n",
       "</tr>\n",
       "<tr>\n",
       "  <th>air_qual</th>                 <td>  -15.8974</td> <td>    4.004</td> <td>   -3.971</td> <td> 0.000</td> <td>  -23.764</td> <td>   -8.031</td>\n",
       "</tr>\n",
       "<tr>\n",
       "  <th>room_num</th>                 <td>    4.0190</td> <td>    0.427</td> <td>    9.421</td> <td> 0.000</td> <td>    3.181</td> <td>    4.857</td>\n",
       "</tr>\n",
       "<tr>\n",
       "  <th>age</th>                      <td>   -0.0057</td> <td>    0.014</td> <td>   -0.420</td> <td> 0.675</td> <td>   -0.032</td> <td>    0.021</td>\n",
       "</tr>\n",
       "<tr>\n",
       "  <th>teachers</th>                 <td>    1.0070</td> <td>    0.122</td> <td>    8.247</td> <td> 0.000</td> <td>    0.767</td> <td>    1.247</td>\n",
       "</tr>\n",
       "<tr>\n",
       "  <th>n_hos_beds</th>               <td>    0.3292</td> <td>    0.152</td> <td>    2.163</td> <td> 0.031</td> <td>    0.030</td> <td>    0.628</td>\n",
       "</tr>\n",
       "<tr>\n",
       "  <th>poor_prop</th>                <td>   -0.5773</td> <td>    0.053</td> <td>  -10.955</td> <td> 0.000</td> <td>   -0.681</td> <td>   -0.474</td>\n",
       "</tr>\n",
       "<tr>\n",
       "  <th>n_hot_rooms</th>              <td>    0.0919</td> <td>    0.082</td> <td>    1.118</td> <td> 0.264</td> <td>   -0.070</td> <td>    0.253</td>\n",
       "</tr>\n",
       "<tr>\n",
       "  <th>airport_YES</th>              <td>    1.1315</td> <td>    0.454</td> <td>    2.491</td> <td> 0.013</td> <td>    0.239</td> <td>    2.024</td>\n",
       "</tr>\n",
       "<tr>\n",
       "  <th>waterbody_Lake</th>           <td>    0.2641</td> <td>    0.642</td> <td>    0.411</td> <td> 0.681</td> <td>   -0.997</td> <td>    1.525</td>\n",
       "</tr>\n",
       "<tr>\n",
       "  <th>waterbody_Lake and River</th> <td>   -0.6876</td> <td>    0.714</td> <td>   -0.963</td> <td> 0.336</td> <td>   -2.090</td> <td>    0.715</td>\n",
       "</tr>\n",
       "<tr>\n",
       "  <th>waterbody_River</th>          <td>   -0.2913</td> <td>    0.547</td> <td>   -0.533</td> <td> 0.594</td> <td>   -1.365</td> <td>    0.783</td>\n",
       "</tr>\n",
       "<tr>\n",
       "  <th>rainfall</th>                 <td>    0.0161</td> <td>    0.018</td> <td>    0.904</td> <td> 0.367</td> <td>   -0.019</td> <td>    0.051</td>\n",
       "</tr>\n",
       "<tr>\n",
       "  <th>avg_dist</th>                 <td>   -1.2186</td> <td>    0.189</td> <td>   -6.450</td> <td> 0.000</td> <td>   -1.590</td> <td>   -0.847</td>\n",
       "</tr>\n",
       "</table>\n",
       "<table class=\"simpletable\">\n",
       "<tr>\n",
       "  <th>Omnibus:</th>       <td>182.596</td> <th>  Durbin-Watson:     </th> <td>   0.990</td> \n",
       "</tr>\n",
       "<tr>\n",
       "  <th>Prob(Omnibus):</th> <td> 0.000</td>  <th>  Jarque-Bera (JB):  </th> <td> 826.137</td> \n",
       "</tr>\n",
       "<tr>\n",
       "  <th>Skew:</th>          <td> 1.554</td>  <th>  Prob(JB):          </th> <td>4.04e-180</td>\n",
       "</tr>\n",
       "<tr>\n",
       "  <th>Kurtosis:</th>      <td> 8.434</td>  <th>  Cond. No.          </th> <td>2.37e+03</td> \n",
       "</tr>\n",
       "</table><br/><br/>Notes:<br/>[1] Standard Errors assume that the covariance matrix of the errors is correctly specified.<br/>[2] The condition number is large, 2.37e+03. This might indicate that there are<br/>strong multicollinearity or other numerical problems."
      ],
      "text/plain": [
       "<class 'statsmodels.iolib.summary.Summary'>\n",
       "\"\"\"\n",
       "                            OLS Regression Results                            \n",
       "==============================================================================\n",
       "Dep. Variable:                  price   R-squared:                       0.721\n",
       "Model:                            OLS   Adj. R-squared:                  0.712\n",
       "Method:                 Least Squares   F-statistic:                     84.34\n",
       "Date:                Wed, 08 Nov 2023   Prob (F-statistic):          4.19e-125\n",
       "Time:                        14:10:54   Log-Likelihood:                -1516.6\n",
       "No. Observations:                 506   AIC:                             3065.\n",
       "Df Residuals:                     490   BIC:                             3133.\n",
       "Df Model:                          15                                         \n",
       "Covariance Type:            nonrobust                                         \n",
       "============================================================================================\n",
       "                               coef    std err          t      P>|t|      [0.025      0.975]\n",
       "--------------------------------------------------------------------------------------------\n",
       "const                       -6.4986      5.264     -1.235      0.218     -16.842       3.844\n",
       "crime_rate                   0.0097      0.348      0.028      0.978      -0.674       0.694\n",
       "resid_area                  -0.0409      0.058     -0.710      0.478      -0.154       0.072\n",
       "air_qual                   -15.8974      4.004     -3.971      0.000     -23.764      -8.031\n",
       "room_num                     4.0190      0.427      9.421      0.000       3.181       4.857\n",
       "age                         -0.0057      0.014     -0.420      0.675      -0.032       0.021\n",
       "teachers                     1.0070      0.122      8.247      0.000       0.767       1.247\n",
       "n_hos_beds                   0.3292      0.152      2.163      0.031       0.030       0.628\n",
       "poor_prop                   -0.5773      0.053    -10.955      0.000      -0.681      -0.474\n",
       "n_hot_rooms                  0.0919      0.082      1.118      0.264      -0.070       0.253\n",
       "airport_YES                  1.1315      0.454      2.491      0.013       0.239       2.024\n",
       "waterbody_Lake               0.2641      0.642      0.411      0.681      -0.997       1.525\n",
       "waterbody_Lake and River    -0.6876      0.714     -0.963      0.336      -2.090       0.715\n",
       "waterbody_River             -0.2913      0.547     -0.533      0.594      -1.365       0.783\n",
       "rainfall                     0.0161      0.018      0.904      0.367      -0.019       0.051\n",
       "avg_dist                    -1.2186      0.189     -6.450      0.000      -1.590      -0.847\n",
       "==============================================================================\n",
       "Omnibus:                      182.596   Durbin-Watson:                   0.990\n",
       "Prob(Omnibus):                  0.000   Jarque-Bera (JB):              826.137\n",
       "Skew:                           1.554   Prob(JB):                    4.04e-180\n",
       "Kurtosis:                       8.434   Cond. No.                     2.37e+03\n",
       "==============================================================================\n",
       "\n",
       "Notes:\n",
       "[1] Standard Errors assume that the covariance matrix of the errors is correctly specified.\n",
       "[2] The condition number is large, 2.37e+03. This might indicate that there are\n",
       "strong multicollinearity or other numerical problems.\n",
       "\"\"\""
      ]
     },
     "execution_count": 1320,
     "metadata": {},
     "output_type": "execute_result"
    }
   ],
   "source": [
    "lm_multi.summary()"
   ]
  },
  {
   "cell_type": "code",
   "execution_count": 1321,
   "id": "7df2fb2e",
   "metadata": {},
   "outputs": [],
   "source": [
    "# Example: Convert 'column_name' to numeric type\n",
    "# df['airport_YES'] = pd.to_numeric(df['airport_YES'], errors='coerce')\n"
   ]
  },
  {
   "cell_type": "code",
   "execution_count": 1322,
   "id": "72ad98cf",
   "metadata": {},
   "outputs": [],
   "source": [
    "# df.dtypes"
   ]
  },
  {
   "cell_type": "code",
   "execution_count": 1323,
   "id": "5e37493b",
   "metadata": {},
   "outputs": [],
   "source": [
    "# create a similar model using sklearn librabry"
   ]
  },
  {
   "cell_type": "code",
   "execution_count": 1324,
   "id": "e359e82d",
   "metadata": {},
   "outputs": [],
   "source": [
    "lm3 = LinearRegression()"
   ]
  },
  {
   "cell_type": "code",
   "execution_count": 1325,
   "id": "e4880092",
   "metadata": {},
   "outputs": [
    {
     "data": {
      "text/html": [
       "<style>#sk-container-id-41 {color: black;}#sk-container-id-41 pre{padding: 0;}#sk-container-id-41 div.sk-toggleable {background-color: white;}#sk-container-id-41 label.sk-toggleable__label {cursor: pointer;display: block;width: 100%;margin-bottom: 0;padding: 0.3em;box-sizing: border-box;text-align: center;}#sk-container-id-41 label.sk-toggleable__label-arrow:before {content: \"▸\";float: left;margin-right: 0.25em;color: #696969;}#sk-container-id-41 label.sk-toggleable__label-arrow:hover:before {color: black;}#sk-container-id-41 div.sk-estimator:hover label.sk-toggleable__label-arrow:before {color: black;}#sk-container-id-41 div.sk-toggleable__content {max-height: 0;max-width: 0;overflow: hidden;text-align: left;background-color: #f0f8ff;}#sk-container-id-41 div.sk-toggleable__content pre {margin: 0.2em;color: black;border-radius: 0.25em;background-color: #f0f8ff;}#sk-container-id-41 input.sk-toggleable__control:checked~div.sk-toggleable__content {max-height: 200px;max-width: 100%;overflow: auto;}#sk-container-id-41 input.sk-toggleable__control:checked~label.sk-toggleable__label-arrow:before {content: \"▾\";}#sk-container-id-41 div.sk-estimator input.sk-toggleable__control:checked~label.sk-toggleable__label {background-color: #d4ebff;}#sk-container-id-41 div.sk-label input.sk-toggleable__control:checked~label.sk-toggleable__label {background-color: #d4ebff;}#sk-container-id-41 input.sk-hidden--visually {border: 0;clip: rect(1px 1px 1px 1px);clip: rect(1px, 1px, 1px, 1px);height: 1px;margin: -1px;overflow: hidden;padding: 0;position: absolute;width: 1px;}#sk-container-id-41 div.sk-estimator {font-family: monospace;background-color: #f0f8ff;border: 1px dotted black;border-radius: 0.25em;box-sizing: border-box;margin-bottom: 0.5em;}#sk-container-id-41 div.sk-estimator:hover {background-color: #d4ebff;}#sk-container-id-41 div.sk-parallel-item::after {content: \"\";width: 100%;border-bottom: 1px solid gray;flex-grow: 1;}#sk-container-id-41 div.sk-label:hover label.sk-toggleable__label {background-color: #d4ebff;}#sk-container-id-41 div.sk-serial::before {content: \"\";position: absolute;border-left: 1px solid gray;box-sizing: border-box;top: 0;bottom: 0;left: 50%;z-index: 0;}#sk-container-id-41 div.sk-serial {display: flex;flex-direction: column;align-items: center;background-color: white;padding-right: 0.2em;padding-left: 0.2em;position: relative;}#sk-container-id-41 div.sk-item {position: relative;z-index: 1;}#sk-container-id-41 div.sk-parallel {display: flex;align-items: stretch;justify-content: center;background-color: white;position: relative;}#sk-container-id-41 div.sk-item::before, #sk-container-id-41 div.sk-parallel-item::before {content: \"\";position: absolute;border-left: 1px solid gray;box-sizing: border-box;top: 0;bottom: 0;left: 50%;z-index: -1;}#sk-container-id-41 div.sk-parallel-item {display: flex;flex-direction: column;z-index: 1;position: relative;background-color: white;}#sk-container-id-41 div.sk-parallel-item:first-child::after {align-self: flex-end;width: 50%;}#sk-container-id-41 div.sk-parallel-item:last-child::after {align-self: flex-start;width: 50%;}#sk-container-id-41 div.sk-parallel-item:only-child::after {width: 0;}#sk-container-id-41 div.sk-dashed-wrapped {border: 1px dashed gray;margin: 0 0.4em 0.5em 0.4em;box-sizing: border-box;padding-bottom: 0.4em;background-color: white;}#sk-container-id-41 div.sk-label label {font-family: monospace;font-weight: bold;display: inline-block;line-height: 1.2em;}#sk-container-id-41 div.sk-label-container {text-align: center;}#sk-container-id-41 div.sk-container {/* jupyter's `normalize.less` sets `[hidden] { display: none; }` but bootstrap.min.css set `[hidden] { display: none !important; }` so we also need the `!important` here to be able to override the default hidden behavior on the sphinx rendered scikit-learn.org. See: https://github.com/scikit-learn/scikit-learn/issues/21755 */display: inline-block !important;position: relative;}#sk-container-id-41 div.sk-text-repr-fallback {display: none;}</style><div id=\"sk-container-id-41\" class=\"sk-top-container\"><div class=\"sk-text-repr-fallback\"><pre>LinearRegression()</pre><b>In a Jupyter environment, please rerun this cell to show the HTML representation or trust the notebook. <br />On GitHub, the HTML representation is unable to render, please try loading this page with nbviewer.org.</b></div><div class=\"sk-container\" hidden><div class=\"sk-item\"><div class=\"sk-estimator sk-toggleable\"><input class=\"sk-toggleable__control sk-hidden--visually\" id=\"sk-estimator-id-41\" type=\"checkbox\" checked><label for=\"sk-estimator-id-41\" class=\"sk-toggleable__label sk-toggleable__label-arrow\">LinearRegression</label><div class=\"sk-toggleable__content\"><pre>LinearRegression()</pre></div></div></div></div></div>"
      ],
      "text/plain": [
       "LinearRegression()"
      ]
     },
     "execution_count": 1325,
     "metadata": {},
     "output_type": "execute_result"
    }
   ],
   "source": [
    "lm3.fit(x_multi, y_multi)"
   ]
  },
  {
   "cell_type": "code",
   "execution_count": 1326,
   "id": "3e40f984",
   "metadata": {},
   "outputs": [
    {
     "name": "stdout",
     "output_type": "stream",
     "text": [
      "-6.4986251984200045 [ 9.70998193e-03 -4.08746495e-02 -1.58973999e+01  4.01901676e+00\n",
      " -5.71475069e-03  1.00700068e+00  3.29221139e-01 -5.77271243e-01\n",
      "  9.18675603e-02  1.13151586e+00  2.64086064e-01 -6.87555889e-01\n",
      " -2.91318712e-01  1.61185504e-02 -1.21863952e+00]\n"
     ]
    }
   ],
   "source": [
    "print(lm3.intercept_, lm3.coef_)"
   ]
  },
  {
   "cell_type": "markdown",
   "id": "51ee9f8c",
   "metadata": {},
   "source": [
    "# Test-Train Split"
   ]
  },
  {
   "cell_type": "code",
   "execution_count": 1327,
   "id": "446317e2",
   "metadata": {},
   "outputs": [],
   "source": [
    "from sklearn.model_selection import train_test_split"
   ]
  },
  {
   "cell_type": "code",
   "execution_count": 1328,
   "id": "43358ecc",
   "metadata": {},
   "outputs": [],
   "source": [
    "# define the 4 variables\n",
    "x_train, x_test, y_train, y_test = train_test_split(x_multi, y_multi, test_size = 0.2, random_state = 0)"
   ]
  },
  {
   "cell_type": "code",
   "execution_count": 1329,
   "id": "80fbc296",
   "metadata": {},
   "outputs": [
    {
     "name": "stdout",
     "output_type": "stream",
     "text": [
      "(404, 15) (102, 15) (404,) (102,)\n"
     ]
    }
   ],
   "source": [
    "print(x_train.shape, x_test.shape, y_train.shape, y_test.shape)"
   ]
  },
  {
   "cell_type": "code",
   "execution_count": 1330,
   "id": "8e2090b4",
   "metadata": {},
   "outputs": [],
   "source": [
    "# follow the standard process of creating a linear regression model"
   ]
  },
  {
   "cell_type": "code",
   "execution_count": 1331,
   "id": "804bc3ad",
   "metadata": {},
   "outputs": [],
   "source": [
    "# create a linear model"
   ]
  },
  {
   "cell_type": "code",
   "execution_count": 1332,
   "id": "929bd9d3",
   "metadata": {},
   "outputs": [],
   "source": [
    "lm_a = LinearRegression()"
   ]
  },
  {
   "cell_type": "code",
   "execution_count": 1333,
   "id": "1659cadb",
   "metadata": {},
   "outputs": [],
   "source": [
    "# train the model from thee training set: x_train, y_train"
   ]
  },
  {
   "cell_type": "code",
   "execution_count": 1334,
   "id": "061e226a",
   "metadata": {},
   "outputs": [
    {
     "data": {
      "text/html": [
       "<style>#sk-container-id-42 {color: black;}#sk-container-id-42 pre{padding: 0;}#sk-container-id-42 div.sk-toggleable {background-color: white;}#sk-container-id-42 label.sk-toggleable__label {cursor: pointer;display: block;width: 100%;margin-bottom: 0;padding: 0.3em;box-sizing: border-box;text-align: center;}#sk-container-id-42 label.sk-toggleable__label-arrow:before {content: \"▸\";float: left;margin-right: 0.25em;color: #696969;}#sk-container-id-42 label.sk-toggleable__label-arrow:hover:before {color: black;}#sk-container-id-42 div.sk-estimator:hover label.sk-toggleable__label-arrow:before {color: black;}#sk-container-id-42 div.sk-toggleable__content {max-height: 0;max-width: 0;overflow: hidden;text-align: left;background-color: #f0f8ff;}#sk-container-id-42 div.sk-toggleable__content pre {margin: 0.2em;color: black;border-radius: 0.25em;background-color: #f0f8ff;}#sk-container-id-42 input.sk-toggleable__control:checked~div.sk-toggleable__content {max-height: 200px;max-width: 100%;overflow: auto;}#sk-container-id-42 input.sk-toggleable__control:checked~label.sk-toggleable__label-arrow:before {content: \"▾\";}#sk-container-id-42 div.sk-estimator input.sk-toggleable__control:checked~label.sk-toggleable__label {background-color: #d4ebff;}#sk-container-id-42 div.sk-label input.sk-toggleable__control:checked~label.sk-toggleable__label {background-color: #d4ebff;}#sk-container-id-42 input.sk-hidden--visually {border: 0;clip: rect(1px 1px 1px 1px);clip: rect(1px, 1px, 1px, 1px);height: 1px;margin: -1px;overflow: hidden;padding: 0;position: absolute;width: 1px;}#sk-container-id-42 div.sk-estimator {font-family: monospace;background-color: #f0f8ff;border: 1px dotted black;border-radius: 0.25em;box-sizing: border-box;margin-bottom: 0.5em;}#sk-container-id-42 div.sk-estimator:hover {background-color: #d4ebff;}#sk-container-id-42 div.sk-parallel-item::after {content: \"\";width: 100%;border-bottom: 1px solid gray;flex-grow: 1;}#sk-container-id-42 div.sk-label:hover label.sk-toggleable__label {background-color: #d4ebff;}#sk-container-id-42 div.sk-serial::before {content: \"\";position: absolute;border-left: 1px solid gray;box-sizing: border-box;top: 0;bottom: 0;left: 50%;z-index: 0;}#sk-container-id-42 div.sk-serial {display: flex;flex-direction: column;align-items: center;background-color: white;padding-right: 0.2em;padding-left: 0.2em;position: relative;}#sk-container-id-42 div.sk-item {position: relative;z-index: 1;}#sk-container-id-42 div.sk-parallel {display: flex;align-items: stretch;justify-content: center;background-color: white;position: relative;}#sk-container-id-42 div.sk-item::before, #sk-container-id-42 div.sk-parallel-item::before {content: \"\";position: absolute;border-left: 1px solid gray;box-sizing: border-box;top: 0;bottom: 0;left: 50%;z-index: -1;}#sk-container-id-42 div.sk-parallel-item {display: flex;flex-direction: column;z-index: 1;position: relative;background-color: white;}#sk-container-id-42 div.sk-parallel-item:first-child::after {align-self: flex-end;width: 50%;}#sk-container-id-42 div.sk-parallel-item:last-child::after {align-self: flex-start;width: 50%;}#sk-container-id-42 div.sk-parallel-item:only-child::after {width: 0;}#sk-container-id-42 div.sk-dashed-wrapped {border: 1px dashed gray;margin: 0 0.4em 0.5em 0.4em;box-sizing: border-box;padding-bottom: 0.4em;background-color: white;}#sk-container-id-42 div.sk-label label {font-family: monospace;font-weight: bold;display: inline-block;line-height: 1.2em;}#sk-container-id-42 div.sk-label-container {text-align: center;}#sk-container-id-42 div.sk-container {/* jupyter's `normalize.less` sets `[hidden] { display: none; }` but bootstrap.min.css set `[hidden] { display: none !important; }` so we also need the `!important` here to be able to override the default hidden behavior on the sphinx rendered scikit-learn.org. See: https://github.com/scikit-learn/scikit-learn/issues/21755 */display: inline-block !important;position: relative;}#sk-container-id-42 div.sk-text-repr-fallback {display: none;}</style><div id=\"sk-container-id-42\" class=\"sk-top-container\"><div class=\"sk-text-repr-fallback\"><pre>LinearRegression()</pre><b>In a Jupyter environment, please rerun this cell to show the HTML representation or trust the notebook. <br />On GitHub, the HTML representation is unable to render, please try loading this page with nbviewer.org.</b></div><div class=\"sk-container\" hidden><div class=\"sk-item\"><div class=\"sk-estimator sk-toggleable\"><input class=\"sk-toggleable__control sk-hidden--visually\" id=\"sk-estimator-id-42\" type=\"checkbox\" checked><label for=\"sk-estimator-id-42\" class=\"sk-toggleable__label sk-toggleable__label-arrow\">LinearRegression</label><div class=\"sk-toggleable__content\"><pre>LinearRegression()</pre></div></div></div></div></div>"
      ],
      "text/plain": [
       "LinearRegression()"
      ]
     },
     "execution_count": 1334,
     "metadata": {},
     "output_type": "execute_result"
    }
   ],
   "source": [
    "lm_a.fit(x_train, y_train)"
   ]
  },
  {
   "cell_type": "code",
   "execution_count": 1335,
   "id": "50cb3bd9",
   "metadata": {},
   "outputs": [],
   "source": [
    "# create the predicted value of y using this model"
   ]
  },
  {
   "cell_type": "code",
   "execution_count": 1336,
   "id": "73021e1e",
   "metadata": {},
   "outputs": [],
   "source": [
    "y_test_a = lm_a.predict(x_test)"
   ]
  },
  {
   "cell_type": "code",
   "execution_count": 1337,
   "id": "52feaa1e",
   "metadata": {},
   "outputs": [],
   "source": [
    "y_train_a = lm_a.predict(x_train)"
   ]
  },
  {
   "cell_type": "code",
   "execution_count": 1338,
   "id": "c878fc4d",
   "metadata": {},
   "outputs": [],
   "source": [
    "# check the r2 value for our training and test data\n",
    "# we import another function"
   ]
  },
  {
   "cell_type": "code",
   "execution_count": 1339,
   "id": "25616ed0",
   "metadata": {},
   "outputs": [],
   "source": [
    "from sklearn.metrics import r2_score"
   ]
  },
  {
   "cell_type": "code",
   "execution_count": 1340,
   "id": "23a1bbd4",
   "metadata": {},
   "outputs": [],
   "source": [
    "# help to get all the details of r2_score\n",
    "r2_score?"
   ]
  },
  {
   "cell_type": "code",
   "execution_count": 1341,
   "id": "4dd7cd01",
   "metadata": {},
   "outputs": [],
   "source": [
    "# y_test is the original value\n",
    "# y_test_a is the predicted value"
   ]
  },
  {
   "cell_type": "code",
   "execution_count": 1342,
   "id": "af2a057d",
   "metadata": {},
   "outputs": [
    {
     "data": {
      "text/plain": [
       "0.5496468288205674"
      ]
     },
     "execution_count": 1342,
     "metadata": {},
     "output_type": "execute_result"
    }
   ],
   "source": [
    "# r2 value for test set\n",
    "r2_score(y_test, y_test_a)"
   ]
  },
  {
   "cell_type": "code",
   "execution_count": 1343,
   "id": "a07f6488",
   "metadata": {},
   "outputs": [
    {
     "data": {
      "text/plain": [
       "0.7564635405911231"
      ]
     },
     "execution_count": 1343,
     "metadata": {},
     "output_type": "execute_result"
    }
   ],
   "source": [
    "# r2 value for training set\n",
    "r2_score(y_train, y_train_a)"
   ]
  },
  {
   "cell_type": "markdown",
   "id": "fd01be9a",
   "metadata": {},
   "source": [
    "## Ridge-Lasso in Python"
   ]
  },
  {
   "cell_type": "code",
   "execution_count": 1344,
   "id": "75c5e1e8",
   "metadata": {},
   "outputs": [],
   "source": [
    "# first standardizing our data\n",
    "from sklearn import preprocessing"
   ]
  },
  {
   "cell_type": "code",
   "execution_count": 1345,
   "id": "b4a3031f",
   "metadata": {},
   "outputs": [],
   "source": [
    "# create scaler object, which will store the scale info for the x variable"
   ]
  },
  {
   "cell_type": "code",
   "execution_count": 1346,
   "id": "c073bd66",
   "metadata": {},
   "outputs": [],
   "source": [
    "scaler = preprocessing.StandardScaler().fit(x_train)"
   ]
  },
  {
   "cell_type": "code",
   "execution_count": 1347,
   "id": "1a346c88",
   "metadata": {},
   "outputs": [],
   "source": [
    "# scaler is ready, but first transform x_train into x_train_scale"
   ]
  },
  {
   "cell_type": "code",
   "execution_count": 1348,
   "id": "3a4ecd02",
   "metadata": {},
   "outputs": [],
   "source": [
    "x_train_scale = scaler.transform(x_train)"
   ]
  },
  {
   "cell_type": "code",
   "execution_count": 1407,
   "id": "93f43184",
   "metadata": {},
   "outputs": [],
   "source": [
    "# y_train.shape"
   ]
  },
  {
   "cell_type": "code",
   "execution_count": 1349,
   "id": "c275234f",
   "metadata": {},
   "outputs": [],
   "source": [
    "# transform x_test into x_test_scale\n",
    "x_test_scale = scaler.transform(x_test)"
   ]
  },
  {
   "cell_type": "code",
   "execution_count": 1350,
   "id": "b7f93399",
   "metadata": {},
   "outputs": [
    {
     "data": {
      "text/plain": [
       "\"\\n# NB: the scaler we created is storing the info on how to divide each row and its cell. \\nThen we use this scaler object to transform our extreme variable so we can create scale variables. \\nsimiliarly, we're using the same scaler for our test set as well.\\n\""
      ]
     },
     "execution_count": 1350,
     "metadata": {},
     "output_type": "execute_result"
    }
   ],
   "source": [
    "'''\n",
    "# NB: the scaler we created is storing the info on how to divide each row and its cell. \n",
    "Then we use this scaler object to transform our extreme variable so we can create scale variables. \n",
    "similiarly, we're using the same scaler for our test set as well.\n",
    "'''"
   ]
  },
  {
   "cell_type": "code",
   "execution_count": 1351,
   "id": "0be2f16b",
   "metadata": {},
   "outputs": [],
   "source": [
    "# Now that we have standardize our independent variables, let's start with ridge regression"
   ]
  },
  {
   "cell_type": "code",
   "execution_count": 1352,
   "id": "dd4efa44",
   "metadata": {},
   "outputs": [],
   "source": [
    "from sklearn.linear_model import Ridge"
   ]
  },
  {
   "cell_type": "code",
   "execution_count": 1353,
   "id": "48efab0b",
   "metadata": {},
   "outputs": [],
   "source": [
    "# create ridge object\n",
    "lm_ridge = Ridge(alpha = 0.5)"
   ]
  },
  {
   "cell_type": "code",
   "execution_count": 1354,
   "id": "300fb646",
   "metadata": {},
   "outputs": [
    {
     "data": {
      "text/html": [
       "<style>#sk-container-id-43 {color: black;}#sk-container-id-43 pre{padding: 0;}#sk-container-id-43 div.sk-toggleable {background-color: white;}#sk-container-id-43 label.sk-toggleable__label {cursor: pointer;display: block;width: 100%;margin-bottom: 0;padding: 0.3em;box-sizing: border-box;text-align: center;}#sk-container-id-43 label.sk-toggleable__label-arrow:before {content: \"▸\";float: left;margin-right: 0.25em;color: #696969;}#sk-container-id-43 label.sk-toggleable__label-arrow:hover:before {color: black;}#sk-container-id-43 div.sk-estimator:hover label.sk-toggleable__label-arrow:before {color: black;}#sk-container-id-43 div.sk-toggleable__content {max-height: 0;max-width: 0;overflow: hidden;text-align: left;background-color: #f0f8ff;}#sk-container-id-43 div.sk-toggleable__content pre {margin: 0.2em;color: black;border-radius: 0.25em;background-color: #f0f8ff;}#sk-container-id-43 input.sk-toggleable__control:checked~div.sk-toggleable__content {max-height: 200px;max-width: 100%;overflow: auto;}#sk-container-id-43 input.sk-toggleable__control:checked~label.sk-toggleable__label-arrow:before {content: \"▾\";}#sk-container-id-43 div.sk-estimator input.sk-toggleable__control:checked~label.sk-toggleable__label {background-color: #d4ebff;}#sk-container-id-43 div.sk-label input.sk-toggleable__control:checked~label.sk-toggleable__label {background-color: #d4ebff;}#sk-container-id-43 input.sk-hidden--visually {border: 0;clip: rect(1px 1px 1px 1px);clip: rect(1px, 1px, 1px, 1px);height: 1px;margin: -1px;overflow: hidden;padding: 0;position: absolute;width: 1px;}#sk-container-id-43 div.sk-estimator {font-family: monospace;background-color: #f0f8ff;border: 1px dotted black;border-radius: 0.25em;box-sizing: border-box;margin-bottom: 0.5em;}#sk-container-id-43 div.sk-estimator:hover {background-color: #d4ebff;}#sk-container-id-43 div.sk-parallel-item::after {content: \"\";width: 100%;border-bottom: 1px solid gray;flex-grow: 1;}#sk-container-id-43 div.sk-label:hover label.sk-toggleable__label {background-color: #d4ebff;}#sk-container-id-43 div.sk-serial::before {content: \"\";position: absolute;border-left: 1px solid gray;box-sizing: border-box;top: 0;bottom: 0;left: 50%;z-index: 0;}#sk-container-id-43 div.sk-serial {display: flex;flex-direction: column;align-items: center;background-color: white;padding-right: 0.2em;padding-left: 0.2em;position: relative;}#sk-container-id-43 div.sk-item {position: relative;z-index: 1;}#sk-container-id-43 div.sk-parallel {display: flex;align-items: stretch;justify-content: center;background-color: white;position: relative;}#sk-container-id-43 div.sk-item::before, #sk-container-id-43 div.sk-parallel-item::before {content: \"\";position: absolute;border-left: 1px solid gray;box-sizing: border-box;top: 0;bottom: 0;left: 50%;z-index: -1;}#sk-container-id-43 div.sk-parallel-item {display: flex;flex-direction: column;z-index: 1;position: relative;background-color: white;}#sk-container-id-43 div.sk-parallel-item:first-child::after {align-self: flex-end;width: 50%;}#sk-container-id-43 div.sk-parallel-item:last-child::after {align-self: flex-start;width: 50%;}#sk-container-id-43 div.sk-parallel-item:only-child::after {width: 0;}#sk-container-id-43 div.sk-dashed-wrapped {border: 1px dashed gray;margin: 0 0.4em 0.5em 0.4em;box-sizing: border-box;padding-bottom: 0.4em;background-color: white;}#sk-container-id-43 div.sk-label label {font-family: monospace;font-weight: bold;display: inline-block;line-height: 1.2em;}#sk-container-id-43 div.sk-label-container {text-align: center;}#sk-container-id-43 div.sk-container {/* jupyter's `normalize.less` sets `[hidden] { display: none; }` but bootstrap.min.css set `[hidden] { display: none !important; }` so we also need the `!important` here to be able to override the default hidden behavior on the sphinx rendered scikit-learn.org. See: https://github.com/scikit-learn/scikit-learn/issues/21755 */display: inline-block !important;position: relative;}#sk-container-id-43 div.sk-text-repr-fallback {display: none;}</style><div id=\"sk-container-id-43\" class=\"sk-top-container\"><div class=\"sk-text-repr-fallback\"><pre>Ridge(alpha=0.5)</pre><b>In a Jupyter environment, please rerun this cell to show the HTML representation or trust the notebook. <br />On GitHub, the HTML representation is unable to render, please try loading this page with nbviewer.org.</b></div><div class=\"sk-container\" hidden><div class=\"sk-item\"><div class=\"sk-estimator sk-toggleable\"><input class=\"sk-toggleable__control sk-hidden--visually\" id=\"sk-estimator-id-43\" type=\"checkbox\" checked><label for=\"sk-estimator-id-43\" class=\"sk-toggleable__label sk-toggleable__label-arrow\">Ridge</label><div class=\"sk-toggleable__content\"><pre>Ridge(alpha=0.5)</pre></div></div></div></div></div>"
      ],
      "text/plain": [
       "Ridge(alpha=0.5)"
      ]
     },
     "execution_count": 1354,
     "metadata": {},
     "output_type": "execute_result"
    }
   ],
   "source": [
    "# fit this model****************************\n",
    "lm_ridge.fit(x_train_scale, y_train)\n",
    "# lm_ridge = lm_ridge_best.predict(x_test_scale)"
   ]
  },
  {
   "cell_type": "code",
   "execution_count": 1355,
   "id": "47001ae6",
   "metadata": {},
   "outputs": [
    {
     "data": {
      "text/plain": [
       "0.5494318046087936"
      ]
     },
     "execution_count": 1355,
     "metadata": {},
     "output_type": "execute_result"
    }
   ],
   "source": [
    "# after fitting the model , we find the r2 value of the test data\n",
    "r2_score(y_test, lm_ridge.predict(x_test_scale))"
   ]
  },
  {
   "cell_type": "code",
   "execution_count": 1356,
   "id": "4f595dd5",
   "metadata": {},
   "outputs": [
    {
     "data": {
      "text/plain": [
       "'find out the value of alpha for which r2 value is maximum. to do this we use a function called validation curves'"
      ]
     },
     "execution_count": 1356,
     "metadata": {},
     "output_type": "execute_result"
    }
   ],
   "source": [
    "'''find out the value of alpha for which r2 value is maximum. to do this we use a function called validation curves'''"
   ]
  },
  {
   "cell_type": "code",
   "execution_count": 1357,
   "id": "74c6de54",
   "metadata": {},
   "outputs": [],
   "source": [
    "from sklearn.model_selection import validation_curve"
   ]
  },
  {
   "cell_type": "code",
   "execution_count": 1358,
   "id": "90b9644a",
   "metadata": {},
   "outputs": [],
   "source": [
    "validation_curve?"
   ]
  },
  {
   "cell_type": "code",
   "execution_count": 1359,
   "id": "5688ad73",
   "metadata": {},
   "outputs": [],
   "source": [
    "# train our values for multiple values of alpha, and choose the best model out of those models\n",
    "# first create array of alpha values\n",
    "# NB: lamda is same as alpha "
   ]
  },
  {
   "cell_type": "code",
   "execution_count": 1423,
   "id": "75112491",
   "metadata": {},
   "outputs": [],
   "source": [
    "param_range = np.logspace(-2,8,100)"
   ]
  },
  {
   "cell_type": "code",
   "execution_count": 1424,
   "id": "e52fbe45",
   "metadata": {},
   "outputs": [],
   "source": [
    "# param_name = 'alpha'"
   ]
  },
  {
   "cell_type": "code",
   "execution_count": 1425,
   "id": "23f15e44",
   "metadata": {},
   "outputs": [],
   "source": [
    "# param_range = param_range"
   ]
  },
  {
   "cell_type": "code",
   "execution_count": 1426,
   "id": "235fc82a",
   "metadata": {},
   "outputs": [
    {
     "data": {
      "text/plain": [
       "array([1.00000000e-02, 1.26185688e-02, 1.59228279e-02, 2.00923300e-02,\n",
       "       2.53536449e-02, 3.19926714e-02, 4.03701726e-02, 5.09413801e-02,\n",
       "       6.42807312e-02, 8.11130831e-02, 1.02353102e-01, 1.29154967e-01,\n",
       "       1.62975083e-01, 2.05651231e-01, 2.59502421e-01, 3.27454916e-01,\n",
       "       4.13201240e-01, 5.21400829e-01, 6.57933225e-01, 8.30217568e-01,\n",
       "       1.04761575e+00, 1.32194115e+00, 1.66810054e+00, 2.10490414e+00,\n",
       "       2.65608778e+00, 3.35160265e+00, 4.22924287e+00, 5.33669923e+00,\n",
       "       6.73415066e+00, 8.49753436e+00, 1.07226722e+01, 1.35304777e+01,\n",
       "       1.70735265e+01, 2.15443469e+01, 2.71858824e+01, 3.43046929e+01,\n",
       "       4.32876128e+01, 5.46227722e+01, 6.89261210e+01, 8.69749003e+01,\n",
       "       1.09749877e+02, 1.38488637e+02, 1.74752840e+02, 2.20513074e+02,\n",
       "       2.78255940e+02, 3.51119173e+02, 4.43062146e+02, 5.59081018e+02,\n",
       "       7.05480231e+02, 8.90215085e+02, 1.12332403e+03, 1.41747416e+03,\n",
       "       1.78864953e+03, 2.25701972e+03, 2.84803587e+03, 3.59381366e+03,\n",
       "       4.53487851e+03, 5.72236766e+03, 7.22080902e+03, 9.11162756e+03,\n",
       "       1.14975700e+04, 1.45082878e+04, 1.83073828e+04, 2.31012970e+04,\n",
       "       2.91505306e+04, 3.67837977e+04, 4.64158883e+04, 5.85702082e+04,\n",
       "       7.39072203e+04, 9.32603347e+04, 1.17681195e+05, 1.48496826e+05,\n",
       "       1.87381742e+05, 2.36448941e+05, 2.98364724e+05, 3.76493581e+05,\n",
       "       4.75081016e+05, 5.99484250e+05, 7.56463328e+05, 9.54548457e+05,\n",
       "       1.20450354e+06, 1.51991108e+06, 1.91791026e+06, 2.42012826e+06,\n",
       "       3.05385551e+06, 3.85352859e+06, 4.86260158e+06, 6.13590727e+06,\n",
       "       7.74263683e+06, 9.77009957e+06, 1.23284674e+07, 1.55567614e+07,\n",
       "       1.96304065e+07, 2.47707636e+07, 3.12571585e+07, 3.94420606e+07,\n",
       "       4.97702356e+07, 6.28029144e+07, 7.92482898e+07, 1.00000000e+08])"
      ]
     },
     "execution_count": 1426,
     "metadata": {},
     "output_type": "execute_result"
    }
   ],
   "source": [
    "param_range"
   ]
  },
  {
   "cell_type": "code",
   "execution_count": 1427,
   "id": "fbf4f0f1",
   "metadata": {},
   "outputs": [],
   "source": [
    "# we use these values as our lamda values and select the best lamda value\n",
    "\n",
    "# train_scores, test_scores = validation_curve(Ridge(), x_train_scale, y_train, \"alpha\", param_range, scoring = 'r2')"
   ]
  },
  {
   "cell_type": "code",
   "execution_count": 1441,
   "id": "8e2529a2",
   "metadata": {},
   "outputs": [],
   "source": [
    "train_scores, test_scores = validation_curve(Ridge(), x_train_scale, y_train, param_name=\"alpha\", param_range=param_range, scoring='r2')"
   ]
  },
  {
   "cell_type": "code",
   "execution_count": 1442,
   "id": "e07a2296",
   "metadata": {},
   "outputs": [
    {
     "name": "stdout",
     "output_type": "stream",
     "text": [
      "[[7.49308183e-01 7.62593562e-01 7.52614692e-01 7.82225880e-01\n",
      "  7.45875174e-01]\n",
      " [7.49308182e-01 7.62593561e-01 7.52614692e-01 7.82225879e-01\n",
      "  7.45875174e-01]\n",
      " [7.49308181e-01 7.62593560e-01 7.52614691e-01 7.82225879e-01\n",
      "  7.45875173e-01]\n",
      " [7.49308179e-01 7.62593559e-01 7.52614690e-01 7.82225878e-01\n",
      "  7.45875172e-01]\n",
      " [7.49308177e-01 7.62593557e-01 7.52614688e-01 7.82225876e-01\n",
      "  7.45875169e-01]\n",
      " [7.49308173e-01 7.62593554e-01 7.52614685e-01 7.82225873e-01\n",
      "  7.45875166e-01]\n",
      " [7.49308167e-01 7.62593549e-01 7.52614680e-01 7.82225869e-01\n",
      "  7.45875161e-01]\n",
      " [7.49308157e-01 7.62593541e-01 7.52614673e-01 7.82225863e-01\n",
      "  7.45875153e-01]\n",
      " [7.49308142e-01 7.62593528e-01 7.52614661e-01 7.82225852e-01\n",
      "  7.45875140e-01]\n",
      " [7.49308117e-01 7.62593507e-01 7.52614642e-01 7.82225836e-01\n",
      "  7.45875120e-01]\n",
      " [7.49308077e-01 7.62593474e-01 7.52614611e-01 7.82225810e-01\n",
      "  7.45875087e-01]\n",
      " [7.49308015e-01 7.62593422e-01 7.52614563e-01 7.82225768e-01\n",
      "  7.45875035e-01]\n",
      " [7.49307915e-01 7.62593340e-01 7.52614487e-01 7.82225701e-01\n",
      "  7.45874953e-01]\n",
      " [7.49307756e-01 7.62593209e-01 7.52614365e-01 7.82225596e-01\n",
      "  7.45874821e-01]\n",
      " [7.49307504e-01 7.62593000e-01 7.52614171e-01 7.82225428e-01\n",
      "  7.45874613e-01]\n",
      " [7.49307104e-01 7.62592669e-01 7.52613864e-01 7.82225161e-01\n",
      "  7.45874281e-01]\n",
      " [7.49306468e-01 7.62592143e-01 7.52613376e-01 7.82224738e-01\n",
      "  7.45873755e-01]\n",
      " [7.49305461e-01 7.62591310e-01 7.52612603e-01 7.82224067e-01\n",
      "  7.45872922e-01]\n",
      " [7.49303866e-01 7.62589991e-01 7.52611377e-01 7.82223002e-01\n",
      "  7.45871601e-01]\n",
      " [7.49301342e-01 7.62587905e-01 7.52609438e-01 7.82221318e-01\n",
      "  7.45869511e-01]\n",
      " [7.49297358e-01 7.62584614e-01 7.52606375e-01 7.82218655e-01\n",
      "  7.45866209e-01]\n",
      " [7.49291080e-01 7.62579431e-01 7.52601547e-01 7.82214454e-01\n",
      "  7.45861006e-01]\n",
      " [7.49281214e-01 7.62571294e-01 7.52593954e-01 7.82207841e-01\n",
      "  7.45852825e-01]\n",
      " [7.49265762e-01 7.62558559e-01 7.52582052e-01 7.82197461e-01\n",
      "  7.45840003e-01]\n",
      " [7.49241657e-01 7.62538713e-01 7.52563464e-01 7.82181226e-01\n",
      "  7.45819983e-01]\n",
      " [7.49204240e-01 7.62507943e-01 7.52534567e-01 7.82155938e-01\n",
      "  7.45788876e-01]\n",
      " [7.49146509e-01 7.62460525e-01 7.52489895e-01 7.82116753e-01\n",
      "  7.45740817e-01]\n",
      " [7.49058083e-01 7.62387981e-01 7.52421291e-01 7.82056400e-01\n",
      "  7.45667081e-01]\n",
      " [7.48923812e-01 7.62277938e-01 7.52316756e-01 7.81964112e-01\n",
      "  7.45554877e-01]\n",
      " [7.48722001e-01 7.62112635e-01 7.52158906e-01 7.81824162e-01\n",
      "  7.45385780e-01]\n",
      " [7.48422236e-01 7.61867037e-01 7.51922989e-01 7.81613931e-01\n",
      "  7.45133758e-01]\n",
      " [7.47982890e-01 7.61506503e-01 7.51574393e-01 7.81301420e-01\n",
      "  7.44762813e-01]\n",
      " [7.47348402e-01 7.60983952e-01 7.51065592e-01 7.80842085e-01\n",
      "  7.44224266e-01]\n",
      " [7.46446454e-01 7.60236381e-01 7.50332437e-01 7.80174865e-01\n",
      "  7.43453697e-01]\n",
      " [7.45185030e-01 7.59180501e-01 7.49289620e-01 7.79217167e-01\n",
      "  7.42367460e-01]\n",
      " [7.43449052e-01 7.57707112e-01 7.47825081e-01 7.77858496e-01\n",
      "  7.40858507e-01]\n",
      " [7.41095993e-01 7.55673908e-01 7.45793147e-01 7.75952482e-01\n",
      "  7.38791047e-01]\n",
      " [7.37949677e-01 7.52896765e-01 7.43006564e-01 7.73307342e-01\n",
      "  7.35993627e-01]\n",
      " [7.33791889e-01 7.49140401e-01 7.39228354e-01 7.69675655e-01\n",
      "  7.32250702e-01]\n",
      " [7.28352628e-01 7.44110603e-01 7.34165666e-01 7.64745694e-01\n",
      "  7.27293966e-01]\n",
      " [7.21301768e-01 7.37451496e-01 7.27469045e-01 7.58138110e-01\n",
      "  7.20796309e-01]\n",
      " [7.12246939e-01 7.28752116e-01 7.18741065e-01 7.49412765e-01\n",
      "  7.12372722e-01]\n",
      " [7.00743446e-01 7.17565870e-01 7.07557198e-01 7.38089907e-01\n",
      "  7.01592657e-01]\n",
      " [6.86320783e-01 7.03443745e-01 6.93498574e-01 7.23686768e-01\n",
      "  6.88006488e-01]\n",
      " [6.68526198e-01 6.85977509e-01 6.76191564e-01 7.05765354e-01\n",
      "  6.71184584e-01]\n",
      " [6.46979746e-01 6.64844405e-01 6.55345249e-01 6.83981858e-01\n",
      "  6.50762714e-01]\n",
      " [6.21430253e-01 6.39843112e-01 6.30777967e-01 6.58126261e-01\n",
      "  6.26484846e-01]\n",
      " [5.91800851e-01 6.10914820e-01 6.02430169e-01 6.28145251e-01\n",
      "  5.98236520e-01]\n",
      " [5.58217742e-01 5.78152011e-01 5.70370147e-01 5.94151059e-01\n",
      "  5.66068367e-01]\n",
      " [5.21023106e-01 5.41805183e-01 5.34805073e-01 5.56426960e-01\n",
      "  5.30215244e-01]\n",
      " [4.80776629e-01 5.02296962e-01 4.96105574e-01 5.15439249e-01\n",
      "  4.91115635e-01]\n",
      " [4.38246180e-01 4.60241817e-01 4.54837833e-01 4.71853832e-01\n",
      "  4.49426981e-01]\n",
      " [3.94380411e-01 4.16455059e-01 4.11782013e-01 4.26540794e-01\n",
      "  4.06021633e-01]\n",
      " [3.50253152e-01 3.71928867e-01 3.67911827e-01 3.80544881e-01\n",
      "  3.61945810e-01]\n",
      " [3.06977118e-01 3.27762843e-01 3.24322953e-01 3.35010334e-01\n",
      "  3.18335180e-01]\n",
      " [2.65598993e-01 2.85057278e-01 2.82120979e-01 2.91069742e-01\n",
      "  2.76300193e-01]\n",
      " [2.26999445e-01 2.44795771e-01 2.42298504e-01 2.49724712e-01\n",
      "  2.36809354e-01]\n",
      " [1.91821924e-01 2.07748894e-01 2.05634992e-01 2.11750285e-01\n",
      "  2.00600169e-01]\n",
      " [1.60443739e-01 1.74420836e-01 1.72641753e-01 1.77644345e-01\n",
      "  1.68135834e-01]\n",
      " [1.32988599e-01 1.45044107e-01 1.43556535e-01 1.47625946e-01\n",
      "  1.39609076e-01]\n",
      " [1.09369079e-01 1.19612762e-01 1.18377375e-01 1.21672023e-01\n",
      "  1.14981495e-01]\n",
      " [8.93435543e-02 9.79376509e-02 9.69185333e-02 9.95753621e-02\n",
      "  9.40415006e-02]\n",
      " [7.25739956e-02 7.97075753e-02 7.88721086e-02 8.10075491e-02\n",
      "  7.64654478e-02]\n",
      " [5.86758270e-02 6.45448692e-02 6.38638097e-02 6.55755262e-02\n",
      "  6.18715957e-02]\n",
      " [4.72558944e-02 5.20495080e-02 5.14970548e-02 5.28660752e-02\n",
      "  4.98619782e-02]\n",
      " [3.79382525e-02 4.18302814e-02 4.13840426e-02 4.24769944e-02\n",
      "  4.00513858e-02]\n",
      " [3.03794972e-02 3.35242986e-02 3.31651369e-02 3.40364098e-02\n",
      "  3.20850585e-02]\n",
      " [2.42761375e-02 2.68072865e-02 2.65190661e-02 2.72127994e-02\n",
      "  2.56476517e-02]\n",
      " [1.93664609e-02 2.13973229e-02 2.11665954e-02 2.17184400e-02\n",
      "  2.04660844e-02]\n",
      " [1.54289452e-02 1.70543100e-02 1.68699745e-02 1.73086152e-02\n",
      "  1.63084863e-02]\n",
      " [1.22787468e-02 1.35769640e-02 1.34299306e-02 1.37783763e-02\n",
      "  1.29809203e-02]\n",
      " [9.76332592e-03 1.07985778e-02 1.06814509e-02 1.09581128e-02\n",
      "  1.03230524e-02]\n",
      " [7.75788176e-03 8.58237736e-03 8.48917182e-03 8.70875254e-03\n",
      "  8.20352184e-03]\n",
      " [6.16099479e-03 6.81697027e-03 6.74286291e-03 6.91708543e-03\n",
      "  6.51546234e-03]\n",
      " [4.89068163e-03 5.41215775e-03 5.35327491e-03 5.49147462e-03\n",
      "  5.17241478e-03]\n",
      " [3.88094571e-03 4.29523252e-03 4.24847160e-03 4.35807518e-03\n",
      "  4.10473362e-03]\n",
      " [3.07883394e-03 3.40779556e-03 3.37067697e-03 3.45758796e-03\n",
      "  3.25650907e-03]\n",
      " [2.44196865e-03 2.70307213e-03 2.67361762e-03 2.74252580e-03\n",
      "  2.58297902e-03]\n",
      " [1.93650486e-03 2.14368105e-03 2.12031450e-03 2.17494363e-03\n",
      "  2.04838269e-03]\n",
      " [1.53545586e-03 1.69980059e-03 1.68126767e-03 1.72457324e-03\n",
      "  1.62419860e-03]\n",
      " [1.21733098e-03 1.34767269e-03 1.33297603e-03 1.36730308e-03\n",
      "  1.28770931e-03]\n",
      " [9.65033551e-04 1.06839083e-03 1.05673792e-03 1.08394662e-03\n",
      "  1.02083937e-03]\n",
      " [7.64973400e-04 8.46922318e-04 8.37683768e-04 8.59249411e-04\n",
      "  8.09218797e-04]\n",
      " [6.06354513e-04 6.71322791e-04 6.63999002e-04 6.81091420e-04\n",
      "  6.41430950e-04]\n",
      " [4.80604853e-04 5.32106913e-04 5.26301429e-04 5.39848145e-04\n",
      "  5.08410319e-04]\n",
      " [3.80920925e-04 4.21745361e-04 4.17143668e-04 4.27880004e-04\n",
      "  4.02961302e-04]\n",
      " [3.01904601e-04 3.34263509e-04 3.30616151e-04 3.39125013e-04\n",
      "  3.19374376e-04]\n",
      " [2.39273883e-04 2.64921685e-04 2.62030842e-04 2.68774284e-04\n",
      "  2.53120362e-04]\n",
      " [1.89632803e-04 2.09960709e-04 2.07669532e-04 2.13013791e-04\n",
      "  2.00607145e-04]\n",
      " [1.50288505e-04 1.66399571e-04 1.64583704e-04 1.68819062e-04\n",
      "  1.58986266e-04]\n",
      " [1.19105939e-04 1.31874655e-04 1.30435519e-04 1.33792045e-04\n",
      "  1.25999257e-04]\n",
      " [9.43924783e-05 1.04512077e-04 1.03371528e-04 1.06031567e-04\n",
      "  9.98556225e-05]\n",
      " [7.48063455e-05 8.28263376e-05 8.19224358e-05 8.40305015e-05\n",
      "  7.91359875e-05]\n",
      " [5.92839558e-05 6.56399031e-05 6.49235534e-05 6.65941788e-05\n",
      "  6.27152447e-05]\n",
      " [4.69822788e-05 5.20194095e-05 5.14517002e-05 5.27756543e-05\n",
      "  4.97015929e-05]\n",
      " [3.72331283e-05 4.12250632e-05 4.07751542e-05 4.18243728e-05\n",
      "  3.93881862e-05]\n",
      " [2.95069162e-05 3.26705160e-05 3.23139652e-05 3.31454578e-05\n",
      "  3.12147929e-05]\n",
      " [2.33839142e-05 2.58910504e-05 2.56084864e-05 2.62674330e-05\n",
      "  2.47373962e-05]\n",
      " [1.85314700e-05 2.05183560e-05 2.02944267e-05 2.08166325e-05\n",
      "  1.96040932e-05]\n",
      " [1.46859471e-05 1.62605351e-05 1.60830734e-05 1.64969138e-05\n",
      "  1.55359901e-05]]\n",
      "[[ 7.71295218e-01  7.09263045e-01  7.65468189e-01  6.59693682e-01\n",
      "   7.82412794e-01]\n",
      " [ 7.71298073e-01  7.09264271e-01  7.65467971e-01  6.59692563e-01\n",
      "   7.82412500e-01]\n",
      " [ 7.71301675e-01  7.09265818e-01  7.65467696e-01  6.59691152e-01\n",
      "   7.82412130e-01]\n",
      " [ 7.71306220e-01  7.09267770e-01  7.65467348e-01  6.59689370e-01\n",
      "   7.82411663e-01]\n",
      " [ 7.71311953e-01  7.09270232e-01  7.65466910e-01  6.59687122e-01\n",
      "   7.82411073e-01]\n",
      " [ 7.71319185e-01  7.09273338e-01  7.65466356e-01  6.59684285e-01\n",
      "   7.82410328e-01]\n",
      " [ 7.71328307e-01  7.09277255e-01  7.65465656e-01  6.59680706e-01\n",
      "   7.82409386e-01]\n",
      " [ 7.71339813e-01  7.09282194e-01  7.65464771e-01  6.59676190e-01\n",
      "   7.82408197e-01]\n",
      " [ 7.71354322e-01  7.09288422e-01  7.65463653e-01  6.59670492e-01\n",
      "   7.82406693e-01]\n",
      " [ 7.71372617e-01  7.09296272e-01  7.65462239e-01  6.59663302e-01\n",
      "   7.82404791e-01]\n",
      " [ 7.71395679e-01  7.09306166e-01  7.65460450e-01  6.59654231e-01\n",
      "   7.82402384e-01]\n",
      " [ 7.71424745e-01  7.09318630e-01  7.65458185e-01  6.59642786e-01\n",
      "   7.82399336e-01]\n",
      " [ 7.71461364e-01  7.09334326e-01  7.65455314e-01  6.59628347e-01\n",
      "   7.82395473e-01]\n",
      " [ 7.71507481e-01  7.09354082e-01  7.65451671e-01  6.59610131e-01\n",
      "   7.82390571e-01]\n",
      " [ 7.71565529e-01  7.09378931e-01  7.65447043e-01  6.59587152e-01\n",
      "   7.82384341e-01]\n",
      " [ 7.71638549e-01  7.09410159e-01  7.65441153e-01  6.59558167e-01\n",
      "   7.82376411e-01]\n",
      " [ 7.71730326e-01  7.09449363e-01  7.65433643e-01  6.59521609e-01\n",
      "   7.82366295e-01]\n",
      " [ 7.71845561e-01  7.09498516e-01  7.65424041e-01  6.59475506e-01\n",
      "   7.82353358e-01]\n",
      " [ 7.71990060e-01  7.09560039e-01  7.65411728e-01  6.59417376e-01\n",
      "   7.82336760e-01]\n",
      " [ 7.72170963e-01  7.09636886e-01  7.65395883e-01  6.59344094e-01\n",
      "   7.82315385e-01]\n",
      " [ 7.72396975e-01  7.09732623e-01  7.65375404e-01  6.59251736e-01\n",
      "   7.82287738e-01]\n",
      " [ 7.72678622e-01  7.09851510e-01  7.65348806e-01  6.59135375e-01\n",
      "   7.82251795e-01]\n",
      " [ 7.73028469e-01  7.09998548e-01  7.65314067e-01  6.58988831e-01\n",
      "   7.82204791e-01]\n",
      " [ 7.73461279e-01  7.10179494e-01  7.65268414e-01  6.58804372e-01\n",
      "   7.82142926e-01]\n",
      " [ 7.73994031e-01  7.10400796e-01  7.65208016e-01  6.58572341e-01\n",
      "   7.82060927e-01]\n",
      " [ 7.74645685e-01  7.10669403e-01  7.65127556e-01  6.58280712e-01\n",
      "   7.81951451e-01]\n",
      " [ 7.75436544e-01  7.10992408e-01  7.65019636e-01  6.57914555e-01\n",
      "   7.81804229e-01]\n",
      " [ 7.76387023e-01  7.11376453e-01  7.64873948e-01  6.57455416e-01\n",
      "   7.81604902e-01]\n",
      " [ 7.77515569e-01  7.11826847e-01  7.64676169e-01  6.56880582e-01\n",
      "   7.81333450e-01]\n",
      " [ 7.78835514e-01  7.12346357e-01  7.64406478e-01  6.56162238e-01\n",
      "   7.80962139e-01]\n",
      " [ 7.80350662e-01  7.12933633e-01  7.64037623e-01  6.55266482e-01\n",
      "   7.80452936e-01]\n",
      " [ 7.82049549e-01  7.13581239e-01  7.63532409e-01  6.54152127e-01\n",
      "   7.79754384e-01]\n",
      " [ 7.83898574e-01  7.14273157e-01  7.62840421e-01  6.52769158e-01\n",
      "   7.78798009e-01]\n",
      " [ 7.85834451e-01  7.14981406e-01  7.61893695e-01  6.51056579e-01\n",
      "   7.77494382e-01]\n",
      " [ 7.87756715e-01  7.15661077e-01  7.60600925e-01  6.48939252e-01\n",
      "   7.75728992e-01]\n",
      " [ 7.89521058e-01  7.16242729e-01  7.58839719e-01  6.46323196e-01\n",
      "   7.73358060e-01]\n",
      " [ 7.90934104e-01  7.16621018e-01  7.56446635e-01  6.43088904e-01\n",
      "   7.70204399e-01]\n",
      " [ 7.91749769e-01  7.16639158e-01  7.53205465e-01  6.39082631e-01\n",
      "   7.66053465e-01]\n",
      " [ 7.91666893e-01  7.16070476e-01  7.48835633e-01  6.34106526e-01\n",
      "   7.60650144e-01]\n",
      " [ 7.90327770e-01  7.14600794e-01  7.42984491e-01  6.27909873e-01\n",
      "   7.53697486e-01]\n",
      " [ 7.87317677e-01  7.11817842e-01  7.35229028e-01  6.20185191e-01\n",
      "   7.44859522e-01]\n",
      " [ 7.82166679e-01  7.07215137e-01  7.25092856e-01  6.10573810e-01\n",
      "   7.33770837e-01]\n",
      " [ 7.74356145e-01  7.00216410e-01  7.12082095e-01  5.98684893e-01\n",
      "   7.20055023e-01]\n",
      " [ 7.63332860e-01  6.90222087e-01  6.95738421e-01  5.84128855e-01\n",
      "   7.03351995e-01]\n",
      " [ 7.48532915e-01  6.76671989e-01  6.75700059e-01  5.66561244e-01\n",
      "   6.83350735e-01]\n",
      " [ 7.29415791e-01  6.59110982e-01  6.51755405e-01  5.45728115e-01\n",
      "   6.59821053e-01]\n",
      " [ 7.05507721e-01  6.37241323e-01  6.23873698e-01  5.21502068e-01\n",
      "   6.32637854e-01]\n",
      " [ 6.76453475e-01  6.10950663e-01  5.92205579e-01  4.93901898e-01\n",
      "   6.01795687e-01]\n",
      " [ 6.42076578e-01  5.80317060e-01  5.57060550e-01  4.63096993e-01\n",
      "   5.67418272e-01]\n",
      " [ 6.02446643e-01  5.45604533e-01  5.18879675e-01  4.29405030e-01\n",
      "   5.29771909e-01]\n",
      " [ 5.57945777e-01  5.07264643e-01  4.78221316e-01  3.93291738e-01\n",
      "   4.89287803e-01]\n",
      " [ 5.09315138e-01  4.65947839e-01  4.35763799e-01  3.55372988e-01\n",
      "   4.46586507e-01]\n",
      " [ 4.57655388e-01  4.22510217e-01  3.92310675e-01  3.16408276e-01\n",
      "   4.02485509e-01]\n",
      " [ 4.04360316e-01  3.77991474e-01  3.48775243e-01  2.77270257e-01\n",
      "   3.57969062e-01]\n",
      " [ 3.50983705e-01  3.33547598e-01  3.06128778e-01  2.38882673e-01\n",
      "   3.14112078e-01]\n",
      " [ 2.99065910e-01  2.90343363e-01  2.65316380e-01  2.02134463e-01\n",
      "   2.71970728e-01]\n",
      " [ 2.49963431e-01  2.49430657e-01  2.27162406e-01  1.67790976e-01\n",
      "   2.32468335e-01]\n",
      " [ 2.04722371e-01  2.11645882e-01  1.92293015e-01  1.36425609e-01\n",
      "   1.96306978e-01]\n",
      " [ 1.64018192e-01  1.77550695e-01  1.61095161e-01  1.08386863e-01\n",
      "   1.63923593e-01]\n",
      " [ 1.28161027e-01  1.47422862e-01  1.33716522e-01  8.38026173e-02\n",
      "   1.35492509e-01]\n",
      " [ 9.71490304e-02  1.21288243e-01  1.10097995e-01  6.26128450e-02\n",
      "   1.10963226e-01]\n",
      " [ 7.07461991e-02  9.89769622e-02  9.00243280e-02  4.46173497e-02\n",
      "   9.01168038e-02]\n",
      " [ 4.85639249e-02  8.01867951e-02  7.31788990e-02  2.95261012e-02\n",
      "   7.26256262e-02]\n",
      " [ 3.01326662e-02  6.45414519e-02  5.91928260e-02  1.70036831e-02\n",
      "   5.81062538e-02]\n",
      " [ 1.49574241e-02  5.16372421e-02  4.76834674e-02  6.70377149e-03\n",
      "   4.61604556e-02]\n",
      " [ 2.55614967e-03  4.10763582e-02  3.82812654e-02 -1.70704691e-03\n",
      "   3.64035903e-02]\n",
      " [-7.51670781e-03  3.24879501e-02  3.06462074e-02 -8.53481490e-03\n",
      "   2.84818935e-02]\n",
      " [-1.56581029e-02  2.55394869e-02  2.44761766e-02 -1.40509906e-02\n",
      "   2.20811831e-02]\n",
      " [-2.22123092e-02  1.99411490e-02  1.95095760e-02 -1.84903108e-02\n",
      "   1.69295505e-02]\n",
      " [-2.74719486e-02  1.54456598e-02  1.55242812e-02 -2.20518884e-02\n",
      "   1.27962211e-02]\n",
      " [-3.16819492e-02  1.18454319e-02  1.23344917e-02 -2.49021426e-02\n",
      "   9.48823575e-03]\n",
      " [-3.50449070e-02  8.96835680e-03  9.78658475e-03 -2.71785858e-02\n",
      "   6.84610645e-03]\n",
      " [-3.77268718e-02  6.67311540e-03  7.75468481e-03 -2.89938381e-02\n",
      "   4.73918863e-03]\n",
      " [-3.98629684e-02  4.84454196e-03  6.13637875e-03 -3.04394927e-02\n",
      "   3.06121328e-03]\n",
      " [-4.15625423e-02  3.38933700e-03  4.84880319e-03 -3.15896365e-02\n",
      "   1.72621329e-03]\n",
      " [-4.29136886e-02  2.23226534e-03  3.82520444e-03 -3.25039385e-02\n",
      "   6.64945080e-04]\n",
      " [-4.39871371e-02  1.31287966e-03  3.01199102e-03 -3.32302936e-02\n",
      "  -1.78175026e-04]\n",
      " [-4.48395203e-02  5.82753304e-04  2.36625484e-03 -3.38070431e-02\n",
      "  -8.47645840e-04]\n",
      " [-4.55160857e-02  3.17784523e-06  1.85371494e-03 -3.42648160e-02\n",
      "  -1.37901645e-03]\n",
      " [-4.60529233e-02 -4.56731765e-04  1.44702921e-03 -3.46280392e-02\n",
      "  -1.80063865e-03]\n",
      " [-4.64787800e-02 -8.21583482e-04  1.12441902e-03 -3.49161679e-02\n",
      "  -2.13509419e-03]\n",
      " [-4.68165295e-02 -1.11096196e-03  8.68555534e-04 -3.51446814e-02\n",
      "  -2.40035021e-03]\n",
      " [-4.70843571e-02 -1.34044019e-03  6.65662101e-04 -3.53258854e-02\n",
      "  -2.61069040e-03]\n",
      " [-4.72967108e-02 -1.52239249e-03  5.04793328e-04 -3.54695561e-02\n",
      "  -2.77746270e-03]\n",
      " [-4.74650634e-02 -1.66664612e-03  3.77257806e-04 -3.55834566e-02\n",
      "  -2.90967797e-03]\n",
      " [-4.75985213e-02 -1.78100207e-03  2.76156813e-04 -3.56737482e-02\n",
      "  -3.01448842e-03]\n",
      " [-4.77043105e-02 -1.87165070e-03  1.96016356e-04 -3.57453201e-02\n",
      "  -3.09756907e-03]\n",
      " [-4.77881629e-02 -1.94350297e-03  1.32494070e-04 -3.58020505e-02\n",
      "  -3.16342174e-03]\n",
      " [-4.78546248e-02 -2.00045393e-03  8.21459908e-05 -3.58470152e-02\n",
      "  -3.21561681e-03]\n",
      " [-4.79073012e-02 -2.04559243e-03  4.22411279e-05 -3.58826532e-02\n",
      "  -3.25698551e-03]\n",
      " [-4.79490504e-02 -2.08136757e-03  1.06141469e-05 -3.59108984e-02\n",
      "  -3.28977263e-03]\n",
      " [-4.79821384e-02 -2.10972106e-03 -1.44516164e-05 -3.59332840e-02\n",
      "  -3.31575784e-03]\n",
      " [-4.80083617e-02 -2.13219216e-03 -3.43170122e-05 -3.59510252e-02\n",
      "  -3.33635192e-03]\n",
      " [-4.80291443e-02 -2.15000103e-03 -5.00607568e-05 -3.59650855e-02\n",
      "  -3.35267315e-03]\n",
      " [-4.80456147e-02 -2.16411482e-03 -6.25378812e-05 -3.59762285e-02\n",
      "  -3.36560793e-03]\n",
      " [-4.80586676e-02 -2.17530012e-03 -7.24260881e-05 -3.59850593e-02\n",
      "  -3.37585883e-03]\n",
      " [-4.80690121e-02 -2.18416450e-03 -8.02625107e-05 -3.59920578e-02\n",
      "  -3.38398269e-03]\n",
      " [-4.80772101e-02 -2.19118951e-03 -8.64728596e-05 -3.59976041e-02\n",
      "  -3.39042083e-03]\n",
      " [-4.80837069e-02 -2.19675680e-03 -9.13945289e-05 -3.60019995e-02\n",
      "  -3.39552302e-03]\n",
      " [-4.80888556e-02 -2.20116884e-03 -9.52949143e-05 -3.60054828e-02\n",
      "  -3.39956647e-03]]\n"
     ]
    }
   ],
   "source": [
    "print(train_scores)\n",
    "print(test_scores)"
   ]
  },
  {
   "cell_type": "code",
   "execution_count": 1444,
   "id": "65698374",
   "metadata": {},
   "outputs": [],
   "source": [
    "train_mean = np.mean(train_scores, axis = 1)"
   ]
  },
  {
   "cell_type": "code",
   "execution_count": 1445,
   "id": "ce667a2d",
   "metadata": {},
   "outputs": [],
   "source": [
    "test_mean = np.mean(test_scores, axis = 1)"
   ]
  },
  {
   "cell_type": "code",
   "execution_count": 1446,
   "id": "044fe8b7",
   "metadata": {},
   "outputs": [
    {
     "data": {
      "text/plain": [
       "array([7.58523498e-01, 7.58523498e-01, 7.58523497e-01, 7.58523495e-01,\n",
       "       7.58523493e-01, 7.58523490e-01, 7.58523485e-01, 7.58523477e-01,\n",
       "       7.58523465e-01, 7.58523444e-01, 7.58523412e-01, 7.58523361e-01,\n",
       "       7.58523279e-01, 7.58523149e-01, 7.58522943e-01, 7.58522616e-01,\n",
       "       7.58522096e-01, 7.58521272e-01, 7.58519967e-01, 7.58517903e-01,\n",
       "       7.58514642e-01, 7.58509504e-01, 7.58501426e-01, 7.58488767e-01,\n",
       "       7.58469009e-01, 7.58438313e-01, 7.58390900e-01, 7.58318167e-01,\n",
       "       7.58207499e-01, 7.58040697e-01, 7.57791990e-01, 7.57425604e-01,\n",
       "       7.56892859e-01, 7.56128767e-01, 7.55047956e-01, 7.53539650e-01,\n",
       "       7.51461316e-01, 7.48630795e-01, 7.44817400e-01, 7.39733711e-01,\n",
       "       7.33031346e-01, 7.24305121e-01, 7.13109816e-01, 6.98991272e-01,\n",
       "       6.81529042e-01, 6.60382794e-01, 6.35332488e-01, 6.06305522e-01,\n",
       "       5.73391865e-01, 5.36855113e-01, 4.97146810e-01, 4.54921329e-01,\n",
       "       4.11035982e-01, 3.66516907e-01, 3.22481685e-01, 2.80029437e-01,\n",
       "       2.40125557e-01, 2.03511253e-01, 1.70657301e-01, 1.41764852e-01,\n",
       "       1.16802547e-01, 9.55633203e-02, 7.77253353e-02, 6.29063256e-02,\n",
       "       5.07061021e-02, 4.07361913e-02, 3.26380802e-02, 2.60925882e-02,\n",
       "       2.08229807e-02, 1.65940662e-02, 1.32089876e-02, 1.05049040e-02,\n",
       "       8.34834106e-03, 6.63067515e-03, 5.26400074e-03, 4.17749173e-03,\n",
       "       3.31428070e-03, 2.62883264e-03, 2.08476535e-03, 1.65305919e-03,\n",
       "       1.31059842e-03, 1.03898966e-03, 8.23609539e-04, 6.52839735e-04,\n",
       "       5.17454332e-04, 4.10130252e-04, 3.25056730e-04, 2.57624211e-04,\n",
       "       2.04176796e-04, 1.61815421e-04, 1.28241483e-04, 1.01632655e-04,\n",
       "       8.05443216e-05, 6.38313672e-05, 5.05861271e-05, 4.00891809e-05,\n",
       "       3.17703296e-05, 2.51776560e-05, 1.99529957e-05, 1.58124919e-05])"
      ]
     },
     "execution_count": 1446,
     "metadata": {},
     "output_type": "execute_result"
    }
   ],
   "source": [
    "train_mean"
   ]
  },
  {
   "cell_type": "code",
   "execution_count": 1447,
   "id": "7ccffc17",
   "metadata": {},
   "outputs": [
    {
     "data": {
      "text/plain": [
       "0.7386139417704551"
      ]
     },
     "execution_count": 1447,
     "metadata": {},
     "output_type": "execute_result"
    }
   ],
   "source": [
    "max(test_mean)"
   ]
  },
  {
   "cell_type": "code",
   "execution_count": 1434,
   "id": "0d9e3af7",
   "metadata": {},
   "outputs": [
    {
     "data": {
      "text/plain": [
       "<seaborn.axisgrid.JointGrid at 0x22f5e4a7250>"
      ]
     },
     "execution_count": 1434,
     "metadata": {},
     "output_type": "execute_result"
    },
    {
     "data": {
      "image/png": "[encoded data removed]",
      "text/plain": [
       "<Figure size 600x600 with 3 Axes>"
      ]
     },
     "metadata": {},
     "output_type": "display_data"
    }
   ],
   "source": [
    "sns.jointplot(x=np.log(param_range), y=test_mean)"
   ]
  },
  {
   "cell_type": "code",
   "execution_count": 1454,
   "id": "bf929087",
   "metadata": {},
   "outputs": [
    {
     "data": {
      "text/plain": [
       "(array([31], dtype=int64),)"
      ]
     },
     "execution_count": 1454,
     "metadata": {},
     "output_type": "execute_result"
    }
   ],
   "source": [
    "np.where(test_mean == max(test_mean))"
   ]
  },
  {
   "cell_type": "code",
   "execution_count": 1449,
   "id": "599bb8e9",
   "metadata": {},
   "outputs": [
    {
     "data": {
      "text/plain": [
       "13.530477745798061"
      ]
     },
     "execution_count": 1449,
     "metadata": {},
     "output_type": "execute_result"
    }
   ],
   "source": [
    "param_range[31]"
   ]
  },
  {
   "cell_type": "code",
   "execution_count": 1450,
   "id": "065bca4d",
   "metadata": {},
   "outputs": [],
   "source": [
    "lm_ridge_best = Ridge(alpha= param_range[31])"
   ]
  },
  {
   "cell_type": "code",
   "execution_count": 1451,
   "id": "03c4f90b",
   "metadata": {},
   "outputs": [
    {
     "data": {
      "text/html": [
       "<style>#sk-container-id-48 {color: black;}#sk-container-id-48 pre{padding: 0;}#sk-container-id-48 div.sk-toggleable {background-color: white;}#sk-container-id-48 label.sk-toggleable__label {cursor: pointer;display: block;width: 100%;margin-bottom: 0;padding: 0.3em;box-sizing: border-box;text-align: center;}#sk-container-id-48 label.sk-toggleable__label-arrow:before {content: \"▸\";float: left;margin-right: 0.25em;color: #696969;}#sk-container-id-48 label.sk-toggleable__label-arrow:hover:before {color: black;}#sk-container-id-48 div.sk-estimator:hover label.sk-toggleable__label-arrow:before {color: black;}#sk-container-id-48 div.sk-toggleable__content {max-height: 0;max-width: 0;overflow: hidden;text-align: left;background-color: #f0f8ff;}#sk-container-id-48 div.sk-toggleable__content pre {margin: 0.2em;color: black;border-radius: 0.25em;background-color: #f0f8ff;}#sk-container-id-48 input.sk-toggleable__control:checked~div.sk-toggleable__content {max-height: 200px;max-width: 100%;overflow: auto;}#sk-container-id-48 input.sk-toggleable__control:checked~label.sk-toggleable__label-arrow:before {content: \"▾\";}#sk-container-id-48 div.sk-estimator input.sk-toggleable__control:checked~label.sk-toggleable__label {background-color: #d4ebff;}#sk-container-id-48 div.sk-label input.sk-toggleable__control:checked~label.sk-toggleable__label {background-color: #d4ebff;}#sk-container-id-48 input.sk-hidden--visually {border: 0;clip: rect(1px 1px 1px 1px);clip: rect(1px, 1px, 1px, 1px);height: 1px;margin: -1px;overflow: hidden;padding: 0;position: absolute;width: 1px;}#sk-container-id-48 div.sk-estimator {font-family: monospace;background-color: #f0f8ff;border: 1px dotted black;border-radius: 0.25em;box-sizing: border-box;margin-bottom: 0.5em;}#sk-container-id-48 div.sk-estimator:hover {background-color: #d4ebff;}#sk-container-id-48 div.sk-parallel-item::after {content: \"\";width: 100%;border-bottom: 1px solid gray;flex-grow: 1;}#sk-container-id-48 div.sk-label:hover label.sk-toggleable__label {background-color: #d4ebff;}#sk-container-id-48 div.sk-serial::before {content: \"\";position: absolute;border-left: 1px solid gray;box-sizing: border-box;top: 0;bottom: 0;left: 50%;z-index: 0;}#sk-container-id-48 div.sk-serial {display: flex;flex-direction: column;align-items: center;background-color: white;padding-right: 0.2em;padding-left: 0.2em;position: relative;}#sk-container-id-48 div.sk-item {position: relative;z-index: 1;}#sk-container-id-48 div.sk-parallel {display: flex;align-items: stretch;justify-content: center;background-color: white;position: relative;}#sk-container-id-48 div.sk-item::before, #sk-container-id-48 div.sk-parallel-item::before {content: \"\";position: absolute;border-left: 1px solid gray;box-sizing: border-box;top: 0;bottom: 0;left: 50%;z-index: -1;}#sk-container-id-48 div.sk-parallel-item {display: flex;flex-direction: column;z-index: 1;position: relative;background-color: white;}#sk-container-id-48 div.sk-parallel-item:first-child::after {align-self: flex-end;width: 50%;}#sk-container-id-48 div.sk-parallel-item:last-child::after {align-self: flex-start;width: 50%;}#sk-container-id-48 div.sk-parallel-item:only-child::after {width: 0;}#sk-container-id-48 div.sk-dashed-wrapped {border: 1px dashed gray;margin: 0 0.4em 0.5em 0.4em;box-sizing: border-box;padding-bottom: 0.4em;background-color: white;}#sk-container-id-48 div.sk-label label {font-family: monospace;font-weight: bold;display: inline-block;line-height: 1.2em;}#sk-container-id-48 div.sk-label-container {text-align: center;}#sk-container-id-48 div.sk-container {/* jupyter's `normalize.less` sets `[hidden] { display: none; }` but bootstrap.min.css set `[hidden] { display: none !important; }` so we also need the `!important` here to be able to override the default hidden behavior on the sphinx rendered scikit-learn.org. See: https://github.com/scikit-learn/scikit-learn/issues/21755 */display: inline-block !important;position: relative;}#sk-container-id-48 div.sk-text-repr-fallback {display: none;}</style><div id=\"sk-container-id-48\" class=\"sk-top-container\"><div class=\"sk-text-repr-fallback\"><pre>Ridge(alpha=13.530477745798061)</pre><b>In a Jupyter environment, please rerun this cell to show the HTML representation or trust the notebook. <br />On GitHub, the HTML representation is unable to render, please try loading this page with nbviewer.org.</b></div><div class=\"sk-container\" hidden><div class=\"sk-item\"><div class=\"sk-estimator sk-toggleable\"><input class=\"sk-toggleable__control sk-hidden--visually\" id=\"sk-estimator-id-48\" type=\"checkbox\" checked><label for=\"sk-estimator-id-48\" class=\"sk-toggleable__label sk-toggleable__label-arrow\">Ridge</label><div class=\"sk-toggleable__content\"><pre>Ridge(alpha=13.530477745798061)</pre></div></div></div></div></div>"
      ],
      "text/plain": [
       "Ridge(alpha=13.530477745798061)"
      ]
     },
     "execution_count": 1451,
     "metadata": {},
     "output_type": "execute_result"
    }
   ],
   "source": [
    "lm_ridge_best.fit(x_train_scale, y_train)"
   ]
  },
  {
   "cell_type": "code",
   "execution_count": 1439,
   "id": "579336fc",
   "metadata": {},
   "outputs": [],
   "source": [
    "# y_test.shape, lm_ridge_best.predict(x_train_scale).shape"
   ]
  },
  {
   "cell_type": "code",
   "execution_count": 1452,
   "id": "0b9f4b62",
   "metadata": {},
   "outputs": [
    {
     "ename": "ValueError",
     "evalue": "Found input variables with inconsistent numbers of samples: [102, 404]",
     "output_type": "error",
     "traceback": [
      "\u001b[1;31m---------------------------------------------------------------------------\u001b[0m",
      "\u001b[1;31mValueError\u001b[0m                                Traceback (most recent call last)",
      "\u001b[1;32m~\\AppData\\Local\\Temp\\ipykernel_4192\\2537351146.py\u001b[0m in \u001b[0;36m<module>\u001b[1;34m\u001b[0m\n\u001b[1;32m----> 1\u001b[1;33m \u001b[0mr2_score\u001b[0m\u001b[1;33m(\u001b[0m\u001b[0my_test\u001b[0m\u001b[1;33m,\u001b[0m \u001b[0mlm_ridge_best\u001b[0m\u001b[1;33m.\u001b[0m\u001b[0mpredict\u001b[0m\u001b[1;33m(\u001b[0m\u001b[0mx_train_scale\u001b[0m\u001b[1;33m)\u001b[0m\u001b[1;33m)\u001b[0m\u001b[1;33m\u001b[0m\u001b[1;33m\u001b[0m\u001b[0m\n\u001b[0m",
      "\u001b[1;32m~\\anaconda3\\lib\\site-packages\\sklearn\\utils\\_param_validation.py\u001b[0m in \u001b[0;36mwrapper\u001b[1;34m(*args, **kwargs)\u001b[0m\n\u001b[0;32m    212\u001b[0m                     )\n\u001b[0;32m    213\u001b[0m                 ):\n\u001b[1;32m--> 214\u001b[1;33m                     \u001b[1;32mreturn\u001b[0m \u001b[0mfunc\u001b[0m\u001b[1;33m(\u001b[0m\u001b[1;33m*\u001b[0m\u001b[0margs\u001b[0m\u001b[1;33m,\u001b[0m \u001b[1;33m**\u001b[0m\u001b[0mkwargs\u001b[0m\u001b[1;33m)\u001b[0m\u001b[1;33m\u001b[0m\u001b[1;33m\u001b[0m\u001b[0m\n\u001b[0m\u001b[0;32m    215\u001b[0m             \u001b[1;32mexcept\u001b[0m \u001b[0mInvalidParameterError\u001b[0m \u001b[1;32mas\u001b[0m \u001b[0me\u001b[0m\u001b[1;33m:\u001b[0m\u001b[1;33m\u001b[0m\u001b[1;33m\u001b[0m\u001b[0m\n\u001b[0;32m    216\u001b[0m                 \u001b[1;31m# When the function is just a wrapper around an estimator, we allow\u001b[0m\u001b[1;33m\u001b[0m\u001b[1;33m\u001b[0m\u001b[0m\n",
      "\u001b[1;32m~\\anaconda3\\lib\\site-packages\\sklearn\\metrics\\_regression.py\u001b[0m in \u001b[0;36mr2_score\u001b[1;34m(y_true, y_pred, sample_weight, multioutput, force_finite)\u001b[0m\n\u001b[0;32m    987\u001b[0m     \u001b[1;33m-\u001b[0m\u001b[0minf\u001b[0m\u001b[1;33m\u001b[0m\u001b[1;33m\u001b[0m\u001b[0m\n\u001b[0;32m    988\u001b[0m     \"\"\"\n\u001b[1;32m--> 989\u001b[1;33m     y_type, y_true, y_pred, multioutput = _check_reg_targets(\n\u001b[0m\u001b[0;32m    990\u001b[0m         \u001b[0my_true\u001b[0m\u001b[1;33m,\u001b[0m \u001b[0my_pred\u001b[0m\u001b[1;33m,\u001b[0m \u001b[0mmultioutput\u001b[0m\u001b[1;33m\u001b[0m\u001b[1;33m\u001b[0m\u001b[0m\n\u001b[0;32m    991\u001b[0m     )\n",
      "\u001b[1;32m~\\anaconda3\\lib\\site-packages\\sklearn\\metrics\\_regression.py\u001b[0m in \u001b[0;36m_check_reg_targets\u001b[1;34m(y_true, y_pred, multioutput, dtype)\u001b[0m\n\u001b[0;32m     97\u001b[0m         \u001b[0mcorrect\u001b[0m \u001b[0mkeyword\u001b[0m\u001b[1;33m.\u001b[0m\u001b[1;33m\u001b[0m\u001b[1;33m\u001b[0m\u001b[0m\n\u001b[0;32m     98\u001b[0m     \"\"\"\n\u001b[1;32m---> 99\u001b[1;33m     \u001b[0mcheck_consistent_length\u001b[0m\u001b[1;33m(\u001b[0m\u001b[0my_true\u001b[0m\u001b[1;33m,\u001b[0m \u001b[0my_pred\u001b[0m\u001b[1;33m)\u001b[0m\u001b[1;33m\u001b[0m\u001b[1;33m\u001b[0m\u001b[0m\n\u001b[0m\u001b[0;32m    100\u001b[0m     \u001b[0my_true\u001b[0m \u001b[1;33m=\u001b[0m \u001b[0mcheck_array\u001b[0m\u001b[1;33m(\u001b[0m\u001b[0my_true\u001b[0m\u001b[1;33m,\u001b[0m \u001b[0mensure_2d\u001b[0m\u001b[1;33m=\u001b[0m\u001b[1;32mFalse\u001b[0m\u001b[1;33m,\u001b[0m \u001b[0mdtype\u001b[0m\u001b[1;33m=\u001b[0m\u001b[0mdtype\u001b[0m\u001b[1;33m)\u001b[0m\u001b[1;33m\u001b[0m\u001b[1;33m\u001b[0m\u001b[0m\n\u001b[0;32m    101\u001b[0m     \u001b[0my_pred\u001b[0m \u001b[1;33m=\u001b[0m \u001b[0mcheck_array\u001b[0m\u001b[1;33m(\u001b[0m\u001b[0my_pred\u001b[0m\u001b[1;33m,\u001b[0m \u001b[0mensure_2d\u001b[0m\u001b[1;33m=\u001b[0m\u001b[1;32mFalse\u001b[0m\u001b[1;33m,\u001b[0m \u001b[0mdtype\u001b[0m\u001b[1;33m=\u001b[0m\u001b[0mdtype\u001b[0m\u001b[1;33m)\u001b[0m\u001b[1;33m\u001b[0m\u001b[1;33m\u001b[0m\u001b[0m\n",
      "\u001b[1;32m~\\anaconda3\\lib\\site-packages\\sklearn\\utils\\validation.py\u001b[0m in \u001b[0;36mcheck_consistent_length\u001b[1;34m(*arrays)\u001b[0m\n\u001b[0;32m    405\u001b[0m     \u001b[0muniques\u001b[0m \u001b[1;33m=\u001b[0m \u001b[0mnp\u001b[0m\u001b[1;33m.\u001b[0m\u001b[0munique\u001b[0m\u001b[1;33m(\u001b[0m\u001b[0mlengths\u001b[0m\u001b[1;33m)\u001b[0m\u001b[1;33m\u001b[0m\u001b[1;33m\u001b[0m\u001b[0m\n\u001b[0;32m    406\u001b[0m     \u001b[1;32mif\u001b[0m \u001b[0mlen\u001b[0m\u001b[1;33m(\u001b[0m\u001b[0muniques\u001b[0m\u001b[1;33m)\u001b[0m \u001b[1;33m>\u001b[0m \u001b[1;36m1\u001b[0m\u001b[1;33m:\u001b[0m\u001b[1;33m\u001b[0m\u001b[1;33m\u001b[0m\u001b[0m\n\u001b[1;32m--> 407\u001b[1;33m         raise ValueError(\n\u001b[0m\u001b[0;32m    408\u001b[0m             \u001b[1;34m\"Found input variables with inconsistent numbers of samples: %r\"\u001b[0m\u001b[1;33m\u001b[0m\u001b[1;33m\u001b[0m\u001b[0m\n\u001b[0;32m    409\u001b[0m             \u001b[1;33m%\u001b[0m \u001b[1;33m[\u001b[0m\u001b[0mint\u001b[0m\u001b[1;33m(\u001b[0m\u001b[0ml\u001b[0m\u001b[1;33m)\u001b[0m \u001b[1;32mfor\u001b[0m \u001b[0ml\u001b[0m \u001b[1;32min\u001b[0m \u001b[0mlengths\u001b[0m\u001b[1;33m]\u001b[0m\u001b[1;33m\u001b[0m\u001b[1;33m\u001b[0m\u001b[0m\n",
      "\u001b[1;31mValueError\u001b[0m: Found input variables with inconsistent numbers of samples: [102, 404]"
     ]
    }
   ],
   "source": [
    "r2_score(y_test, lm_ridge_best.predict(x_train_scale))"
   ]
  },
  {
   "cell_type": "code",
   "execution_count": null,
   "id": "3a2649d7",
   "metadata": {},
   "outputs": [],
   "source": []
  },
  {
   "cell_type": "code",
   "execution_count": null,
   "id": "fb9e49f1",
   "metadata": {},
   "outputs": [],
   "source": []
  }
 ],
 "metadata": {
  "kernelspec": {
   "display_name": "Python 3 (ipykernel)",
   "language": "python",
   "name": "python3"
  },
  "language_info": {
   "codemirror_mode": {
    "name": "ipython",
    "version": 3
   },
   "file_extension": ".py",
   "mimetype": "text/x-python",
   "name": "python",
   "nbconvert_exporter": "python",
   "pygments_lexer": "ipython3",
   "version": "3.9.13"
  }
 },
 "nbformat": 4,
 "nbformat_minor": 5
}
